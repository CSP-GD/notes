{
  "nbformat": 4,
  "nbformat_minor": 0,
  "metadata": {
    "colab": {
      "name": "00",
      "provenance": []
    },
    "kernelspec": {
      "name": "python3",
      "display_name": "Python 3"
    },
    "accelerator": "GPU"
  },
  "cells": [
    {
      "cell_type": "markdown",
      "metadata": {
        "id": "rAAUCYst0Cue",
        "colab_type": "text"
      },
      "source": [
        "<a href=\"https://colab.research.google.com/github/CSP-GD/notes/blob/master/practice/library/tensorflow/%E5%9C%A8colab%E9%96%8B%E5%A7%8B%E5%AD%B8%E8%B5%B7tf/00/00.ipynb\">\n",
        "  <img src=\"https://colab.research.google.com/assets/colab-badge.svg\" alt=\"Open In Colab\"/>\n",
        "</a>"
      ]
    },
    {
      "cell_type": "markdown",
      "metadata": {
        "id": "bbuqDGE5m3Oa",
        "colab_type": "text"
      },
      "source": [
        "# TensorFlow 2.0 學習筆記--開篇 \n",
        "\n",
        "> 這系列筆記是由某位萌新一時興起，  \n",
        "> 從 tensorflow 2.0 去學習 DL的角度所編寫而成，  \n",
        "> 希望能帶給各位讀者一些小小的收穫。  \n",
        "> by.萌新  \n",
        "> \n",
        "> ps. 本系列會不定期的棄坑與補坑  \n",
        "> pps. 想從 keras 開始的讀者請去 [此處](https://www.google.com/?hl=zh-tw) 尋找中意的教學。 "
      ]
    },
    {
      "cell_type": "markdown",
      "metadata": {
        "id": "jpTMX5iTqlAu",
        "colab_type": "text"
      },
      "source": [
        "## 什麼是 TensorFlow ?\n",
        "\n",
        "1. 高維陣列運算函示庫\n",
        "2. 自動微分機\n"
      ]
    },
    {
      "cell_type": "markdown",
      "metadata": {
        "colab_type": "text",
        "id": "DjSTWEQGNUrU"
      },
      "source": [
        "使用 Tensorflow v2  \n",
        "導入 Tensorflow 與 Numpy"
      ]
    },
    {
      "cell_type": "code",
      "metadata": {
        "id": "zBz0ob_Fq53F",
        "colab_type": "code",
        "outputId": "6b217dc2-f6a9-4ad6-c1e2-fe4982ed392e",
        "colab": {
          "base_uri": "https://localhost:8080/",
          "height": 52
        }
      },
      "source": [
        "%tensorflow_version 2.x\n",
        "import tensorflow as tf\n",
        "import numpy as np\n",
        "\n",
        "print(tf.__version__)\n",
        "print(np.__version__)"
      ],
      "execution_count": 1,
      "outputs": [
        {
          "output_type": "stream",
          "text": [
            "2.2.0-rc2\n",
            "1.18.2\n"
          ],
          "name": "stdout"
        }
      ]
    },
    {
      "cell_type": "code",
      "metadata": {
        "id": "zfsz8y-04FEh",
        "colab_type": "code",
        "colab": {}
      },
      "source": [
        ""
      ],
      "execution_count": 0,
      "outputs": []
    },
    {
      "cell_type": "code",
      "metadata": {
        "id": "1-CHGPZU60qZ",
        "colab_type": "code",
        "colab": {}
      },
      "source": [
        "def generate_data(data_num, answer):\n",
        "    x = tf.random.normal((data_num,1))\n",
        "    y = tf.multiply(x, answer)\n",
        "    return [x,y]\n",
        "\n",
        "@tf.function\n",
        "def model(w,x):\n",
        "    return tf.matmul(x, w)\n",
        "\n",
        "def train(model, w, x, y, epoch, lr=0.001):\n",
        "    optimizer = tf.optimizers.Adamax(lr)\n",
        "    for i in range(epoch):\n",
        "        with tf.GradientTape() as tape:\n",
        "            y_pred = model(w, x)\n",
        "            loss = tf.losses.mean_squared_error(y_pred=y_pred, y_true=y)\n",
        "        grads = tape.gradient(loss, [w])\n",
        "        # print(grads)\n",
        "        optimizer.apply_gradients(zip(grads, [w]))\n"
      ],
      "execution_count": 0,
      "outputs": []
    },
    {
      "cell_type": "code",
      "metadata": {
        "id": "choXx1oXnZkz",
        "colab_type": "code",
        "outputId": "33208524-8f1d-453b-9104-60066c2b4aac",
        "colab": {
          "base_uri": "https://localhost:8080/",
          "height": 140
        }
      },
      "source": [
        "w = tf.Variable(tf.random.normal([1,1]))\n",
        "[x, y] = generate_data(10000, 20)\n",
        "\n",
        "print(w)\n",
        "\n",
        "for i in range(5):\n",
        "    train(model, w, x, y, 100, 0.1)\n",
        "    print(tf.reduce_mean(tf.losses.mean_squared_error(y_pred=model(w,x), y_true=y)))\n",
        "\n",
        "print(w)"
      ],
      "execution_count": 15,
      "outputs": [
        {
          "output_type": "stream",
          "text": [
            "<tf.Variable 'Variable:0' shape=(1, 1) dtype=float32, numpy=array([[-0.18855554]], dtype=float32)>\n",
            "tf.Tensor(140.75114, shape=(), dtype=float32)\n",
            "tf.Tensor(20.018663, shape=(), dtype=float32)\n",
            "tf.Tensor(0.030506138, shape=(), dtype=float32)\n",
            "tf.Tensor(7.113437e-08, shape=(), dtype=float32)\n",
            "tf.Tensor(6.909233e-08, shape=(), dtype=float32)\n",
            "<tf.Variable 'Variable:0' shape=(1, 1) dtype=float32, numpy=array([[20.00026]], dtype=float32)>\n"
          ],
          "name": "stdout"
        }
      ]
    }
  ]
}