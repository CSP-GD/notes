{
  "nbformat": 4,
  "nbformat_minor": 0,
  "metadata": {
    "colab": {
      "name": "00",
      "provenance": [],
      "toc_visible": true
    },
    "kernelspec": {
      "name": "python3",
      "display_name": "Python 3"
    },
    "accelerator": "GPU"
  },
  "cells": [
    {
      "cell_type": "markdown",
      "metadata": {
        "id": "rAAUCYst0Cue",
        "colab_type": "text"
      },
      "source": [
        "<a href=\"https://colab.research.google.com/github/CSP-GD/notes/blob/master/practice/tool/colab/%E5%BE%9Ecolab%E9%96%8B%E5%A7%8B%E5%AD%B8%E8%B5%B7dl/00/00.ipynb\">\n",
        "  <img src=\"https://colab.research.google.com/assets/colab-badge.svg\" alt=\"Open In Colab\"/>\n",
        "</a>"
      ]
    },
    {
      "cell_type": "markdown",
      "metadata": {
        "colab_type": "text",
        "id": "DjSTWEQGNUrU"
      },
      "source": [
        "使用 Tensorflow v2  \n",
        "導入 Tensorflow 與 Numpy"
      ]
    },
    {
      "cell_type": "code",
      "metadata": {
        "id": "zBz0ob_Fq53F",
        "colab_type": "code",
        "outputId": "52d21da4-b937-48e5-d7bc-0a3c398a83d3",
        "colab": {
          "base_uri": "https://localhost:8080/",
          "height": 70
        }
      },
      "source": [
        "%tensorflow_version 2.x\n",
        "import tensorflow as tf\n",
        "import numpy as np\n",
        "\n",
        "print(tf.__version__)\n",
        "print(np.__version__)"
      ],
      "execution_count": 1,
      "outputs": [
        {
          "output_type": "stream",
          "text": [
            "TensorFlow 2.x selected.\n",
            "2.1.0\n",
            "1.17.5\n"
          ],
          "name": "stdout"
        }
      ]
    },
    {
      "cell_type": "code",
      "metadata": {
        "id": "zfsz8y-04FEh",
        "colab_type": "code",
        "outputId": "bdbf9a92-040c-4f46-af43-9f0d6276473f",
        "colab": {
          "base_uri": "https://localhost:8080/",
          "height": 70
        }
      },
      "source": [
        "a = tf.constant([0,1,2,3],shape=[2,2])\n",
        "b = tf.constant([2,5,2,7],shape=[2,2])\n",
        "print(a+b)"
      ],
      "execution_count": 25,
      "outputs": [
        {
          "output_type": "stream",
          "text": [
            "tf.Tensor(\n",
            "[[ 2  6]\n",
            " [ 4 10]], shape=(2, 2), dtype=int32)\n"
          ],
          "name": "stdout"
        }
      ]
    },
    {
      "cell_type": "code",
      "metadata": {
        "id": "1-CHGPZU60qZ",
        "colab_type": "code",
        "colab": {
          "base_uri": "https://localhost:8080/",
          "height": 70
        },
        "outputId": "64d0a621-cb56-479c-bcc5-540b555993a6"
      },
      "source": [
        "@tf.function\n",
        "def model(ws:[tf.Variable], x:tf.Tensor):\n",
        "    y_pred = x\n",
        "    for w in ws:\n",
        "        y_pred = tf.matmul(w, y_pred)\n",
        "    return y_pred\n",
        "\n",
        "optimizer = tf.optimizers.Adam()\n",
        "\n",
        "w = tf.Variable([[1.], [2.]])\n",
        "x = tf.constant([[3., 4.]])\n",
        "y_true = tf.multiply(x, 2.)\n",
        "\n",
        "# i=10\n",
        "# while(--i):\n",
        "#     with tf.GradientTape() as tape:\n",
        "#         loss = tf.losses.mean_squared_error(y_true,model(x,[w]))\n",
        "\n",
        "#     gradients = tape.gradient(loss, [w])\n",
        "#     optimizer.apply_gradients(zip(gradients, [w]))\n",
        "\n",
        "# print(w)\n",
        "model([w], x)"
      ],
      "execution_count": 24,
      "outputs": [
        {
          "output_type": "execute_result",
          "data": {
            "text/plain": [
              "<tf.Tensor: shape=(2, 2), dtype=float32, numpy=\n",
              "array([[3., 4.],\n",
              "       [6., 8.]], dtype=float32)>"
            ]
          },
          "metadata": {
            "tags": []
          },
          "execution_count": 24
        }
      ]
    }
  ]
}