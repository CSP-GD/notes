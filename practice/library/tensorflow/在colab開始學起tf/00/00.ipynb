{
  "nbformat": 4,
  "nbformat_minor": 0,
  "metadata": {
    "colab": {
      "name": "00",
      "provenance": []
    },
    "kernelspec": {
      "name": "python3",
      "display_name": "Python 3"
    },
    "accelerator": "GPU"
  },
  "cells": [
    {
      "cell_type": "markdown",
      "metadata": {
        "id": "rAAUCYst0Cue",
        "colab_type": "text"
      },
      "source": [
        "<a href=\"https://colab.research.google.com/github/CSP-GD/notes/blob/master/practice/library/tensorflow/%E5%9C%A8colab%E9%96%8B%E5%A7%8B%E5%AD%B8%E8%B5%B7tf/00/00.ipynb\">\n",
        "  <img src=\"https://colab.research.google.com/assets/colab-badge.svg\" alt=\"Open In Colab\"/>\n",
        "</a>"
      ]
    },
    {
      "cell_type": "markdown",
      "metadata": {
        "colab_type": "text",
        "id": "DjSTWEQGNUrU"
      },
      "source": [
        "使用 Tensorflow v2  \n",
        "導入 Tensorflow 與 Numpy"
      ]
    },
    {
      "cell_type": "code",
      "metadata": {
        "id": "zBz0ob_Fq53F",
        "colab_type": "code",
        "outputId": "732b803c-9b5d-4e07-8876-0ba2b546fe1c",
        "colab": {
          "base_uri": "https://localhost:8080/",
          "height": 52
        }
      },
      "source": [
        "%tensorflow_version 2.x\n",
        "import tensorflow as tf\n",
        "import numpy as np\n",
        "\n",
        "print(tf.__version__)\n",
        "print(np.__version__)"
      ],
      "execution_count": 1,
      "outputs": [
        {
          "output_type": "stream",
          "text": [
            "2.2.0-rc2\n",
            "1.18.2\n"
          ],
          "name": "stdout"
        }
      ]
    },
    {
      "cell_type": "code",
      "metadata": {
        "id": "zfsz8y-04FEh",
        "colab_type": "code",
        "outputId": "b7e423a7-ee7f-4b47-c172-bda1c46b4849",
        "colab": {
          "base_uri": "https://localhost:8080/",
          "height": 34
        }
      },
      "source": [
        ""
      ],
      "execution_count": 32,
      "outputs": [
        {
          "output_type": "execute_result",
          "data": {
            "text/plain": [
              "<tf.Variable 'Variable:0' shape=(1,) dtype=float32, numpy=array([0.08665041], dtype=float32)>"
            ]
          },
          "metadata": {
            "tags": []
          },
          "execution_count": 32
        }
      ]
    },
    {
      "cell_type": "code",
      "metadata": {
        "id": "1-CHGPZU60qZ",
        "colab_type": "code",
        "colab": {}
      },
      "source": [
        "def generate_data(data_num, answer):\n",
        "    x = tf.random.normal((data_num,1))\n",
        "    y = tf.multiply(x, answer)\n",
        "    return [x,y]\n",
        "\n",
        "@tf.function\n",
        "def model(w,x):\n",
        "    return tf.multiply(w, x)\n",
        "\n",
        "def train(model, w, x, y, epoch, lr=0.001):\n",
        "    optimizer = tf.optimizers.Adamax(lr)\n",
        "    for i in range(epoch):\n",
        "        with tf.GradientTape() as tape:\n",
        "            y_pred = model(w, x)\n",
        "            loss = tf.losses.mean_squared_error(y_pred=y_pred, y_true=y)\n",
        "        grads = tape.gradient(loss, [w])\n",
        "        # print(grads)\n",
        "        optimizer.apply_gradients(zip(grads, [w]))\n"
      ],
      "execution_count": 0,
      "outputs": []
    },
    {
      "cell_type": "code",
      "metadata": {
        "id": "choXx1oXnZkz",
        "colab_type": "code",
        "colab": {
          "base_uri": "https://localhost:8080/",
          "height": 140
        },
        "outputId": "1ac4c558-c95c-489b-996d-782183113eed"
      },
      "source": [
        "w = tf.Variable(tf.random.normal([1]))\n",
        "[x, y] = generate_data(10000, 20)\n",
        "\n",
        "print(tf.reduce_mean(tf.losses.mean_squared_error(y_pred=model(w,x), y_true=y)))\n",
        "\n",
        "for i in range(5):\n",
        "    train(model, w, x, y, 100, 0.1)\n",
        "    print(tf.reduce_mean(tf.losses.mean_squared_error(y_pred=model(w,x), y_true=y)))\n",
        "\n",
        "print(w)"
      ],
      "execution_count": 46,
      "outputs": [
        {
          "output_type": "stream",
          "text": [
            "tf.Tensor(377.90637, shape=(), dtype=float32)\n",
            "tf.Tensor(120.86247, shape=(), dtype=float32)\n",
            "tf.Tensor(14.766934, shape=(), dtype=float32)\n",
            "tf.Tensor(0.0033662564, shape=(), dtype=float32)\n",
            "tf.Tensor(7.214745e-10, shape=(), dtype=float32)\n",
            "tf.Tensor(7.5189206e-08, shape=(), dtype=float32)\n",
            "<tf.Variable 'Variable:0' shape=(1,) dtype=float32, numpy=array([19.999727], dtype=float32)>\n"
          ],
          "name": "stdout"
        }
      ]
    }
  ]
}