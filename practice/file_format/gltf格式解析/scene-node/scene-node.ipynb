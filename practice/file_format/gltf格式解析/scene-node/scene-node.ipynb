{
  "nbformat": 4,
  "nbformat_minor": 0,
  "metadata": {
    "colab": {
      "name": "scene-node.ipynb",
      "provenance": [],
      "toc_visible": true
    },
    "kernelspec": {
      "name": "python3",
      "display_name": "Python 3"
    },
    "accelerator": "GPU"
  },
  "cells": [
    {
      "cell_type": "markdown",
      "metadata": {
        "id": "uDPDN1lSMl5q",
        "colab_type": "text"
      },
      "source": [
        "# GLTF 格式教學 Scene & Node 篇"
      ]
    },
    {
      "cell_type": "markdown",
      "metadata": {
        "id": "wB5dVCbFXVdh",
        "colab_type": "text"
      },
      "source": [
        "<a href=\"https://colab.research.google.com/github/CSP-GD/notes/blob/master/practice/file_format/gltf%E6%A0%BC%E5%BC%8F%E8%A7%A3%E6%9E%90/scene-node/scene-node.ipynb\">\n",
        "  <img src=\"https://colab.research.google.com/assets/colab-badge.svg\" alt=\"Open In Colab\"/>\n",
        "</a>\n",
        "\n",
        "[`Open in observablehq`](https://observablehq.com/@toonnyy8/gltf-scene-node/9)"
      ]
    },
    {
      "cell_type": "markdown",
      "metadata": {
        "id": "GrSb0MlrFVpc",
        "colab_type": "text"
      },
      "source": [
        "![圖 1. scenes, nodes \\[1\\]](https://github.com/CSP-GD/notes/raw/master/practice/file_format/gltf%E6%A0%BC%E5%BC%8F%E8%A7%A3%E6%9E%90/scene-node/gltfOverview-2.0.0b-scene-node.png)\n",
        "\n",
        "圖 1. scenes, nodes \\[1\\]"
      ]
    },
    {
      "cell_type": "markdown",
      "metadata": {
        "id": "tRnc8CmU8vRl",
        "colab_type": "text"
      },
      "source": [
        "## 簡介"
      ]
    },
    {
      "cell_type": "markdown",
      "metadata": {
        "id": "A96YlEl999Yx",
        "colab_type": "text"
      },
      "source": [
        "### Scene 簡介"
      ]
    },
    {
      "cell_type": "markdown",
      "metadata": {
        "id": "IvWTJtvn87EL",
        "colab_type": "text"
      },
      "source": [
        "glTF 中可以儲存多個場景，而每個場景都會存在「scenes」屬性中，  \n",
        "由「scene」屬性指向預設的場景，而「scenes」內會有「nodes」，  \n",
        "表示每個場景所擁有的。"
      ]
    },
    {
      "cell_type": "markdown",
      "metadata": {
        "id": "FpK18ZA68_Y1",
        "colab_type": "text"
      },
      "source": [
        "### Node 簡介"
      ]
    },
    {
      "cell_type": "markdown",
      "metadata": {
        "id": "vLqT2uQc-HVJ",
        "colab_type": "text"
      },
      "source": [
        "每個 node 都可以當成是場景中的一個物件，  \n",
        "每個物件具有自己的名稱「name」，  \n",
        "這些物件有可能是「mesh」、「skin」、「camera」、「light」等等，  \n",
        "而物件之間還具有親子關係，並利用「children」用來記錄哪些 node 是自己的子代，  \n",
        "最後還有「matrix」來記錄此物件的初始姿態。  \n",
        "> ps.「matrix」可拆分成  \n",
        "> 1. 代表偏移的「translation」\n",
        "> 2. 代表旋轉的「rotation」\n",
        "> 3. 代表縮放的「scale」"
      ]
    },
    {
      "cell_type": "markdown",
      "metadata": {
        "id": "iJZE-jGf-JF4",
        "colab_type": "text"
      },
      "source": [
        "## 正式開始"
      ]
    },
    {
      "cell_type": "markdown",
      "metadata": {
        "id": "_Y8c5F6m-Kbp",
        "colab_type": "text"
      },
      "source": [
        "### 載入 glTF_tools"
      ]
    },
    {
      "cell_type": "code",
      "metadata": {
        "id": "xNujnE83-xB0",
        "colab_type": "code",
        "outputId": "4a6c8c8b-aa78-4df0-b3a6-e6c8d351dbf3",
        "colab": {
          "base_uri": "https://localhost:8080/",
          "height": 336
        }
      },
      "source": [
        "!wget https://github.com/CSP-GD/notes/raw/master/practice/file_format/gltf%E6%A0%BC%E5%BC%8F%E8%A7%A3%E6%9E%90/gltf-tools.ipynb -O gltf-tools.ipynb\n",
        "%run ./gltf-tools.ipynb"
      ],
      "execution_count": 1,
      "outputs": [
        {
          "output_type": "stream",
          "text": [
            "--2020-04-07 10:46:18--  https://github.com/CSP-GD/notes/raw/master/practice/file_format/gltf%E6%A0%BC%E5%BC%8F%E8%A7%A3%E6%9E%90/gltf-tools.ipynb\n",
            "Resolving github.com (github.com)... 140.82.113.3\n",
            "Connecting to github.com (github.com)|140.82.113.3|:443... connected.\n",
            "HTTP request sent, awaiting response... 302 Found\n",
            "Location: https://raw.githubusercontent.com/CSP-GD/notes/master/practice/file_format/gltf%E6%A0%BC%E5%BC%8F%E8%A7%A3%E6%9E%90/gltf-tools.ipynb [following]\n",
            "--2020-04-07 10:46:18--  https://raw.githubusercontent.com/CSP-GD/notes/master/practice/file_format/gltf%E6%A0%BC%E5%BC%8F%E8%A7%A3%E6%9E%90/gltf-tools.ipynb\n",
            "Resolving raw.githubusercontent.com (raw.githubusercontent.com)... 151.101.0.133, 151.101.64.133, 151.101.128.133, ...\n",
            "Connecting to raw.githubusercontent.com (raw.githubusercontent.com)|151.101.0.133|:443... connected.\n",
            "HTTP request sent, awaiting response... 200 OK\n",
            "Length: 3699 (3.6K) [text/plain]\n",
            "Saving to: ‘gltf-tools.ipynb’\n",
            "\n",
            "\rgltf-tools.ipynb      0%[                    ]       0  --.-KB/s               \rgltf-tools.ipynb    100%[===================>]   3.61K  --.-KB/s    in 0s      \n",
            "\n",
            "2020-04-07 10:46:18 (58.8 MB/s) - ‘gltf-tools.ipynb’ saved [3699/3699]\n",
            "\n",
            "glTF_tools is loaded\n"
          ],
          "name": "stdout"
        }
      ]
    },
    {
      "cell_type": "markdown",
      "metadata": {
        "id": "Iaw0gWIIQass",
        "colab_type": "text"
      },
      "source": [
        "## 載入檔案"
      ]
    },
    {
      "cell_type": "code",
      "metadata": {
        "id": "blTAX0xFF4_V",
        "colab_type": "code",
        "outputId": "971eef81-1c8e-4df3-88b6-e91ca426af0c",
        "colab": {
          "base_uri": "https://localhost:8080/",
          "height": 318
        }
      },
      "source": [
        "!wget https://github.com/CSP-GD/notes/raw/master/practice/file_format/gltf%E6%A0%BC%E5%BC%8F%E8%A7%A3%E6%9E%90/scene-node/cube-channel.glb -O cube-channel.glb\n",
        "glb_file = open('./cube-channel.glb', 'rb')\n",
        "glb_bytes = glb_file.read()\n",
        "model = glTF_tools.glb_loader(glb_bytes)"
      ],
      "execution_count": 2,
      "outputs": [
        {
          "output_type": "stream",
          "text": [
            "--2020-04-07 10:46:44--  https://github.com/CSP-GD/notes/raw/master/practice/file_format/gltf%E6%A0%BC%E5%BC%8F%E8%A7%A3%E6%9E%90/scene-node/cube-channel.glb\n",
            "Resolving github.com (github.com)... 140.82.113.3\n",
            "Connecting to github.com (github.com)|140.82.113.3|:443... connected.\n",
            "HTTP request sent, awaiting response... 302 Found\n",
            "Location: https://raw.githubusercontent.com/CSP-GD/notes/master/practice/file_format/gltf%E6%A0%BC%E5%BC%8F%E8%A7%A3%E6%9E%90/scene-node/cube-channel.glb [following]\n",
            "--2020-04-07 10:46:44--  https://raw.githubusercontent.com/CSP-GD/notes/master/practice/file_format/gltf%E6%A0%BC%E5%BC%8F%E8%A7%A3%E6%9E%90/scene-node/cube-channel.glb\n",
            "Resolving raw.githubusercontent.com (raw.githubusercontent.com)... 151.101.0.133, 151.101.64.133, 151.101.128.133, ...\n",
            "Connecting to raw.githubusercontent.com (raw.githubusercontent.com)|151.101.0.133|:443... connected.\n",
            "HTTP request sent, awaiting response... 200 OK\n",
            "Length: 4544 (4.4K) [application/octet-stream]\n",
            "Saving to: ‘cube-channel.glb’\n",
            "\n",
            "\rcube-channel.glb      0%[                    ]       0  --.-KB/s               \rcube-channel.glb    100%[===================>]   4.44K  --.-KB/s    in 0s      \n",
            "\n",
            "2020-04-07 10:46:44 (82.0 MB/s) - ‘cube-channel.glb’ saved [4544/4544]\n",
            "\n"
          ],
          "name": "stdout"
        }
      ]
    },
    {
      "cell_type": "markdown",
      "metadata": {
        "id": "GCjgwXhWMCI-",
        "colab_type": "text"
      },
      "source": [
        "## 參考"
      ]
    },
    {
      "cell_type": "markdown",
      "metadata": {
        "id": "MYLZSKtEMO9S",
        "colab_type": "text"
      },
      "source": [
        "1. https://github.com/KhronosGroup/glTF"
      ]
    }
  ]
}