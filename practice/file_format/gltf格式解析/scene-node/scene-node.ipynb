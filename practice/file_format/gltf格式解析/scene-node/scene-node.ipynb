{
  "nbformat": 4,
  "nbformat_minor": 0,
  "metadata": {
    "colab": {
      "name": "scene-node.ipynb",
      "provenance": [],
      "toc_visible": true
    },
    "kernelspec": {
      "name": "python3",
      "display_name": "Python 3"
    },
    "accelerator": "GPU"
  },
  "cells": [
    {
      "cell_type": "markdown",
      "metadata": {
        "id": "uDPDN1lSMl5q",
        "colab_type": "text"
      },
      "source": [
        "# GLTF 格式教學 Scene & Node 篇"
      ]
    },
    {
      "cell_type": "markdown",
      "metadata": {
        "id": "wB5dVCbFXVdh",
        "colab_type": "text"
      },
      "source": [
        "<a href=\"https://colab.research.google.com/github/CSP-GD/notes/blob/master/practice/file_format/gltf%E6%A0%BC%E5%BC%8F%E8%A7%A3%E6%9E%90/scene-node/scene-node.ipynb\">\n",
        "  <img src=\"https://colab.research.google.com/assets/colab-badge.svg\" alt=\"Open In Colab\"/>\n",
        "</a>\n",
        "\n",
        "[`Open in observablehq`](https://observablehq.com/@toonnyy8/gltf-scene-node/9)"
      ]
    },
    {
      "cell_type": "markdown",
      "metadata": {
        "id": "GrSb0MlrFVpc",
        "colab_type": "text"
      },
      "source": [
        "![圖 1. scenes, nodes \\[1\\]](https://github.com/CSP-GD/notes/raw/master/practice/file_format/gltf%E6%A0%BC%E5%BC%8F%E8%A7%A3%E6%9E%90/scene-node/gltfOverview-2.0.0b-scene-node.png)\n",
        "\n",
        "圖 1. scenes, nodes \\[1\\]"
      ]
    },
    {
      "cell_type": "markdown",
      "metadata": {
        "id": "tRnc8CmU8vRl",
        "colab_type": "text"
      },
      "source": [
        "## 簡介"
      ]
    },
    {
      "cell_type": "markdown",
      "metadata": {
        "id": "A96YlEl999Yx",
        "colab_type": "text"
      },
      "source": [
        "### Scene 簡介"
      ]
    },
    {
      "cell_type": "markdown",
      "metadata": {
        "id": "IvWTJtvn87EL",
        "colab_type": "text"
      },
      "source": [
        "glTF 中可以儲存多個場景，而每個場景都會存在「scenes」屬性中，  \n",
        "由「scene」屬性指向預設的場景，而「scenes」內會有「nodes」，  \n",
        "表示每個場景所擁有的。"
      ]
    },
    {
      "cell_type": "markdown",
      "metadata": {
        "id": "FpK18ZA68_Y1",
        "colab_type": "text"
      },
      "source": [
        "### Node 簡介"
      ]
    },
    {
      "cell_type": "markdown",
      "metadata": {
        "id": "vLqT2uQc-HVJ",
        "colab_type": "text"
      },
      "source": [
        "每個 node 都可以當成是場景中的一個物件，  \n",
        "每個物件具有自己的名稱「name」，  \n",
        "這些物件有可能是「mesh」、「skin」、「camera」、「light」等等，  \n",
        "而物件之間還具有親子關係，並利用「children」用來記錄哪些 node 是自己的子代，  \n",
        "最後還有「matrix」來記錄此物件的初始姿態。  \n",
        "> ps.「matrix」可拆分成  \n",
        "> 1. 代表偏移的「translation」\n",
        "> 2. 代表旋轉的「rotation」\n",
        "> 3. 代表縮放的「scale」"
      ]
    },
    {
      "cell_type": "markdown",
      "metadata": {
        "id": "iJZE-jGf-JF4",
        "colab_type": "text"
      },
      "source": [
        "## 正式開始"
      ]
    },
    {
      "cell_type": "markdown",
      "metadata": {
        "id": "_Y8c5F6m-Kbp",
        "colab_type": "text"
      },
      "source": [
        "### 載入 glTF_tools"
      ]
    },
    {
      "cell_type": "code",
      "metadata": {
        "id": "xNujnE83-xB0",
        "colab_type": "code",
        "outputId": "ec210f1a-940e-43a5-b1d3-9463d2186c4c",
        "colab": {
          "base_uri": "https://localhost:8080/",
          "height": 336
        }
      },
      "source": [
        "!wget https://github.com/CSP-GD/notes/raw/master/practice/file_format/gltf%E6%A0%BC%E5%BC%8F%E8%A7%A3%E6%9E%90/gltf-tools.ipynb -O gltf-tools.ipynb\n",
        "%run ./gltf-tools.ipynb"
      ],
      "execution_count": 56,
      "outputs": [
        {
          "output_type": "stream",
          "text": [
            "--2020-04-07 15:14:27--  https://github.com/CSP-GD/notes/raw/master/practice/file_format/gltf%E6%A0%BC%E5%BC%8F%E8%A7%A3%E6%9E%90/gltf-tools.ipynb\n",
            "Resolving github.com (github.com)... 140.82.114.3\n",
            "Connecting to github.com (github.com)|140.82.114.3|:443... connected.\n",
            "HTTP request sent, awaiting response... 302 Found\n",
            "Location: https://raw.githubusercontent.com/CSP-GD/notes/master/practice/file_format/gltf%E6%A0%BC%E5%BC%8F%E8%A7%A3%E6%9E%90/gltf-tools.ipynb [following]\n",
            "--2020-04-07 15:14:27--  https://raw.githubusercontent.com/CSP-GD/notes/master/practice/file_format/gltf%E6%A0%BC%E5%BC%8F%E8%A7%A3%E6%9E%90/gltf-tools.ipynb\n",
            "Resolving raw.githubusercontent.com (raw.githubusercontent.com)... 151.101.0.133, 151.101.64.133, 151.101.128.133, ...\n",
            "Connecting to raw.githubusercontent.com (raw.githubusercontent.com)|151.101.0.133|:443... connected.\n",
            "HTTP request sent, awaiting response... 200 OK\n",
            "Length: 5549 (5.4K) [text/plain]\n",
            "Saving to: ‘gltf-tools.ipynb’\n",
            "\n",
            "gltf-tools.ipynb    100%[===================>]   5.42K  --.-KB/s    in 0s      \n",
            "\n",
            "2020-04-07 15:14:27 (62.6 MB/s) - ‘gltf-tools.ipynb’ saved [5549/5549]\n",
            "\n",
            "glTF_tools is loaded\n"
          ],
          "name": "stdout"
        }
      ]
    },
    {
      "cell_type": "markdown",
      "metadata": {
        "id": "Iaw0gWIIQass",
        "colab_type": "text"
      },
      "source": [
        "## 載入檔案"
      ]
    },
    {
      "cell_type": "code",
      "metadata": {
        "id": "blTAX0xFF4_V",
        "colab_type": "code",
        "outputId": "48d36b5d-8653-4c91-e63b-fda055b78e75",
        "colab": {
          "base_uri": "https://localhost:8080/",
          "height": 318
        }
      },
      "source": [
        "!wget https://github.com/CSP-GD/notes/raw/master/practice/file_format/gltf%E6%A0%BC%E5%BC%8F%E8%A7%A3%E6%9E%90/scene-node/cube-channel.glb -O cube-channel.glb\n",
        "glb_file = open('./cube-channel.glb', 'rb')\n",
        "glb_bytes = glb_file.read()\n",
        "model, buffers = glTF_tools.glb_loader(glb_bytes)"
      ],
      "execution_count": 61,
      "outputs": [
        {
          "output_type": "stream",
          "text": [
            "--2020-04-07 15:15:27--  https://github.com/CSP-GD/notes/raw/master/practice/file_format/gltf%E6%A0%BC%E5%BC%8F%E8%A7%A3%E6%9E%90/scene-node/cube-channel.glb\n",
            "Resolving github.com (github.com)... 192.30.255.112\n",
            "Connecting to github.com (github.com)|192.30.255.112|:443... connected.\n",
            "HTTP request sent, awaiting response... 302 Found\n",
            "Location: https://raw.githubusercontent.com/CSP-GD/notes/master/practice/file_format/gltf%E6%A0%BC%E5%BC%8F%E8%A7%A3%E6%9E%90/scene-node/cube-channel.glb [following]\n",
            "--2020-04-07 15:15:27--  https://raw.githubusercontent.com/CSP-GD/notes/master/practice/file_format/gltf%E6%A0%BC%E5%BC%8F%E8%A7%A3%E6%9E%90/scene-node/cube-channel.glb\n",
            "Resolving raw.githubusercontent.com (raw.githubusercontent.com)... 151.101.0.133, 151.101.64.133, 151.101.128.133, ...\n",
            "Connecting to raw.githubusercontent.com (raw.githubusercontent.com)|151.101.0.133|:443... connected.\n",
            "HTTP request sent, awaiting response... 200 OK\n",
            "Length: 4544 (4.4K) [application/octet-stream]\n",
            "Saving to: ‘cube-channel.glb’\n",
            "\n",
            "\rcube-channel.glb      0%[                    ]       0  --.-KB/s               \rcube-channel.glb    100%[===================>]   4.44K  --.-KB/s    in 0s      \n",
            "\n",
            "2020-04-07 15:15:27 (74.7 MB/s) - ‘cube-channel.glb’ saved [4544/4544]\n",
            "\n"
          ],
          "name": "stdout"
        }
      ]
    },
    {
      "cell_type": "markdown",
      "metadata": {
        "id": "gtVhEGYK8WQb",
        "colab_type": "text"
      },
      "source": [
        "### 查看場景"
      ]
    },
    {
      "cell_type": "code",
      "metadata": {
        "id": "w9XuP3A98fPH",
        "colab_type": "code",
        "outputId": "cb196922-38f5-4f5c-97b9-8873659e7c1f",
        "colab": {
          "base_uri": "https://localhost:8080/",
          "height": 34
        }
      },
      "source": [
        "print(\"預設場景為 scenes[{}]\".format(model[\"scene\"]))"
      ],
      "execution_count": 62,
      "outputs": [
        {
          "output_type": "stream",
          "text": [
            "預設場景為 scenes[0]\n"
          ],
          "name": "stdout"
        }
      ]
    },
    {
      "cell_type": "code",
      "metadata": {
        "id": "05y0U12Y93ZK",
        "colab_type": "code",
        "outputId": "a756f0bc-abd7-4020-d22d-bb0226bef015",
        "colab": {
          "base_uri": "https://localhost:8080/",
          "height": 118
        }
      },
      "source": [
        "scene = model[\"scenes\"][model[\"scene\"]]\n",
        "\n",
        "glTF_tools.render_JSON(scene)"
      ],
      "execution_count": 63,
      "outputs": [
        {
          "output_type": "display_data",
          "data": {
            "text/html": [
              "<div id=\"93bb0039-2a06-445e-8d85-a892953e8727\" style=\"width:100%;\"></div>"
            ]
          },
          "metadata": {
            "tags": []
          }
        },
        {
          "output_type": "display_data",
          "data": {
            "text/html": [
              "\n",
              "        <script src=\"https://rawgit.com/caldwell/renderjson/master/renderjson.js\"></script>\n",
              "        <script>\n",
              "            document.getElementById('93bb0039-2a06-445e-8d85-a892953e8727').appendChild(renderjson({\"name\": \"Scene\", \"nodes\": [2]}))\n",
              "        </script>\n",
              "        "
            ]
          },
          "metadata": {
            "tags": []
          }
        }
      ]
    },
    {
      "cell_type": "markdown",
      "metadata": {
        "id": "QFffH71J_lD0",
        "colab_type": "text"
      },
      "source": [
        "本場景中只有一個 node : nodes\\[2\\]"
      ]
    },
    {
      "cell_type": "code",
      "metadata": {
        "id": "sv2Pu4q597FT",
        "colab_type": "code",
        "outputId": "03d3cf4b-43e4-4927-9d1f-31488abdc5e8",
        "colab": {
          "base_uri": "https://localhost:8080/",
          "height": 101
        }
      },
      "source": [
        "node = model[\"nodes\"][scene[\"nodes\"][0]]\n",
        "\n",
        "glTF_tools.render_JSON(node)"
      ],
      "execution_count": 64,
      "outputs": [
        {
          "output_type": "display_data",
          "data": {
            "text/html": [
              "<div id=\"0e93cc29-98b4-4735-8b14-684186f99cf7\" style=\"width:100%;\"></div>"
            ]
          },
          "metadata": {
            "tags": []
          }
        },
        {
          "output_type": "display_data",
          "data": {
            "text/html": [
              "\n",
              "        <script src=\"https://rawgit.com/caldwell/renderjson/master/renderjson.js\"></script>\n",
              "        <script>\n",
              "            document.getElementById('0e93cc29-98b4-4735-8b14-684186f99cf7').appendChild(renderjson({\"children\": [1], \"mesh\": 2, \"name\": \"Cube\"}))\n",
              "        </script>\n",
              "        "
            ]
          },
          "metadata": {
            "tags": []
          }
        }
      ]
    },
    {
      "cell_type": "markdown",
      "metadata": {
        "id": "7hZQMocQ-I7X",
        "colab_type": "text"
      },
      "source": [
        "從其中內容可以知道\n",
        "1. 有子代，子代為 nodes\\[1\\]\n",
        "2. 此 node 代表的物件為 mesh，並指向 meshs\\[2\\]\n",
        "3. 此物件的名字為 Cube\n",
        "4. 沒有另外設定初始姿態"
      ]
    },
    {
      "cell_type": "markdown",
      "metadata": {
        "id": "lHtzXzRk-XnY",
        "colab_type": "text"
      },
      "source": [
        "查看子代 nodes\\[1\\]"
      ]
    },
    {
      "cell_type": "code",
      "metadata": {
        "id": "Jp3m9P9H-jP3",
        "colab_type": "code",
        "outputId": "e9989bf5-df64-47ed-9bcc-6a8e2c51ee56",
        "colab": {
          "base_uri": "https://localhost:8080/",
          "height": 34
        }
      },
      "source": [
        "child_node = model[\"nodes\"][node[\"children\"][0]]\n",
        "\n",
        "child_node"
      ],
      "execution_count": 0,
      "outputs": [
        {
          "output_type": "execute_result",
          "data": {
            "text/plain": [
              "{'children': [0], 'mesh': 1, 'name': 'Cube.001', 'translation': [3, 0, 0]}"
            ]
          },
          "metadata": {
            "tags": []
          },
          "execution_count": 18
        }
      ]
    },
    {
      "cell_type": "markdown",
      "metadata": {
        "id": "2ChQsoxl-tDK",
        "colab_type": "text"
      },
      "source": [
        "從其中內容可以知道\n",
        "1. 有子代，子代為 nodes\\[0\\]\n",
        "2. 此 node 代表的物件為 mesh，並指向 meshs\\[1\\]\n",
        "3. 此物件的名字為 Cube.001\n",
        "4. 初始姿態向 X 軸正向位移 3 單位"
      ]
    },
    {
      "cell_type": "markdown",
      "metadata": {
        "id": "qxSpOf0T-54b",
        "colab_type": "text"
      },
      "source": [
        "查看子代的子代 nodes\\[0\\]"
      ]
    },
    {
      "cell_type": "code",
      "metadata": {
        "id": "kinzwIUJ_Acu",
        "colab_type": "code",
        "outputId": "55cb397f-108e-430a-96d9-fb8cf446363b",
        "colab": {
          "base_uri": "https://localhost:8080/",
          "height": 34
        }
      },
      "source": [
        "grandchildren_node = model[\"nodes\"][child_node[\"children\"][0]]\n",
        "\n",
        "grandchildren_node"
      ],
      "execution_count": 0,
      "outputs": [
        {
          "output_type": "execute_result",
          "data": {
            "text/plain": [
              "{'mesh': 0, 'name': 'Cube.002', 'translation': [3, 0, 0]}"
            ]
          },
          "metadata": {
            "tags": []
          },
          "execution_count": 20
        }
      ]
    },
    {
      "cell_type": "markdown",
      "metadata": {
        "id": "qzXrcw3T_QYc",
        "colab_type": "text"
      },
      "source": [
        "從其中內容可以知道\n",
        "1. 並沒有子代\n",
        "2. 此 node 代表的物件為 mesh，並指向 meshs\\[0\\]\n",
        "3. 此物件的名字為 Cube.002\n",
        "4. 初始姿態向 X 軸正向位移 3 單位"
      ]
    },
    {
      "cell_type": "markdown",
      "metadata": {
        "id": "sQ_BKk5W_aki",
        "colab_type": "text"
      },
      "source": [
        "另外要注意，每個物件的姿態矩陣都會對子代產生作用，  \n",
        "因此 grandchildrenNode 實際上受到 childNode 的影響後，  \n",
        "總共會向 X 軸正向位移 6 單位。"
      ]
    },
    {
      "cell_type": "markdown",
      "metadata": {
        "id": "GCjgwXhWMCI-",
        "colab_type": "text"
      },
      "source": [
        "## 參考"
      ]
    },
    {
      "cell_type": "markdown",
      "metadata": {
        "id": "MYLZSKtEMO9S",
        "colab_type": "text"
      },
      "source": [
        "1. https://github.com/KhronosGroup/glTF"
      ]
    }
  ]
}