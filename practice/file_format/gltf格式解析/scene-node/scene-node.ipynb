{
  "nbformat": 4,
  "nbformat_minor": 0,
  "metadata": {
    "colab": {
      "name": "scene-node.ipynb",
      "provenance": [],
      "toc_visible": true
    },
    "kernelspec": {
      "name": "python3",
      "display_name": "Python 3"
    },
    "accelerator": "GPU"
  },
  "cells": [
    {
      "cell_type": "markdown",
      "metadata": {
        "id": "uDPDN1lSMl5q",
        "colab_type": "text"
      },
      "source": [
        "# GLTF 格式教學 Scene & Node 篇"
      ]
    },
    {
      "cell_type": "markdown",
      "metadata": {
        "id": "wB5dVCbFXVdh",
        "colab_type": "text"
      },
      "source": [
        "<a href=\"https://colab.research.google.com/github/CSP-GD/notes/blob/master/practice/file_format/gltf%E6%A0%BC%E5%BC%8F%E8%A7%A3%E6%9E%90/scene-node/scene-node.ipynb\">\n",
        "  <img src=\"https://colab.research.google.com/assets/colab-badge.svg\" alt=\"Open In Colab\"/>\n",
        "</a>\n",
        "\n",
        "[`Open in observablehq`](https://observablehq.com/@toonnyy8/gltf-scene-node/9)"
      ]
    },
    {
      "cell_type": "markdown",
      "metadata": {
        "id": "GrSb0MlrFVpc",
        "colab_type": "text"
      },
      "source": [
        "![圖 1. scenes, nodes \\[1\\]](https://github.com/CSP-GD/notes/raw/master/practice/file_format/gltf%E6%A0%BC%E5%BC%8F%E8%A7%A3%E6%9E%90/scene-node/gltfOverview-2.0.0b-scene-node.png)\n",
        "\n",
        "圖 1. scenes, nodes \\[1\\]"
      ]
    },
    {
      "cell_type": "markdown",
      "metadata": {
        "id": "tRnc8CmU8vRl",
        "colab_type": "text"
      },
      "source": [
        "## 簡介"
      ]
    },
    {
      "cell_type": "markdown",
      "metadata": {
        "id": "A96YlEl999Yx",
        "colab_type": "text"
      },
      "source": [
        "### Scene 簡介"
      ]
    },
    {
      "cell_type": "markdown",
      "metadata": {
        "id": "IvWTJtvn87EL",
        "colab_type": "text"
      },
      "source": [
        "glTF 中可以儲存多個場景，而每個場景都會存在「scenes」屬性中，  \n",
        "由「scene」屬性指向預設的場景，而「scenes」內會有「nodes」，  \n",
        "表示每個場景所擁有的。"
      ]
    },
    {
      "cell_type": "markdown",
      "metadata": {
        "id": "FpK18ZA68_Y1",
        "colab_type": "text"
      },
      "source": [
        "### Node 簡介"
      ]
    },
    {
      "cell_type": "markdown",
      "metadata": {
        "id": "vLqT2uQc-HVJ",
        "colab_type": "text"
      },
      "source": [
        "每個 node 都可以當成是場景中的一個物件，  \n",
        "每個物件具有自己的名稱「name」，  \n",
        "這些物件有可能是「mesh」、「skin」、「camera」、「light」等等，  \n",
        "而物件之間還具有親子關係，並利用「children」用來記錄哪些 node 是自己的子代，  \n",
        "最後還有「matrix」來記錄此物件的初始姿態。  \n",
        "> ps.「matrix」可拆分成  \n",
        "> 1. 代表偏移的「translation」\n",
        "> 2. 代表旋轉的「rotation」\n",
        "> 3. 代表縮放的「scale」"
      ]
    },
    {
      "cell_type": "markdown",
      "metadata": {
        "id": "iJZE-jGf-JF4",
        "colab_type": "text"
      },
      "source": [
        "## 正式開始"
      ]
    },
    {
      "cell_type": "markdown",
      "metadata": {
        "id": "_Y8c5F6m-Kbp",
        "colab_type": "text"
      },
      "source": [
        "### 載入檔案"
      ]
    },
    {
      "cell_type": "code",
      "metadata": {
        "id": "xNujnE83-xB0",
        "colab_type": "code",
        "colab": {}
      },
      "source": [
        "%load https://colab.research.google.com/github/CSP-GD/notes/blob/master/practice/file_format/gltf%E6%A0%BC%E5%BC%8F%E8%A7%A3%E6%9E%90/scene-node/scene-node.ipynb"
      ],
      "execution_count": 0,
      "outputs": []
    },
    {
      "cell_type": "code",
      "metadata": {
        "id": "blTAX0xFF4_V",
        "colab_type": "code",
        "outputId": "b3be963a-a208-4273-96af-c927e882968e",
        "colab": {
          "base_uri": "https://localhost:8080/"
        }
      },
      "source": [
        "!wget https://github.com/CSP-GD/notes/raw/master/practice/file_format/gltf%E6%A0%BC%E5%BC%8F%E8%A7%A3%E6%9E%90/scene-node/cube-channel.glb"
      ],
      "execution_count": 0,
      "outputs": [
        {
          "output_type": "stream",
          "text": [
            "--2020-04-06 13:26:25--  https://github.com/CSP-GD/notes/raw/master/practice/file_format/gltf%E6%A0%BC%E5%BC%8F%E8%A7%A3%E6%9E%90/glb/cube.glb\n",
            "Resolving github.com (github.com)... 140.82.118.3\n",
            "Connecting to github.com (github.com)|140.82.118.3|:443... connected.\n",
            "HTTP request sent, awaiting response... 302 Found\n",
            "Location: https://raw.githubusercontent.com/CSP-GD/notes/master/practice/file_format/gltf%E6%A0%BC%E5%BC%8F%E8%A7%A3%E6%9E%90/glb/cube.glb [following]\n",
            "--2020-04-06 13:26:25--  https://raw.githubusercontent.com/CSP-GD/notes/master/practice/file_format/gltf%E6%A0%BC%E5%BC%8F%E8%A7%A3%E6%9E%90/glb/cube.glb\n",
            "Resolving raw.githubusercontent.com (raw.githubusercontent.com)... 151.101.0.133, 151.101.64.133, 151.101.128.133, ...\n",
            "Connecting to raw.githubusercontent.com (raw.githubusercontent.com)|151.101.0.133|:443... connected.\n",
            "HTTP request sent, awaiting response... 200 OK\n",
            "Length: 2280 (2.2K) [application/octet-stream]\n",
            "Saving to: ‘cube.glb’\n",
            "\n",
            "\rcube.glb              0%[                    ]       0  --.-KB/s               \rcube.glb            100%[===================>]   2.23K  --.-KB/s    in 0s      \n",
            "\n",
            "2020-04-06 13:26:26 (41.7 MB/s) - ‘cube.glb’ saved [2280/2280]\n",
            "\n"
          ],
          "name": "stdout"
        }
      ]
    },
    {
      "cell_type": "code",
      "metadata": {
        "id": "43xdWXw7HXI4",
        "colab_type": "code",
        "outputId": "d42ee667-72a3-4ad2-fc88-fa95f5b2c342",
        "colab": {
          "base_uri": "https://localhost:8080/"
        }
      },
      "source": [
        "glb_file = open('./cube-channel.glb', 'rb')\n",
        "\n",
        "glb_file"
      ],
      "execution_count": 0,
      "outputs": [
        {
          "output_type": "execute_result",
          "data": {
            "text/plain": [
              "<_io.BufferedReader name='./cube.glb'>"
            ]
          },
          "metadata": {
            "tags": []
          },
          "execution_count": 2
        }
      ]
    },
    {
      "cell_type": "markdown",
      "metadata": {
        "id": "ewXS5wSWVo-Z",
        "colab_type": "text"
      },
      "source": [
        "### 將檔案內容讀取出來"
      ]
    },
    {
      "cell_type": "code",
      "metadata": {
        "id": "mJ-12u_AIqhS",
        "colab_type": "code",
        "colab": {}
      },
      "source": [
        "glb_bytes = glb_file.read()"
      ],
      "execution_count": 0,
      "outputs": []
    },
    {
      "cell_type": "code",
      "metadata": {
        "id": "3eTMMZDorVir",
        "colab_type": "code",
        "colab": {}
      },
      "source": [
        "glb_bytes"
      ],
      "execution_count": 0,
      "outputs": []
    },
    {
      "cell_type": "markdown",
      "metadata": {
        "id": "_jxnzToBV6j-",
        "colab_type": "text"
      },
      "source": [
        "### 解析 header"
      ]
    },
    {
      "cell_type": "markdown",
      "metadata": {
        "id": "UPOEyNM0V-21",
        "colab_type": "text"
      },
      "source": [
        "0~3 Bytes 為「glTF」的 ASCII 編碼"
      ]
    },
    {
      "cell_type": "code",
      "metadata": {
        "id": "uf3sKeNcJWW-",
        "colab_type": "code",
        "outputId": "354fbbc9-3859-4ad1-8cbe-0d6196a9c7cd",
        "colab": {
          "base_uri": "https://localhost:8080/",
          "height": 34
        }
      },
      "source": [
        "glb_bytes[0:4].decode()"
      ],
      "execution_count": 0,
      "outputs": [
        {
          "output_type": "execute_result",
          "data": {
            "text/plain": [
              "'glTF'"
            ]
          },
          "metadata": {
            "tags": []
          },
          "execution_count": 4
        }
      ]
    },
    {
      "cell_type": "markdown",
      "metadata": {
        "id": "hWaxmhnfWCpZ",
        "colab_type": "text"
      },
      "source": [
        "第 4~7 Bytes 應該會顯示 glTF 的版本"
      ]
    },
    {
      "cell_type": "code",
      "metadata": {
        "id": "C5R3NZiBJxWW",
        "colab_type": "code",
        "outputId": "f3f898cd-467a-4107-acdf-2a0d672a100c",
        "colab": {
          "base_uri": "https://localhost:8080/",
          "height": 34
        }
      },
      "source": [
        "gltf_version = 0\n",
        "\n",
        "for idx, curr in enumerate(glb_bytes[4:8]):\n",
        "    gltf_version += curr * 256 ** idx\n",
        "\n",
        "gltf_version"
      ],
      "execution_count": 0,
      "outputs": [
        {
          "output_type": "execute_result",
          "data": {
            "text/plain": [
              "2"
            ]
          },
          "metadata": {
            "tags": []
          },
          "execution_count": 5
        }
      ]
    },
    {
      "cell_type": "markdown",
      "metadata": {
        "id": "nwBYSf0JWFfR",
        "colab_type": "text"
      },
      "source": [
        "第 8~11 Bytes 則代表此檔案的 Byte 數"
      ]
    },
    {
      "cell_type": "code",
      "metadata": {
        "id": "QK5oQbH-WSPx",
        "colab_type": "code",
        "outputId": "960a0d43-c83e-4316-ad1e-253d2a59a3f2",
        "colab": {
          "base_uri": "https://localhost:8080/",
          "height": 34
        }
      },
      "source": [
        "print(len(glb_bytes), \"Bytes\")"
      ],
      "execution_count": 0,
      "outputs": [
        {
          "output_type": "stream",
          "text": [
            "2280 Bytes\n"
          ],
          "name": "stdout"
        }
      ]
    },
    {
      "cell_type": "code",
      "metadata": {
        "id": "yw5REjorKdu2",
        "colab_type": "code",
        "outputId": "60baa21a-5a2c-488d-8155-23c3f597436e",
        "colab": {
          "base_uri": "https://localhost:8080/",
          "height": 34
        }
      },
      "source": [
        "gltf_length = 0\n",
        "\n",
        "for idx, curr in enumerate(glb_bytes[8:12]):\n",
        "    gltf_length += curr * 256 ** idx\n",
        "\n",
        "gltf_length"
      ],
      "execution_count": 0,
      "outputs": [
        {
          "output_type": "execute_result",
          "data": {
            "text/plain": [
              "2280"
            ]
          },
          "metadata": {
            "tags": []
          },
          "execution_count": 7
        }
      ]
    },
    {
      "cell_type": "markdown",
      "metadata": {
        "id": "Q-3PWIucWhZi",
        "colab_type": "text"
      },
      "source": [
        "### 解析 chunk"
      ]
    },
    {
      "cell_type": "code",
      "metadata": {
        "id": "1vwDI72FNIAq",
        "colab_type": "code",
        "colab": {}
      },
      "source": [
        "import json\n",
        "\n",
        "def chunk_parser(chunk_type, chunk_data):\n",
        "    return {\n",
        "        \"BIN\\u0000\": lambda:chunk_data,\n",
        "        \"JSON\": lambda:json.loads(chunk_data.decode()),\n",
        "    }[chunk_type]()"
      ],
      "execution_count": 0,
      "outputs": []
    },
    {
      "cell_type": "markdown",
      "metadata": {
        "id": "CU0tLI6VWmf_",
        "colab_type": "text"
      },
      "source": [
        "#### chunk 0 (JSON)"
      ]
    },
    {
      "cell_type": "code",
      "metadata": {
        "id": "IM2Gcmm_O54y",
        "colab_type": "code",
        "colab": {}
      },
      "source": [
        "chunk = { 'type': \"\", 'length': 0, 'data': \"\" }"
      ],
      "execution_count": 0,
      "outputs": []
    },
    {
      "cell_type": "markdown",
      "metadata": {
        "id": "jPbWLECaWtNP",
        "colab_type": "text"
      },
      "source": [
        "由 chunk 0 的 第 0~3 Bytes 知道 chunkLength 為多少"
      ]
    },
    {
      "cell_type": "code",
      "metadata": {
        "id": "D_nLqtN_P1FF",
        "colab_type": "code",
        "outputId": "24b0022e-bb12-4a18-d151-719a5e9048e3",
        "colab": {
          "base_uri": "https://localhost:8080/",
          "height": 34
        }
      },
      "source": [
        "chunk[\"length\"] = 0\n",
        "\n",
        "for idx, curr in enumerate(glb_bytes[12:12 + 4]):\n",
        "    chunk[\"length\"] += curr * 256 ** idx\n",
        "\n",
        "chunk[\"length\"]"
      ],
      "execution_count": 0,
      "outputs": [
        {
          "output_type": "execute_result",
          "data": {
            "text/plain": [
              "1412"
            ]
          },
          "metadata": {
            "tags": []
          },
          "execution_count": 10
        }
      ]
    },
    {
      "cell_type": "markdown",
      "metadata": {
        "id": "0SvcjfbXWwiD",
        "colab_type": "text"
      },
      "source": [
        "由 chunk 0 的 第 4~7 Bytes 知道 chunkType 為 JSON"
      ]
    },
    {
      "cell_type": "code",
      "metadata": {
        "id": "z2_cxiopQZNe",
        "colab_type": "code",
        "outputId": "8d2f1206-1e8a-4b1f-a00f-92bb75fa27cc",
        "colab": {
          "base_uri": "https://localhost:8080/",
          "height": 34
        }
      },
      "source": [
        "chunk[\"type\"] = glb_bytes[12 + 4:12 + 8].decode()\n",
        "\n",
        "chunk[\"type\"]"
      ],
      "execution_count": 0,
      "outputs": [
        {
          "output_type": "execute_result",
          "data": {
            "text/plain": [
              "'JSON'"
            ]
          },
          "metadata": {
            "tags": []
          },
          "execution_count": 11
        }
      ]
    },
    {
      "cell_type": "markdown",
      "metadata": {
        "id": "jLdQAao5WzYq",
        "colab_type": "text"
      },
      "source": [
        "知道了 chunkType 以及 chunkLength 就可以開始解析 chunkData 了"
      ]
    },
    {
      "cell_type": "code",
      "metadata": {
        "id": "T4UPXhteQt3E",
        "colab_type": "code",
        "colab": {}
      },
      "source": [
        "chunk[\"data\"] = chunk_parser(\n",
        "  chunk[\"type\"],\n",
        "  glb_bytes[12 + 8:12 + 8 + chunk[\"length\"]]\n",
        ")"
      ],
      "execution_count": 0,
      "outputs": []
    },
    {
      "cell_type": "code",
      "metadata": {
        "id": "FjdclqYkqwow",
        "colab_type": "code",
        "colab": {}
      },
      "source": [
        "chunk[\"data\"]"
      ],
      "execution_count": 0,
      "outputs": []
    },
    {
      "cell_type": "markdown",
      "metadata": {
        "id": "Ah5Hk9cqW3H6",
        "colab_type": "text"
      },
      "source": [
        "#### 剩下的 chunk 解析的方式都相同，在此就直接使用迴圈處理"
      ]
    },
    {
      "cell_type": "code",
      "metadata": {
        "id": "Nop-7VC3RDdK",
        "colab_type": "code",
        "colab": {}
      },
      "source": [
        "chunks = []\n",
        "offset = 12\n",
        "i = 0\n",
        "\n",
        "while(offset < len(glb_bytes)):\n",
        "    chunks.append({ \"type\": \"\", \"length\": 0, \"data\": \"\" })\n",
        "\n",
        "    for idx, curr in enumerate(glb_bytes[offset:offset + 4]):\n",
        "        chunks[i][\"length\"] += curr * 256 ** idx\n",
        "\n",
        "    chunks[i][\"type\"] = glb_bytes[offset + 4:offset + 8].decode()\n",
        "\n",
        "    chunks[i][\"data\"] = chunk_parser(\n",
        "        chunks[i][\"type\"],\n",
        "        glb_bytes[offset + 8:offset + 8 + chunks[i][\"length\"]]\n",
        "    )\n",
        "    offset += 8 + chunks[i][\"length\"]\n",
        "    i += 1"
      ],
      "execution_count": 0,
      "outputs": []
    },
    {
      "cell_type": "code",
      "metadata": {
        "id": "57_Y1PCCqqhv",
        "colab_type": "code",
        "colab": {}
      },
      "source": [
        "chunks"
      ],
      "execution_count": 0,
      "outputs": []
    },
    {
      "cell_type": "markdown",
      "metadata": {
        "id": "W4enMtkfW9V4",
        "colab_type": "text"
      },
      "source": [
        "最後將 chunks 整理一下"
      ]
    },
    {
      "cell_type": "code",
      "metadata": {
        "id": "e-9o_4_GS8EU",
        "colab_type": "code",
        "colab": {}
      },
      "source": [
        "model = chunks[0][\"data\"]\n",
        "\n",
        "for idx, buffer in enumerate(model['buffers']):\n",
        "    buffer[\"data\"] = chunks[idx + 1][\"data\"]"
      ],
      "execution_count": 0,
      "outputs": []
    },
    {
      "cell_type": "code",
      "metadata": {
        "id": "9H7rITb-qt-w",
        "colab_type": "code",
        "colab": {}
      },
      "source": [
        "model"
      ],
      "execution_count": 0,
      "outputs": []
    },
    {
      "cell_type": "markdown",
      "metadata": {
        "id": "PDFyZ1cJXAvG",
        "colab_type": "text"
      },
      "source": [
        "完成~~"
      ]
    },
    {
      "cell_type": "markdown",
      "metadata": {
        "id": "GCjgwXhWMCI-",
        "colab_type": "text"
      },
      "source": [
        "## 參考"
      ]
    },
    {
      "cell_type": "markdown",
      "metadata": {
        "id": "MYLZSKtEMO9S",
        "colab_type": "text"
      },
      "source": [
        "1. https://github.com/KhronosGroup/glTF"
      ]
    }
  ]
}