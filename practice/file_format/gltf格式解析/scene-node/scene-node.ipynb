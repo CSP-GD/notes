{
  "nbformat": 4,
  "nbformat_minor": 0,
  "metadata": {
    "colab": {
      "name": "scene-node.ipynb",
      "provenance": [],
      "toc_visible": true
    },
    "kernelspec": {
      "name": "python3",
      "display_name": "Python 3"
    },
    "accelerator": "GPU"
  },
  "cells": [
    {
      "cell_type": "markdown",
      "metadata": {
        "id": "uDPDN1lSMl5q",
        "colab_type": "text"
      },
      "source": [
        "# GLTF 格式教學 Scene & Node 篇"
      ]
    },
    {
      "cell_type": "markdown",
      "metadata": {
        "id": "wB5dVCbFXVdh",
        "colab_type": "text"
      },
      "source": [
        "<a href=\"https://colab.research.google.com/github/CSP-GD/notes/blob/master/practice/file_format/gltf%E6%A0%BC%E5%BC%8F%E8%A7%A3%E6%9E%90/scene-node/scene-node.ipynb\">\n",
        "  <img src=\"https://colab.research.google.com/assets/colab-badge.svg\" alt=\"Open In Colab\"/>\n",
        "</a>\n",
        "\n",
        "[`Open in observablehq`](https://observablehq.com/@toonnyy8/gltf-scene-node/9)"
      ]
    },
    {
      "cell_type": "markdown",
      "metadata": {
        "id": "GrSb0MlrFVpc",
        "colab_type": "text"
      },
      "source": [
        "![圖 1. scenes, nodes \\[1\\]](https://github.com/CSP-GD/notes/raw/master/practice/file_format/gltf%E6%A0%BC%E5%BC%8F%E8%A7%A3%E6%9E%90/scene-node/gltfOverview-2.0.0b-scene-node.png)\n",
        "\n",
        "圖 1. scenes, nodes \\[1\\]"
      ]
    },
    {
      "cell_type": "markdown",
      "metadata": {
        "id": "tRnc8CmU8vRl",
        "colab_type": "text"
      },
      "source": [
        "## 簡介"
      ]
    },
    {
      "cell_type": "markdown",
      "metadata": {
        "id": "A96YlEl999Yx",
        "colab_type": "text"
      },
      "source": [
        "### Scene 簡介"
      ]
    },
    {
      "cell_type": "markdown",
      "metadata": {
        "id": "IvWTJtvn87EL",
        "colab_type": "text"
      },
      "source": [
        "glTF 中可以儲存多個場景，而每個場景都會存在「scenes」屬性中，  \n",
        "由「scene」屬性指向預設的場景，而「scenes」內會有「nodes」，  \n",
        "表示每個場景所擁有的。"
      ]
    },
    {
      "cell_type": "markdown",
      "metadata": {
        "id": "FpK18ZA68_Y1",
        "colab_type": "text"
      },
      "source": [
        "### Node 簡介"
      ]
    },
    {
      "cell_type": "markdown",
      "metadata": {
        "id": "vLqT2uQc-HVJ",
        "colab_type": "text"
      },
      "source": [
        "每個 node 都可以當成是場景中的一個物件，  \n",
        "每個物件具有自己的名稱「name」，  \n",
        "這些物件有可能是「mesh」、「skin」、「camera」、「light」等等，  \n",
        "而物件之間還具有親子關係，並利用「children」用來記錄哪些 node 是自己的子代，  \n",
        "最後還有「matrix」來記錄此物件的初始姿態。  \n",
        "> ps.「matrix」可拆分成  \n",
        "> 1. 代表偏移的「translation」\n",
        "> 2. 代表旋轉的「rotation」\n",
        "> 3. 代表縮放的「scale」"
      ]
    },
    {
      "cell_type": "markdown",
      "metadata": {
        "id": "iJZE-jGf-JF4",
        "colab_type": "text"
      },
      "source": [
        "## 正式開始"
      ]
    },
    {
      "cell_type": "code",
      "metadata": {
        "id": "pgRyHA3EAV8G",
        "colab_type": "code",
        "colab": {}
      },
      "source": [
        "from IPython.display import JSON"
      ],
      "execution_count": 0,
      "outputs": []
    },
    {
      "cell_type": "markdown",
      "metadata": {
        "id": "_Y8c5F6m-Kbp",
        "colab_type": "text"
      },
      "source": [
        "### 載入 glTF_tools"
      ]
    },
    {
      "cell_type": "code",
      "metadata": {
        "id": "xNujnE83-xB0",
        "colab_type": "code",
        "outputId": "65b53e02-3eca-4f81-b61b-fe14c349fa6b",
        "colab": {
          "base_uri": "https://localhost:8080/",
          "height": 336
        }
      },
      "source": [
        "!wget https://github.com/CSP-GD/notes/raw/master/practice/file_format/gltf%E6%A0%BC%E5%BC%8F%E8%A7%A3%E6%9E%90/gltf-tools.ipynb -O gltf-tools.ipynb\n",
        "%run ./gltf-tools.ipynb"
      ],
      "execution_count": 1,
      "outputs": [
        {
          "output_type": "stream",
          "text": [
            "--2020-04-07 14:03:14--  https://github.com/CSP-GD/notes/raw/master/practice/file_format/gltf%E6%A0%BC%E5%BC%8F%E8%A7%A3%E6%9E%90/gltf-tools.ipynb\n",
            "Resolving github.com (github.com)... 140.82.112.3\n",
            "Connecting to github.com (github.com)|140.82.112.3|:443... connected.\n",
            "HTTP request sent, awaiting response... 302 Found\n",
            "Location: https://raw.githubusercontent.com/CSP-GD/notes/master/practice/file_format/gltf%E6%A0%BC%E5%BC%8F%E8%A7%A3%E6%9E%90/gltf-tools.ipynb [following]\n",
            "--2020-04-07 14:03:15--  https://raw.githubusercontent.com/CSP-GD/notes/master/practice/file_format/gltf%E6%A0%BC%E5%BC%8F%E8%A7%A3%E6%9E%90/gltf-tools.ipynb\n",
            "Resolving raw.githubusercontent.com (raw.githubusercontent.com)... 151.101.0.133, 151.101.64.133, 151.101.128.133, ...\n",
            "Connecting to raw.githubusercontent.com (raw.githubusercontent.com)|151.101.0.133|:443... connected.\n",
            "HTTP request sent, awaiting response... 200 OK\n",
            "Length: 3699 (3.6K) [text/plain]\n",
            "Saving to: ‘gltf-tools.ipynb’\n",
            "\n",
            "\rgltf-tools.ipynb      0%[                    ]       0  --.-KB/s               \rgltf-tools.ipynb    100%[===================>]   3.61K  --.-KB/s    in 0s      \n",
            "\n",
            "2020-04-07 14:03:15 (53.6 MB/s) - ‘gltf-tools.ipynb’ saved [3699/3699]\n",
            "\n",
            "glTF_tools is loaded\n"
          ],
          "name": "stdout"
        }
      ]
    },
    {
      "cell_type": "markdown",
      "metadata": {
        "id": "Iaw0gWIIQass",
        "colab_type": "text"
      },
      "source": [
        "## 載入檔案"
      ]
    },
    {
      "cell_type": "code",
      "metadata": {
        "id": "blTAX0xFF4_V",
        "colab_type": "code",
        "outputId": "c9049ff8-6a08-4904-94ea-5356480bc886",
        "colab": {
          "base_uri": "https://localhost:8080/",
          "height": 318
        }
      },
      "source": [
        "!wget https://github.com/CSP-GD/notes/raw/master/practice/file_format/gltf%E6%A0%BC%E5%BC%8F%E8%A7%A3%E6%9E%90/scene-node/cube-channel.glb -O cube-channel.glb\n",
        "glb_file = open('./cube-channel.glb', 'rb')\n",
        "glb_bytes = glb_file.read()\n",
        "model = glTF_tools.glb_loader(glb_bytes)"
      ],
      "execution_count": 2,
      "outputs": [
        {
          "output_type": "stream",
          "text": [
            "--2020-04-07 14:03:22--  https://github.com/CSP-GD/notes/raw/master/practice/file_format/gltf%E6%A0%BC%E5%BC%8F%E8%A7%A3%E6%9E%90/scene-node/cube-channel.glb\n",
            "Resolving github.com (github.com)... 192.30.255.112\n",
            "Connecting to github.com (github.com)|192.30.255.112|:443... connected.\n",
            "HTTP request sent, awaiting response... 302 Found\n",
            "Location: https://raw.githubusercontent.com/CSP-GD/notes/master/practice/file_format/gltf%E6%A0%BC%E5%BC%8F%E8%A7%A3%E6%9E%90/scene-node/cube-channel.glb [following]\n",
            "--2020-04-07 14:03:23--  https://raw.githubusercontent.com/CSP-GD/notes/master/practice/file_format/gltf%E6%A0%BC%E5%BC%8F%E8%A7%A3%E6%9E%90/scene-node/cube-channel.glb\n",
            "Resolving raw.githubusercontent.com (raw.githubusercontent.com)... 151.101.0.133, 151.101.64.133, 151.101.128.133, ...\n",
            "Connecting to raw.githubusercontent.com (raw.githubusercontent.com)|151.101.0.133|:443... connected.\n",
            "HTTP request sent, awaiting response... 200 OK\n",
            "Length: 4544 (4.4K) [application/octet-stream]\n",
            "Saving to: ‘cube-channel.glb’\n",
            "\n",
            "\rcube-channel.glb      0%[                    ]       0  --.-KB/s               \rcube-channel.glb    100%[===================>]   4.44K  --.-KB/s    in 0s      \n",
            "\n",
            "2020-04-07 14:03:23 (69.3 MB/s) - ‘cube-channel.glb’ saved [4544/4544]\n",
            "\n"
          ],
          "name": "stdout"
        }
      ]
    },
    {
      "cell_type": "markdown",
      "metadata": {
        "id": "gtVhEGYK8WQb",
        "colab_type": "text"
      },
      "source": [
        "### 查看場景"
      ]
    },
    {
      "cell_type": "code",
      "metadata": {
        "id": "w9XuP3A98fPH",
        "colab_type": "code",
        "colab": {
          "base_uri": "https://localhost:8080/",
          "height": 34
        },
        "outputId": "14ac5bf1-eff0-4ef8-8836-d91401991de0"
      },
      "source": [
        "print(\"預設場景為 scenes[{}]\".format(model[\"scene\"]))"
      ],
      "execution_count": 9,
      "outputs": [
        {
          "output_type": "stream",
          "text": [
            "預設場景為 scenes[0]\n"
          ],
          "name": "stdout"
        }
      ]
    },
    {
      "cell_type": "code",
      "metadata": {
        "id": "05y0U12Y93ZK",
        "colab_type": "code",
        "colab": {
          "base_uri": "https://localhost:8080/",
          "height": 34
        },
        "outputId": "0b20ffcf-e697-48dd-cadd-abe7a31542cc"
      },
      "source": [
        "scene = model[\"scenes\"][model[\"scene\"]]\n",
        "\n",
        "import uuid\n",
        "from IPython.display import display_javascript, display_html, display\n",
        "import json\n",
        "\n",
        "class RenderJSON(object):\n",
        "    def __init__(self, json_data):\n",
        "        if isinstance(json_data, dict):\n",
        "            self.json_str = json.dumps(json_data)\n",
        "        else:\n",
        "            self.json_str = json_data\n",
        "        self.uuid = str(uuid.uuid4())\n",
        "\n",
        "    def _ipython_display_(self):\n",
        "        display_html('<div id=\"{}\" style=\"width:100%;\"></div>'.format(self.uuid), raw=True)\n",
        "        display_html(\"\"\"\n",
        "        <script src=\"https://rawgit.com/caldwell/renderjson/master/renderjson.js\"></script>\n",
        "        <script>\n",
        "            document.getElementById('%s').appendChild(renderjson(%s))\n",
        "        </script>\n",
        "        \"\"\" % (self.uuid, self.json_str), raw=True)\n",
        "display(RenderJSON(scene))"
      ],
      "execution_count": 51,
      "outputs": [
        {
          "output_type": "display_data",
          "data": {
            "text/html": [
              "<div id=\"6e2c339e-df87-4432-a1e6-5b21c9394d09\" style=\"width:100%;\"></div>"
            ]
          },
          "metadata": {
            "tags": []
          }
        },
        {
          "output_type": "display_data",
          "data": {
            "text/html": [
              "\n",
              "        <script src=\"https://rawgit.com/caldwell/renderjson/master/renderjson.js\"></script>\n",
              "        <script>\n",
              "            document.getElementById('6e2c339e-df87-4432-a1e6-5b21c9394d09').appendChild(renderjson({\"name\": \"Scene\", \"nodes\": [2]}))\n",
              "        </script>\n",
              "        "
            ]
          },
          "metadata": {
            "tags": []
          }
        }
      ]
    },
    {
      "cell_type": "markdown",
      "metadata": {
        "id": "QFffH71J_lD0",
        "colab_type": "text"
      },
      "source": [
        "本場景中只有一個 node : nodes\\[2\\]"
      ]
    },
    {
      "cell_type": "code",
      "metadata": {
        "id": "sv2Pu4q597FT",
        "colab_type": "code",
        "colab": {
          "base_uri": "https://localhost:8080/",
          "height": 34
        },
        "outputId": "25889301-c7e2-4b78-a69d-300bf5644f03"
      },
      "source": [
        "node = model[\"nodes\"][scene[\"nodes\"][0]]\n",
        "\n",
        "node"
      ],
      "execution_count": 13,
      "outputs": [
        {
          "output_type": "execute_result",
          "data": {
            "text/plain": [
              "{'children': [1], 'mesh': 2, 'name': 'Cube'}"
            ]
          },
          "metadata": {
            "tags": []
          },
          "execution_count": 13
        }
      ]
    },
    {
      "cell_type": "markdown",
      "metadata": {
        "id": "7hZQMocQ-I7X",
        "colab_type": "text"
      },
      "source": [
        "從其中內容可以知道\n",
        "1. 有子代，子代為 nodes\\[1\\]\n",
        "2. 此 node 代表的物件為 mesh，並指向 meshs\\[2\\]\n",
        "3. 此物件的名字為 Cube\n",
        "4. 沒有另外設定初始姿態"
      ]
    },
    {
      "cell_type": "markdown",
      "metadata": {
        "id": "lHtzXzRk-XnY",
        "colab_type": "text"
      },
      "source": [
        "查看子代 nodes\\[1\\]"
      ]
    },
    {
      "cell_type": "code",
      "metadata": {
        "id": "Jp3m9P9H-jP3",
        "colab_type": "code",
        "colab": {
          "base_uri": "https://localhost:8080/",
          "height": 34
        },
        "outputId": "e9989bf5-df64-47ed-9bcc-6a8e2c51ee56"
      },
      "source": [
        "child_node = model[\"nodes\"][node[\"children\"][0]]\n",
        "\n",
        "child_node"
      ],
      "execution_count": 18,
      "outputs": [
        {
          "output_type": "execute_result",
          "data": {
            "text/plain": [
              "{'children': [0], 'mesh': 1, 'name': 'Cube.001', 'translation': [3, 0, 0]}"
            ]
          },
          "metadata": {
            "tags": []
          },
          "execution_count": 18
        }
      ]
    },
    {
      "cell_type": "markdown",
      "metadata": {
        "id": "2ChQsoxl-tDK",
        "colab_type": "text"
      },
      "source": [
        "從其中內容可以知道\n",
        "1. 有子代，子代為 nodes\\[0\\]\n",
        "2. 此 node 代表的物件為 mesh，並指向 meshs\\[1\\]\n",
        "3. 此物件的名字為 Cube.001\n",
        "4. 初始姿態向 X 軸正向位移 3 單位"
      ]
    },
    {
      "cell_type": "markdown",
      "metadata": {
        "id": "qxSpOf0T-54b",
        "colab_type": "text"
      },
      "source": [
        "查看子代的子代 nodes\\[0\\]"
      ]
    },
    {
      "cell_type": "code",
      "metadata": {
        "id": "kinzwIUJ_Acu",
        "colab_type": "code",
        "colab": {
          "base_uri": "https://localhost:8080/",
          "height": 34
        },
        "outputId": "55cb397f-108e-430a-96d9-fb8cf446363b"
      },
      "source": [
        "grandchildren_node = model[\"nodes\"][child_node[\"children\"][0]]\n",
        "\n",
        "grandchildren_node"
      ],
      "execution_count": 20,
      "outputs": [
        {
          "output_type": "execute_result",
          "data": {
            "text/plain": [
              "{'mesh': 0, 'name': 'Cube.002', 'translation': [3, 0, 0]}"
            ]
          },
          "metadata": {
            "tags": []
          },
          "execution_count": 20
        }
      ]
    },
    {
      "cell_type": "markdown",
      "metadata": {
        "id": "qzXrcw3T_QYc",
        "colab_type": "text"
      },
      "source": [
        "從其中內容可以知道\n",
        "1. 並沒有子代\n",
        "2. 此 node 代表的物件為 mesh，並指向 meshs\\[0\\]\n",
        "3. 此物件的名字為 Cube.002\n",
        "4. 初始姿態向 X 軸正向位移 3 單位"
      ]
    },
    {
      "cell_type": "markdown",
      "metadata": {
        "id": "sQ_BKk5W_aki",
        "colab_type": "text"
      },
      "source": [
        "另外要注意，每個物件的姿態矩陣都會對子代產生作用，  \n",
        "因此 grandchildrenNode 實際上受到 childNode 的影響後，  \n",
        "總共會向 X 軸正向位移 6 單位。"
      ]
    },
    {
      "cell_type": "markdown",
      "metadata": {
        "id": "GCjgwXhWMCI-",
        "colab_type": "text"
      },
      "source": [
        "## 參考"
      ]
    },
    {
      "cell_type": "markdown",
      "metadata": {
        "id": "MYLZSKtEMO9S",
        "colab_type": "text"
      },
      "source": [
        "1. https://github.com/KhronosGroup/glTF"
      ]
    }
  ]
}