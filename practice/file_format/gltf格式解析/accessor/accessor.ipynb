{
  "nbformat": 4,
  "nbformat_minor": 0,
  "metadata": {
    "colab": {
      "name": "accessor.ipynb",
      "provenance": [],
      "toc_visible": true
    },
    "kernelspec": {
      "name": "python3",
      "display_name": "Python 3"
    },
    "accelerator": "GPU"
  },
  "cells": [
    {
      "cell_type": "markdown",
      "metadata": {
        "id": "uDPDN1lSMl5q",
        "colab_type": "text"
      },
      "source": [
        "# GLTF 格式教學 Scene & Node 篇"
      ]
    },
    {
      "cell_type": "markdown",
      "metadata": {
        "id": "wB5dVCbFXVdh",
        "colab_type": "text"
      },
      "source": [
        "<a href=\"https://colab.research.google.com/github/CSP-GD/notes/blob/master/practice/file_format/gltf%E6%A0%BC%E5%BC%8F%E8%A7%A3%E6%9E%90/scene-node/scene-node.ipynb\">\n",
        "  <img src=\"https://colab.research.google.com/assets/colab-badge.svg\" alt=\"Open In Colab\"/>\n",
        "</a>\n",
        "\n",
        "[`Open in observablehq`](https://observablehq.com/@toonnyy8/gltf-scene-node/9)"
      ]
    },
    {
      "cell_type": "markdown",
      "metadata": {
        "id": "GrSb0MlrFVpc",
        "colab_type": "text"
      },
      "source": [
        "![圖 1. buffers, bufferViews, accessors \\[1\\]](https://github.com/CSP-GD/notes/raw/master/practice/file_format/gltf%E6%A0%BC%E5%BC%8F%E8%A7%A3%E6%9E%90/accessor/gltfOverview-2.0.0b-accessor.png)\n",
        "\n",
        "圖 1. buffers, bufferViews, accessors \\[1\\]"
      ]
    },
    {
      "cell_type": "markdown",
      "metadata": {
        "id": "tRnc8CmU8vRl",
        "colab_type": "text"
      },
      "source": [
        "## 簡介"
      ]
    },
    {
      "cell_type": "markdown",
      "metadata": {
        "id": "iJZE-jGf-JF4",
        "colab_type": "text"
      },
      "source": [
        "## 正式開始"
      ]
    },
    {
      "cell_type": "markdown",
      "metadata": {
        "id": "_Y8c5F6m-Kbp",
        "colab_type": "text"
      },
      "source": [
        "### 載入 glTF_tools"
      ]
    },
    {
      "cell_type": "code",
      "metadata": {
        "id": "xNujnE83-xB0",
        "colab_type": "code",
        "outputId": "22944918-9b65-4d71-a45f-4b4e08291f2c",
        "colab": {
          "base_uri": "https://localhost:8080/",
          "height": 336
        }
      },
      "source": [
        "!wget https://github.com/CSP-GD/notes/raw/master/practice/file_format/gltf%E6%A0%BC%E5%BC%8F%E8%A7%A3%E6%9E%90/gltf-tools.ipynb -O gltf-tools.ipynb\n",
        "%run ./gltf-tools.ipynb"
      ],
      "execution_count": 1,
      "outputs": [
        {
          "output_type": "stream",
          "text": [
            "--2020-04-08 05:50:12--  https://github.com/CSP-GD/notes/raw/master/practice/file_format/gltf%E6%A0%BC%E5%BC%8F%E8%A7%A3%E6%9E%90/gltf-tools.ipynb\n",
            "Resolving github.com (github.com)... 140.82.118.4\n",
            "Connecting to github.com (github.com)|140.82.118.4|:443... connected.\n",
            "HTTP request sent, awaiting response... 302 Found\n",
            "Location: https://raw.githubusercontent.com/CSP-GD/notes/master/practice/file_format/gltf%E6%A0%BC%E5%BC%8F%E8%A7%A3%E6%9E%90/gltf-tools.ipynb [following]\n",
            "--2020-04-08 05:50:12--  https://raw.githubusercontent.com/CSP-GD/notes/master/practice/file_format/gltf%E6%A0%BC%E5%BC%8F%E8%A7%A3%E6%9E%90/gltf-tools.ipynb\n",
            "Resolving raw.githubusercontent.com (raw.githubusercontent.com)... 151.101.0.133, 151.101.64.133, 151.101.128.133, ...\n",
            "Connecting to raw.githubusercontent.com (raw.githubusercontent.com)|151.101.0.133|:443... connected.\n",
            "HTTP request sent, awaiting response... 200 OK\n",
            "Length: 5570 (5.4K) [text/plain]\n",
            "Saving to: ‘gltf-tools.ipynb’\n",
            "\n",
            "\rgltf-tools.ipynb      0%[                    ]       0  --.-KB/s               \rgltf-tools.ipynb    100%[===================>]   5.44K  --.-KB/s    in 0s      \n",
            "\n",
            "2020-04-08 05:50:12 (62.3 MB/s) - ‘gltf-tools.ipynb’ saved [5570/5570]\n",
            "\n",
            "glTF_tools is loaded\n"
          ],
          "name": "stdout"
        }
      ]
    },
    {
      "cell_type": "markdown",
      "metadata": {
        "id": "Iaw0gWIIQass",
        "colab_type": "text"
      },
      "source": [
        "## 載入檔案"
      ]
    },
    {
      "cell_type": "code",
      "metadata": {
        "id": "blTAX0xFF4_V",
        "colab_type": "code",
        "outputId": "a320ed83-8901-4be2-e920-ffdeb80b9b00",
        "colab": {
          "base_uri": "https://localhost:8080/",
          "height": 318
        }
      },
      "source": [
        "!wget https://github.com/CSP-GD/notes/raw/master/practice/file_format/gltf%E6%A0%BC%E5%BC%8F%E8%A7%A3%E6%9E%90/accessor/cube.glb -O cube.glb\n",
        "glb_file = open('./cube.glb', 'rb')\n",
        "glb_bytes = glb_file.read()\n",
        "model, buffers = glTF_tools.glb_loader(glb_bytes)"
      ],
      "execution_count": 6,
      "outputs": [
        {
          "output_type": "stream",
          "text": [
            "--2020-04-08 05:52:21--  https://github.com/CSP-GD/notes/raw/master/practice/file_format/gltf%E6%A0%BC%E5%BC%8F%E8%A7%A3%E6%9E%90/accessor/cube.glb\n",
            "Resolving github.com (github.com)... 140.82.118.4\n",
            "Connecting to github.com (github.com)|140.82.118.4|:443... connected.\n",
            "HTTP request sent, awaiting response... 302 Found\n",
            "Location: https://raw.githubusercontent.com/CSP-GD/notes/master/practice/file_format/gltf%E6%A0%BC%E5%BC%8F%E8%A7%A3%E6%9E%90/accessor/cube.glb [following]\n",
            "--2020-04-08 05:52:21--  https://raw.githubusercontent.com/CSP-GD/notes/master/practice/file_format/gltf%E6%A0%BC%E5%BC%8F%E8%A7%A3%E6%9E%90/accessor/cube.glb\n",
            "Resolving raw.githubusercontent.com (raw.githubusercontent.com)... 151.101.0.133, 151.101.64.133, 151.101.128.133, ...\n",
            "Connecting to raw.githubusercontent.com (raw.githubusercontent.com)|151.101.0.133|:443... connected.\n",
            "HTTP request sent, awaiting response... 200 OK\n",
            "Length: 1916 (1.9K) [application/octet-stream]\n",
            "Saving to: ‘cube.glb’\n",
            "\n",
            "\rcube.glb              0%[                    ]       0  --.-KB/s               \rcube.glb            100%[===================>]   1.87K  --.-KB/s    in 0s      \n",
            "\n",
            "2020-04-08 05:52:21 (38.5 MB/s) - ‘cube.glb’ saved [1916/1916]\n",
            "\n"
          ],
          "name": "stdout"
        }
      ]
    },
    {
      "cell_type": "code",
      "metadata": {
        "id": "4O-LvxEVVRb-",
        "colab_type": "code",
        "colab": {
          "base_uri": "https://localhost:8080/",
          "height": 34
        },
        "outputId": "fbe5f4e8-5fef-4a23-a708-af042f50a937"
      },
      "source": [
        "glTF_tools.render_JSON(model)"
      ],
      "execution_count": 8,
      "outputs": [
        {
          "output_type": "display_data",
          "data": {
            "text/html": [
              "<div id=\"b3ea9af2-8a99-44ac-8b9b-ce2a922452c9\" style=\"width:100%;\"></div>"
            ]
          },
          "metadata": {
            "tags": []
          }
        },
        {
          "output_type": "display_data",
          "data": {
            "text/html": [
              "\n",
              "        <script src=\"https://rawgit.com/caldwell/renderjson/master/renderjson.js\"></script>\n",
              "        <script>\n",
              "            document.getElementById('b3ea9af2-8a99-44ac-8b9b-ce2a922452c9').appendChild(renderjson({\"asset\": {\"generator\": \"Khronos glTF Blender I/O v1.1.46\", \"version\": \"2.0\"}, \"scene\": 0, \"scenes\": [{\"name\": \"Scene\", \"nodes\": [0]}], \"nodes\": [{\"mesh\": 0, \"name\": \"Cube\"}], \"materials\": [{\"doubleSided\": true, \"emissiveFactor\": [0, 0, 0], \"name\": \"Material\", \"pbrMetallicRoughness\": {\"baseColorFactor\": [0.800000011920929, 0.800000011920929, 0.800000011920929, 1], \"metallicFactor\": 0, \"roughnessFactor\": 0.4000000059604645}}], \"meshes\": [{\"name\": \"Cube\", \"primitives\": [{\"attributes\": {\"POSITION\": 0, \"NORMAL\": 1, \"TEXCOORD_0\": 2}, \"indices\": 3, \"material\": 0}]}], \"accessors\": [{\"bufferView\": 0, \"componentType\": 5126, \"count\": 24, \"max\": [1, 1, 1], \"min\": [-1, -1, -1], \"type\": \"VEC3\"}, {\"bufferView\": 1, \"componentType\": 5126, \"count\": 24, \"type\": \"VEC3\"}, {\"bufferView\": 2, \"componentType\": 5126, \"count\": 24, \"type\": \"VEC2\"}, {\"bufferView\": 3, \"componentType\": 5123, \"count\": 36, \"type\": \"SCALAR\"}], \"bufferViews\": [{\"buffer\": 0, \"byteLength\": 288, \"byteOffset\": 0}, {\"buffer\": 0, \"byteLength\": 288, \"byteOffset\": 288}, {\"buffer\": 0, \"byteLength\": 192, \"byteOffset\": 576}, {\"buffer\": 0, \"byteLength\": 72, \"byteOffset\": 768}], \"buffers\": [{\"byteLength\": 840}]}))\n",
              "        </script>\n",
              "        "
            ]
          },
          "metadata": {
            "tags": []
          }
        }
      ]
    },
    {
      "cell_type": "markdown",
      "metadata": {
        "id": "GCjgwXhWMCI-",
        "colab_type": "text"
      },
      "source": [
        "## 參考"
      ]
    },
    {
      "cell_type": "markdown",
      "metadata": {
        "id": "MYLZSKtEMO9S",
        "colab_type": "text"
      },
      "source": [
        "1. https://github.com/KhronosGroup/glTF"
      ]
    }
  ]
}