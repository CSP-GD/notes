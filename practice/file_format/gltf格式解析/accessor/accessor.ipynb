{
  "nbformat": 4,
  "nbformat_minor": 0,
  "metadata": {
    "colab": {
      "name": "accessor.ipynb",
      "provenance": [],
      "toc_visible": true
    },
    "kernelspec": {
      "name": "python3",
      "display_name": "Python 3"
    }
  },
  "cells": [
    {
      "cell_type": "markdown",
      "metadata": {
        "id": "uDPDN1lSMl5q",
        "colab_type": "text"
      },
      "source": [
        "# GLTF 格式教學 Accessor 篇"
      ]
    },
    {
      "cell_type": "markdown",
      "metadata": {
        "id": "wB5dVCbFXVdh",
        "colab_type": "text"
      },
      "source": [
        "<a href=\"https://colab.research.google.com/github/CSP-GD/notes/blob/master/practice/file_format/gltf%E6%A0%BC%E5%BC%8F%E8%A7%A3%E6%9E%90/accessor/accessor.ipynb\">\n",
        "  <img src=\"https://colab.research.google.com/assets/colab-badge.svg\" alt=\"Open In Colab\"/>\n",
        "</a>\n",
        "\n",
        "[`Open in observablehq`](https://observablehq.com/@toonnyy8/gltf-accessor)"
      ]
    },
    {
      "cell_type": "markdown",
      "metadata": {
        "id": "GrSb0MlrFVpc",
        "colab_type": "text"
      },
      "source": [
        "![圖 1. buffers, bufferViews, accessors \\[1\\]](https://github.com/CSP-GD/notes/raw/master/practice/file_format/gltf%E6%A0%BC%E5%BC%8F%E8%A7%A3%E6%9E%90/accessor/gltfOverview-2.0.0b-accessor.png)\n",
        "\n",
        "圖 1. buffers, bufferViews, accessors \\[1\\]"
      ]
    },
    {
      "cell_type": "markdown",
      "metadata": {
        "id": "tRnc8CmU8vRl",
        "colab_type": "text"
      },
      "source": [
        "## 簡介"
      ]
    },
    {
      "cell_type": "markdown",
      "metadata": {
        "id": "ipYKedrrF1Xv",
        "colab_type": "text"
      },
      "source": [
        "在 glTF，模型的網格、權重、動畫等等數據實際上是儲存在 Buffer 中，  \n",
        "當要使用到這些數據時，就會用到 Accessor 去解讀數據，  \n",
        "而 Accessor 解讀的數據則是透過 BufferView 去從 Buffer 中提取出來的。"
      ]
    },
    {
      "cell_type": "markdown",
      "metadata": {
        "id": "LEkq_qNUISIE",
        "colab_type": "text"
      },
      "source": [
        "運作流程如下  \n",
        "> **Buffer** ==> **BufferView** 提取數據 ==> **Accessor** 解讀數據 ==> 數據"
      ]
    },
    {
      "cell_type": "markdown",
      "metadata": {
        "id": "225PstYr71tl",
        "colab_type": "text"
      },
      "source": [
        "### Accessor 屬性"
      ]
    },
    {
      "cell_type": "markdown",
      "metadata": {
        "id": "jYmCIK8yk63H",
        "colab_type": "text"
      },
      "source": [
        "- bufferView : \\<`number`\\>  \n",
        "> 此 Accessor 是從哪個 BufferView 取得數據。\n",
        "\n",
        "- byteOffset :\\<`number`\\>  \n",
        "> 從 BufferView 偏移多少個 byteOffset 的位置開始取數據。\n",
        "\n",
        "- type : <`string`>  \n",
        "> 表示一筆數據的類型(count 的單位)  \n",
        "> `SCALAR` : $1$ 個 componentType 構成  \n",
        "> `VEC2` : $2$ 個 componentType 構成  \n",
        "> `VEC3` : $3$ 個 componentType 構成  \n",
        "> `VEC4` : $4$ 個 componentType 構成  \n",
        "> `MAT2` : $2*2$ 個 componentType 構成  \n",
        "> `MAT3` : $3*3$ 個 componentType 構成  \n",
        "> `MAT4` : $4*4$ 個 componentType 構成  \n",
        "\n",
        "- componentType : \\<`GL Constant of Data Type`\\>  \n",
        "> 表示數據的型別，以下幾種為部分 componentType 代表的型別  \n",
        "> `5120` : `BYTE`  \n",
        "> `5121` : `UNSIGNED_BYTE`  \n",
        "> `5122` : `SHORT`  \n",
        "> `5123` : `UNSIGNED_SHORT`  \n",
        "> `5124` : `INT`  \n",
        "> `5125` : `UNSIGNED_INT`  \n",
        "> `5126` : `FLOAT`  \n",
        "  \n",
        "- count : \\<`number`\\>  \n",
        "> 有幾筆數據\n",
        "\n",
        "- min : \\<`type<componentType>`\\>\n",
        "> 數據的最大值\n",
        "\n",
        "- max : \\<`type<componentType>`\\>\n",
        "> 數據的最小值\n"
      ]
    },
    {
      "cell_type": "markdown",
      "metadata": {
        "id": "7lLXSFy275TY",
        "colab_type": "text"
      },
      "source": [
        "### BufferView 屬性"
      ]
    },
    {
      "cell_type": "markdown",
      "metadata": {
        "id": "c38LwWt8lfrB",
        "colab_type": "text"
      },
      "source": [
        "- buffer : \\<`number`\\>  \n",
        "> 此 BufferView 是從哪個 Buffer 取得數據。\n",
        "\n",
        "- byteOffset : \\<`number`\\>  \n",
        "> 從 Buffer 偏移多少個 byteOffset 的位置開始取數據。\n",
        "\n",
        "- byteLength : \\<`number`\\>  \n",
        "> 要取下多少個 byte。\n",
        "\n",
        "- byteStride : \\<`number`\\>  \n",
        "> 數據交錯擺放時，讓 Accessor 知道取數據的步伐要多少。\n",
        "\n",
        "- target : \\<`34962`|`34963`\\>  \n",
        "> 用來分辨數據的性質為 vertex (target 等於 `34962`，代表 `ARRAY_BUFFER`) 還是 vertex indices (target 等於 `34963`，代表 `ELEMENT_ARRAY_BUFFER`)。"
      ]
    },
    {
      "cell_type": "markdown",
      "metadata": {
        "id": "6s5BTeMz7_Tm",
        "colab_type": "text"
      },
      "source": [
        "### Buffer 屬性"
      ]
    },
    {
      "cell_type": "markdown",
      "metadata": {
        "id": "WLeSY5QVmXXm",
        "colab_type": "text"
      },
      "source": [
        "- byteLength : \\<`number`\\>  \n",
        "> 此 Buffer 的大小。\n",
        "\n",
        "- uri : \\<`string`\\>  \n",
        "> bufferData 的位置，也可能用 base64 直接儲存 bufferData。"
      ]
    },
    {
      "cell_type": "markdown",
      "metadata": {
        "id": "iJZE-jGf-JF4",
        "colab_type": "text"
      },
      "source": [
        "## 正式開始"
      ]
    },
    {
      "cell_type": "markdown",
      "metadata": {
        "id": "_Y8c5F6m-Kbp",
        "colab_type": "text"
      },
      "source": [
        "### 載入 glTF_tools"
      ]
    },
    {
      "cell_type": "code",
      "metadata": {
        "id": "xNujnE83-xB0",
        "colab_type": "code",
        "outputId": "7c9a6f83-d6da-4117-fc40-f580257d137c",
        "colab": {
          "base_uri": "https://localhost:8080/",
          "height": 339
        }
      },
      "source": [
        "!wget https://github.com/CSP-GD/notes/raw/master/practice/file_format/gltf%E6%A0%BC%E5%BC%8F%E8%A7%A3%E6%9E%90/gltf-tools.ipynb -O gltf-tools.ipynb\n",
        "%run ./gltf-tools.ipynb"
      ],
      "execution_count": 1,
      "outputs": [
        {
          "output_type": "stream",
          "text": [
            "--2020-05-04 11:40:19--  https://github.com/CSP-GD/notes/raw/master/practice/file_format/gltf%E6%A0%BC%E5%BC%8F%E8%A7%A3%E6%9E%90/gltf-tools.ipynb\n",
            "Resolving github.com (github.com)... 140.82.112.4\n",
            "Connecting to github.com (github.com)|140.82.112.4|:443... connected.\n",
            "HTTP request sent, awaiting response... 302 Found\n",
            "Location: https://raw.githubusercontent.com/CSP-GD/notes/master/practice/file_format/gltf%E6%A0%BC%E5%BC%8F%E8%A7%A3%E6%9E%90/gltf-tools.ipynb [following]\n",
            "--2020-05-04 11:40:20--  https://raw.githubusercontent.com/CSP-GD/notes/master/practice/file_format/gltf%E6%A0%BC%E5%BC%8F%E8%A7%A3%E6%9E%90/gltf-tools.ipynb\n",
            "Resolving raw.githubusercontent.com (raw.githubusercontent.com)... 151.101.0.133, 151.101.64.133, 151.101.128.133, ...\n",
            "Connecting to raw.githubusercontent.com (raw.githubusercontent.com)|151.101.0.133|:443... connected.\n",
            "HTTP request sent, awaiting response... 200 OK\n",
            "Length: 6682 (6.5K) [text/plain]\n",
            "Saving to: ‘gltf-tools.ipynb’\n",
            "\n",
            "gltf-tools.ipynb    100%[===================>]   6.53K  --.-KB/s    in 0s      \n",
            "\n",
            "2020-05-04 11:40:20 (66.3 MB/s) - ‘gltf-tools.ipynb’ saved [6682/6682]\n",
            "\n",
            "glTF_tools is loaded\n"
          ],
          "name": "stdout"
        }
      ]
    },
    {
      "cell_type": "markdown",
      "metadata": {
        "id": "Iaw0gWIIQass",
        "colab_type": "text"
      },
      "source": [
        "## 載入檔案"
      ]
    },
    {
      "cell_type": "code",
      "metadata": {
        "id": "blTAX0xFF4_V",
        "colab_type": "code",
        "outputId": "3370d1ed-5ad9-41f7-a6c6-420e38993af5",
        "colab": {
          "base_uri": "https://localhost:8080/",
          "height": 321
        }
      },
      "source": [
        "!wget https://github.com/CSP-GD/notes/raw/master/practice/file_format/gltf%E6%A0%BC%E5%BC%8F%E8%A7%A3%E6%9E%90/accessor/cube.glb -O cube.glb\n",
        "glb_file = open('./cube.glb', 'rb')\n",
        "glb_bytes = glb_file.read()\n",
        "model, buffers = glTF_tools.glb_loader(glb_bytes)"
      ],
      "execution_count": 2,
      "outputs": [
        {
          "output_type": "stream",
          "text": [
            "--2020-05-04 11:40:23--  https://github.com/CSP-GD/notes/raw/master/practice/file_format/gltf%E6%A0%BC%E5%BC%8F%E8%A7%A3%E6%9E%90/accessor/cube.glb\n",
            "Resolving github.com (github.com)... 140.82.112.4\n",
            "Connecting to github.com (github.com)|140.82.112.4|:443... connected.\n",
            "HTTP request sent, awaiting response... 302 Found\n",
            "Location: https://raw.githubusercontent.com/CSP-GD/notes/master/practice/file_format/gltf%E6%A0%BC%E5%BC%8F%E8%A7%A3%E6%9E%90/accessor/cube.glb [following]\n",
            "--2020-05-04 11:40:24--  https://raw.githubusercontent.com/CSP-GD/notes/master/practice/file_format/gltf%E6%A0%BC%E5%BC%8F%E8%A7%A3%E6%9E%90/accessor/cube.glb\n",
            "Resolving raw.githubusercontent.com (raw.githubusercontent.com)... 151.101.0.133, 151.101.64.133, 151.101.128.133, ...\n",
            "Connecting to raw.githubusercontent.com (raw.githubusercontent.com)|151.101.0.133|:443... connected.\n",
            "HTTP request sent, awaiting response... 200 OK\n",
            "Length: 1916 (1.9K) [application/octet-stream]\n",
            "Saving to: ‘cube.glb’\n",
            "\n",
            "cube.glb            100%[===================>]   1.87K  --.-KB/s    in 0s      \n",
            "\n",
            "2020-05-04 11:40:24 (20.8 MB/s) - ‘cube.glb’ saved [1916/1916]\n",
            "\n"
          ],
          "name": "stdout"
        }
      ]
    },
    {
      "cell_type": "code",
      "metadata": {
        "id": "4O-LvxEVVRb-",
        "colab_type": "code",
        "outputId": "6e1d661e-88ac-4ba0-b091-08999ce33374",
        "colab": {
          "base_uri": "https://localhost:8080/",
          "height": 388
        }
      },
      "source": [
        "glTF_tools.render_JSON(model)"
      ],
      "execution_count": 3,
      "outputs": [
        {
          "output_type": "display_data",
          "data": {
            "text/html": [
              "\n",
              "        <div id=\"a48675cc-d58c-42e8-97d0-43888768b6ab\" style=\"width:100%;\"></div>\n",
              "        <script src=\"https://rawgit.com/caldwell/renderjson/master/renderjson.js\"></script>\n",
              "        <script>\n",
              "            document.getElementById('a48675cc-d58c-42e8-97d0-43888768b6ab').appendChild(renderjson({\"asset\": {\"generator\": \"Khronos glTF Blender I/O v1.1.46\", \"version\": \"2.0\"}, \"scene\": 0, \"scenes\": [{\"name\": \"Scene\", \"nodes\": [0]}], \"nodes\": [{\"mesh\": 0, \"name\": \"Cube\"}], \"materials\": [{\"doubleSided\": true, \"emissiveFactor\": [0, 0, 0], \"name\": \"Material\", \"pbrMetallicRoughness\": {\"baseColorFactor\": [0.800000011920929, 0.800000011920929, 0.800000011920929, 1], \"metallicFactor\": 0, \"roughnessFactor\": 0.4000000059604645}}], \"meshes\": [{\"name\": \"Cube\", \"primitives\": [{\"attributes\": {\"POSITION\": 0, \"NORMAL\": 1, \"TEXCOORD_0\": 2}, \"indices\": 3, \"material\": 0}]}], \"accessors\": [{\"bufferView\": 0, \"componentType\": 5126, \"count\": 24, \"max\": [1, 1, 1], \"min\": [-1, -1, -1], \"type\": \"VEC3\"}, {\"bufferView\": 1, \"componentType\": 5126, \"count\": 24, \"type\": \"VEC3\"}, {\"bufferView\": 2, \"componentType\": 5126, \"count\": 24, \"type\": \"VEC2\"}, {\"bufferView\": 3, \"componentType\": 5123, \"count\": 36, \"type\": \"SCALAR\"}], \"bufferViews\": [{\"buffer\": 0, \"byteLength\": 288, \"byteOffset\": 0}, {\"buffer\": 0, \"byteLength\": 288, \"byteOffset\": 288}, {\"buffer\": 0, \"byteLength\": 192, \"byteOffset\": 576}, {\"buffer\": 0, \"byteLength\": 72, \"byteOffset\": 768}], \"buffers\": [{\"byteLength\": 840}]}))\n",
              "        </script>\n",
              "        "
            ]
          },
          "metadata": {
            "tags": []
          }
        }
      ]
    },
    {
      "cell_type": "markdown",
      "metadata": {
        "id": "ZiMT3bA3as6p",
        "colab_type": "text"
      },
      "source": [
        "## 查看一下 Accessor "
      ]
    },
    {
      "cell_type": "code",
      "metadata": {
        "id": "U64rCd7ZcVVH",
        "colab_type": "code",
        "outputId": "c26cb5c8-001b-4da9-e872-ce759d90a54f",
        "cellView": "both",
        "colab": {
          "base_uri": "https://localhost:8080/",
          "height": 34
        }
      },
      "source": [
        "#@title 發現少了 bufferOffset 的預設值 { vertical-output: true }\n",
        "glTF_tools.render_JSON(model['accessors'])"
      ],
      "execution_count": 4,
      "outputs": [
        {
          "output_type": "display_data",
          "data": {
            "text/html": [
              "\n",
              "        <div id=\"edb7d833-0b5f-4351-ab9c-f1acb2775daf\" style=\"width:100%;\"></div>\n",
              "        <script src=\"https://rawgit.com/caldwell/renderjson/master/renderjson.js\"></script>\n",
              "        <script>\n",
              "            document.getElementById('edb7d833-0b5f-4351-ab9c-f1acb2775daf').appendChild(renderjson([{'bufferView': 0, 'componentType': 5126, 'count': 24, 'max': [1, 1, 1], 'min': [-1, -1, -1], 'type': 'VEC3'}, {'bufferView': 1, 'componentType': 5126, 'count': 24, 'type': 'VEC3'}, {'bufferView': 2, 'componentType': 5126, 'count': 24, 'type': 'VEC2'}, {'bufferView': 3, 'componentType': 5123, 'count': 36, 'type': 'SCALAR'}]))\n",
              "        </script>\n",
              "        "
            ]
          },
          "metadata": {
            "tags": []
          }
        }
      ]
    },
    {
      "cell_type": "markdown",
      "metadata": {
        "id": "aTpfhRvbPmFT",
        "colab_type": "text"
      },
      "source": [
        "### 因此我們在這邊製作一個為 Accessor 填入初始值的 function"
      ]
    },
    {
      "cell_type": "code",
      "metadata": {
        "id": "-iZHxigWQkoc",
        "colab_type": "code",
        "colab": {}
      },
      "source": [
        "import copy\n",
        "def accessor_norm(accessor):\n",
        "    _accessor = copy.deepcopy(accessor)\n",
        "\n",
        "    # 做一些簡單的檢查，以確認必要的屬性是否存在\n",
        "    if _accessor.get(\"bufferView\") == None:\n",
        "        raise AttributeError(\"The accessor does not have the attribute of bufferView\")\n",
        "    if _accessor.get(\"componentType\") == None:\n",
        "        raise AttributeError(\"The accessor does not have the attribute of componentType\")\n",
        "    if _accessor.get(\"count\") == None:\n",
        "        raise AttributeError(\"The accessor does not have the attribute of count\")\n",
        "    if _accessor.get(\"type\") == None:\n",
        "        raise AttributeError(\"The accessor does not have the attribute of type\")\n",
        "\n",
        "    buffer_offset = _accessor.get(\"bufferOffset\")\n",
        "    _accessor[\"bufferOffset\"] = buffer_offset if buffer_offset != None else 0\n",
        "\n",
        "    return _accessor"
      ],
      "execution_count": 0,
      "outputs": []
    },
    {
      "cell_type": "markdown",
      "metadata": {
        "id": "7zR8U9NCaI5V",
        "colab_type": "text"
      },
      "source": [
        "將 Accessor 處理過後，確認 bufferOffset 的屬性都有添加上去了"
      ]
    },
    {
      "cell_type": "code",
      "metadata": {
        "id": "gqI55LKvXRTC",
        "colab_type": "code",
        "outputId": "40f7c81a-afde-4b6d-9083-b47ef1bcb6d7",
        "colab": {
          "base_uri": "https://localhost:8080/",
          "height": 34
        }
      },
      "source": [
        "_model = copy.deepcopy(model)\n",
        "for idx, accessor in enumerate(_model['accessors']):\n",
        "    _model['accessors'][idx] = accessor_norm(accessor)\n",
        "\n",
        "glTF_tools.render_JSON(_model['accessors'])"
      ],
      "execution_count": 6,
      "outputs": [
        {
          "output_type": "display_data",
          "data": {
            "text/html": [
              "\n",
              "        <div id=\"6927e410-034c-4578-bef1-f02c25233b79\" style=\"width:100%;\"></div>\n",
              "        <script src=\"https://rawgit.com/caldwell/renderjson/master/renderjson.js\"></script>\n",
              "        <script>\n",
              "            document.getElementById('6927e410-034c-4578-bef1-f02c25233b79').appendChild(renderjson([{'bufferView': 0, 'componentType': 5126, 'count': 24, 'max': [1, 1, 1], 'min': [-1, -1, -1], 'type': 'VEC3', 'bufferOffset': 0}, {'bufferView': 1, 'componentType': 5126, 'count': 24, 'type': 'VEC3', 'bufferOffset': 0}, {'bufferView': 2, 'componentType': 5126, 'count': 24, 'type': 'VEC2', 'bufferOffset': 0}, {'bufferView': 3, 'componentType': 5123, 'count': 36, 'type': 'SCALAR', 'bufferOffset': 0}]))\n",
              "        </script>\n",
              "        "
            ]
          },
          "metadata": {
            "tags": []
          }
        }
      ]
    },
    {
      "cell_type": "markdown",
      "metadata": {
        "id": "uagIH9Ppa4I-",
        "colab_type": "text"
      },
      "source": [
        "## 查看一下 BufferView"
      ]
    },
    {
      "cell_type": "code",
      "metadata": {
        "id": "s7FwsJOocx6E",
        "colab_type": "code",
        "outputId": "1eab1611-a1c7-45ec-c6f2-cbf306cfa8cf",
        "cellView": "both",
        "colab": {
          "base_uri": "https://localhost:8080/",
          "height": 34
        }
      },
      "source": [
        "#@title 發現 byteStride 與 target 都沒有設定預設值 { vertical-output: true }\n",
        "glTF_tools.render_JSON(_model['bufferViews'])"
      ],
      "execution_count": 7,
      "outputs": [
        {
          "output_type": "display_data",
          "data": {
            "text/html": [
              "\n",
              "        <div id=\"742b3948-c5d1-4dea-a728-ce386e320639\" style=\"width:100%;\"></div>\n",
              "        <script src=\"https://rawgit.com/caldwell/renderjson/master/renderjson.js\"></script>\n",
              "        <script>\n",
              "            document.getElementById('742b3948-c5d1-4dea-a728-ce386e320639').appendChild(renderjson([{'buffer': 0, 'byteLength': 288, 'byteOffset': 0}, {'buffer': 0, 'byteLength': 288, 'byteOffset': 288}, {'buffer': 0, 'byteLength': 192, 'byteOffset': 576}, {'buffer': 0, 'byteLength': 72, 'byteOffset': 768}]))\n",
              "        </script>\n",
              "        "
            ]
          },
          "metadata": {
            "tags": []
          }
        }
      ]
    },
    {
      "cell_type": "markdown",
      "metadata": {
        "colab_type": "text",
        "id": "v0OjD8vhbax9"
      },
      "source": [
        "### 因此我們在這邊製作一個為 BufferView 填入初始值的 function"
      ]
    },
    {
      "cell_type": "code",
      "metadata": {
        "colab_type": "code",
        "id": "TqoeeM_IbayC",
        "colab": {}
      },
      "source": [
        "import copy\n",
        "def buffer_view_norm(buffer_view, target = 34962):\n",
        "    _buffer_view = copy.deepcopy(buffer_view)\n",
        "\n",
        "    # 做一些簡單的檢查，以確認必要的屬性是否存在\n",
        "    if _buffer_view.get(\"buffer\") == None:\n",
        "        raise AttributeError(\"The bufferView does not have the attribute of buffer\")\n",
        "    if _buffer_view.get(\"byteLength\") == None:\n",
        "        raise AttributeError(\"The bufferView does not have the attribute of byteLength\")\n",
        "    if _buffer_view.get(\"byteOffset\") == None:\n",
        "        raise AttributeError(\"The bufferView does not have the attribute of byteOffset\")\n",
        "\n",
        "    byte_stride = _buffer_view.get(\"byteStride\")\n",
        "    _buffer_view[\"byteStride\"] = byte_stride if byte_stride != None else 0\n",
        "\n",
        "    _target = _buffer_view.get(\"target\")\n",
        "    _buffer_view[\"target\"] = _target if _target != None else target\n",
        "\n",
        "    return _buffer_view"
      ],
      "execution_count": 0,
      "outputs": []
    },
    {
      "cell_type": "markdown",
      "metadata": {
        "colab_type": "text",
        "id": "U7_jgSmWbayG"
      },
      "source": [
        "BufferView 的處理比 Accessor 複雜一些，  \n",
        "因為 target 的數值要從 Mesh 中判斷，  \n",
        "如果是被 Mesh 的 indices 指向的 Accessor 所標定的 BufferView，  \n",
        "其 target 便是 ELEMENT_ARRAY_BUFFER（34963），  \n",
        "否則就是 ARRAY_BUFFER（34962）。"
      ]
    },
    {
      "cell_type": "code",
      "metadata": {
        "colab_type": "code",
        "outputId": "7987faac-4275-42a5-bf0f-2605b6ba5e7f",
        "id": "E7IywBSAbayH",
        "colab": {
          "base_uri": "https://localhost:8080/",
          "height": 524
        }
      },
      "source": [
        "__model = copy.deepcopy(_model)\n",
        "for mesh in __model['meshes']:\n",
        "    for primitive in mesh['primitives']:\n",
        "        accessor = _model['accessors'][primitive.get('indices')]\n",
        "        __model['bufferViews'][accessor.get('bufferView')] = buffer_view_norm(__model['bufferViews'][accessor.get('bufferView')], 34963)\n",
        "\n",
        "for idx, buffer_view in enumerate(__model['bufferViews']):\n",
        "    __model['bufferViews'][idx] = buffer_view_norm(buffer_view)\n",
        "\n",
        "glTF_tools.render_JSON(__model['bufferViews'])"
      ],
      "execution_count": 9,
      "outputs": [
        {
          "output_type": "display_data",
          "data": {
            "text/html": [
              "\n",
              "        <div id=\"37817ba0-7e94-49ff-9897-5d1d8736ceef\" style=\"width:100%;\"></div>\n",
              "        <script src=\"https://rawgit.com/caldwell/renderjson/master/renderjson.js\"></script>\n",
              "        <script>\n",
              "            document.getElementById('37817ba0-7e94-49ff-9897-5d1d8736ceef').appendChild(renderjson([{'buffer': 0, 'byteLength': 288, 'byteOffset': 0, 'byteStride': 0, 'target': 34962}, {'buffer': 0, 'byteLength': 288, 'byteOffset': 288, 'byteStride': 0, 'target': 34962}, {'buffer': 0, 'byteLength': 192, 'byteOffset': 576, 'byteStride': 0, 'target': 34962}, {'buffer': 0, 'byteLength': 72, 'byteOffset': 768, 'byteStride': 0, 'target': 34963}]))\n",
              "        </script>\n",
              "        "
            ]
          },
          "metadata": {
            "tags": []
          }
        }
      ]
    },
    {
      "cell_type": "markdown",
      "metadata": {
        "id": "GCjgwXhWMCI-",
        "colab_type": "text"
      },
      "source": [
        "## 參考"
      ]
    },
    {
      "cell_type": "markdown",
      "metadata": {
        "id": "MYLZSKtEMO9S",
        "colab_type": "text"
      },
      "source": [
        "1. https://github.com/KhronosGroup/glTF"
      ]
    }
  ]
}