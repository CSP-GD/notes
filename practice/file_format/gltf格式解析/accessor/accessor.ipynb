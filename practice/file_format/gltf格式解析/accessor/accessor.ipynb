{
  "nbformat": 4,
  "nbformat_minor": 0,
  "metadata": {
    "colab": {
      "name": "accessor.ipynb",
      "provenance": [],
      "toc_visible": true
    },
    "kernelspec": {
      "name": "python3",
      "display_name": "Python 3"
    }
  },
  "cells": [
    {
      "cell_type": "markdown",
      "metadata": {
        "id": "uDPDN1lSMl5q",
        "colab_type": "text"
      },
      "source": [
        "# GLTF 格式教學 Accessor 篇"
      ]
    },
    {
      "cell_type": "markdown",
      "metadata": {
        "id": "wB5dVCbFXVdh",
        "colab_type": "text"
      },
      "source": [
        "<a href=\"https://colab.research.google.com/github/CSP-GD/notes/blob/master/practice/file_format/gltf%E6%A0%BC%E5%BC%8F%E8%A7%A3%E6%9E%90/accessor/accessor.ipynb\">\n",
        "  <img src=\"https://colab.research.google.com/assets/colab-badge.svg\" alt=\"Open In Colab\"/>\n",
        "</a>\n",
        "\n",
        "[`Open in observablehq`](https://observablehq.com/@toonnyy8/gltf-accessor)"
      ]
    },
    {
      "cell_type": "markdown",
      "metadata": {
        "id": "GrSb0MlrFVpc",
        "colab_type": "text"
      },
      "source": [
        "![圖 1. buffers, bufferViews, accessors \\[1\\]](https://github.com/CSP-GD/notes/raw/master/practice/file_format/gltf%E6%A0%BC%E5%BC%8F%E8%A7%A3%E6%9E%90/accessor/gltfOverview-2.0.0b-accessor.png)\n",
        "\n",
        "圖 1. buffers, bufferViews, accessors \\[1\\]"
      ]
    },
    {
      "cell_type": "markdown",
      "metadata": {
        "id": "tRnc8CmU8vRl",
        "colab_type": "text"
      },
      "source": [
        "## 簡介"
      ]
    },
    {
      "cell_type": "markdown",
      "metadata": {
        "id": "225PstYr71tl",
        "colab_type": "text"
      },
      "source": [
        "### Accessor 屬性"
      ]
    },
    {
      "cell_type": "markdown",
      "metadata": {
        "id": "jYmCIK8yk63H",
        "colab_type": "text"
      },
      "source": [
        "- bufferView : \\<`number`\\>  \n",
        "> 此 Accessor 是從哪個 BufferView 取得數據。\n",
        "\n",
        "- byteOffset :\\<`number`\\>  \n",
        "> 從 BufferView 偏移多少個 byteOffset 的位置開始取數據。\n",
        "\n",
        "- type : <`string`>  \n",
        "> 表示一筆數據的類型(count 的單位)  \n",
        "> `SCALAR` : $1$ 個 componentType 構成  \n",
        "> `VEC2` : $2$ 個 componentType 構成  \n",
        "> `VEC3` : $3$ 個 componentType 構成  \n",
        "> `VEC4` : $4$ 個 componentType 構成  \n",
        "> `MAT2` : $2*2$ 個 componentType 構成  \n",
        "> `MAT3` : $3*3$ 個 componentType 構成  \n",
        "> `MAT4` : $4*4$ 個 componentType 構成  \n",
        "\n",
        "- componentType : \\<`GL Constant of Data Type`\\>  \n",
        "> 表示數據的型別，以下幾種為部分 componentType 代表的型別  \n",
        "> `5120` : `BYTE`  \n",
        "> `5121` : `UNSIGNED_BYTE`  \n",
        "> `5122` : `SHORT`  \n",
        "> `5123` : `UNSIGNED_SHORT`  \n",
        "> `5124` : `INT`  \n",
        "> `5125` : `UNSIGNED_INT`  \n",
        "> `5126` : `FLOAT`  \n",
        "  \n",
        "- count : \\<`number`\\>  \n",
        "> 有幾筆數據\n",
        "\n",
        "- min : \\<`type<componentType>`\\>\n",
        "> 數據的最大值\n",
        "\n",
        "- max : \\<`type<componentType>`\\>\n",
        "> 數據的最小值\n"
      ]
    },
    {
      "cell_type": "markdown",
      "metadata": {
        "id": "7lLXSFy275TY",
        "colab_type": "text"
      },
      "source": [
        "### BufferView 屬性"
      ]
    },
    {
      "cell_type": "markdown",
      "metadata": {
        "id": "c38LwWt8lfrB",
        "colab_type": "text"
      },
      "source": [
        "- buffer : \\<`number`\\>  \n",
        "> 此 BufferView 是從哪個 Buffer 取得數據。\n",
        "\n",
        "- byteOffset : \\<`number`\\>  \n",
        "> 從 Buffer 偏移多少個 byteOffset 的位置開始取數據。\n",
        "\n",
        "- byteLength : \\<`number`\\>  \n",
        "> 要取下多少個 byte。\n",
        "\n",
        "- byteStride : \\<`number`\\>  \n",
        "> 數據交錯擺放時，讓 Accessor 知道取數據的步伐要多少。\n",
        "\n",
        "- target : \\<`34962`|`34963`\\>  \n",
        "> 用來分辨數據的性質為 vertex (target 等於 `34962`，代表 `ARRAY_BUFFER`) 還是 vertex indices (target 等於 `34963`，代表 `ELEMENT_ARRAY_BUFFER`)。"
      ]
    },
    {
      "cell_type": "markdown",
      "metadata": {
        "id": "6s5BTeMz7_Tm",
        "colab_type": "text"
      },
      "source": [
        "### Buffer 屬性"
      ]
    },
    {
      "cell_type": "markdown",
      "metadata": {
        "id": "WLeSY5QVmXXm",
        "colab_type": "text"
      },
      "source": [
        "- byteLength : \\<`number`\\>  \n",
        "> 此 Buffer 的大小。\n",
        "\n",
        "- uri : \\<`string`\\>  \n",
        "> bufferData 的位置，也可能用 base64 直接儲存 bufferData。"
      ]
    },
    {
      "cell_type": "markdown",
      "metadata": {
        "id": "iJZE-jGf-JF4",
        "colab_type": "text"
      },
      "source": [
        "## 正式開始"
      ]
    },
    {
      "cell_type": "markdown",
      "metadata": {
        "id": "_Y8c5F6m-Kbp",
        "colab_type": "text"
      },
      "source": [
        "### 載入 glTF_tools"
      ]
    },
    {
      "cell_type": "code",
      "metadata": {
        "id": "xNujnE83-xB0",
        "colab_type": "code",
        "outputId": "1dcefaad-57bb-4306-aba5-e3eec894a605",
        "colab": {
          "base_uri": "https://localhost:8080/",
          "height": 336
        }
      },
      "source": [
        "!wget https://github.com/CSP-GD/notes/raw/master/practice/file_format/gltf%E6%A0%BC%E5%BC%8F%E8%A7%A3%E6%9E%90/gltf-tools.ipynb -O gltf-tools.ipynb\n",
        "%run ./gltf-tools.ipynb"
      ],
      "execution_count": 9,
      "outputs": [
        {
          "output_type": "stream",
          "text": [
            "--2020-04-08 06:18:33--  https://github.com/CSP-GD/notes/raw/master/practice/file_format/gltf%E6%A0%BC%E5%BC%8F%E8%A7%A3%E6%9E%90/gltf-tools.ipynb\n",
            "Resolving github.com (github.com)... 140.82.118.3\n",
            "Connecting to github.com (github.com)|140.82.118.3|:443... connected.\n",
            "HTTP request sent, awaiting response... 302 Found\n",
            "Location: https://raw.githubusercontent.com/CSP-GD/notes/master/practice/file_format/gltf%E6%A0%BC%E5%BC%8F%E8%A7%A3%E6%9E%90/gltf-tools.ipynb [following]\n",
            "--2020-04-08 06:18:33--  https://raw.githubusercontent.com/CSP-GD/notes/master/practice/file_format/gltf%E6%A0%BC%E5%BC%8F%E8%A7%A3%E6%9E%90/gltf-tools.ipynb\n",
            "Resolving raw.githubusercontent.com (raw.githubusercontent.com)... 151.101.0.133, 151.101.64.133, 151.101.128.133, ...\n",
            "Connecting to raw.githubusercontent.com (raw.githubusercontent.com)|151.101.0.133|:443... connected.\n",
            "HTTP request sent, awaiting response... 200 OK\n",
            "Length: 5840 (5.7K) [text/plain]\n",
            "Saving to: ‘gltf-tools.ipynb’\n",
            "\n",
            "\rgltf-tools.ipynb      0%[                    ]       0  --.-KB/s               \rgltf-tools.ipynb    100%[===================>]   5.70K  --.-KB/s    in 0s      \n",
            "\n",
            "2020-04-08 06:18:33 (83.5 MB/s) - ‘gltf-tools.ipynb’ saved [5840/5840]\n",
            "\n",
            "glTF_tools is loaded\n"
          ],
          "name": "stdout"
        }
      ]
    },
    {
      "cell_type": "markdown",
      "metadata": {
        "id": "Iaw0gWIIQass",
        "colab_type": "text"
      },
      "source": [
        "## 載入檔案"
      ]
    },
    {
      "cell_type": "code",
      "metadata": {
        "id": "blTAX0xFF4_V",
        "colab_type": "code",
        "outputId": "20d44fc6-0c13-4e64-c936-06731461e3fd",
        "colab": {
          "base_uri": "https://localhost:8080/",
          "height": 318
        }
      },
      "source": [
        "!wget https://github.com/CSP-GD/notes/raw/master/practice/file_format/gltf%E6%A0%BC%E5%BC%8F%E8%A7%A3%E6%9E%90/accessor/cube.glb -O cube.glb\n",
        "glb_file = open('./cube.glb', 'rb')\n",
        "glb_bytes = glb_file.read()\n",
        "model, buffers = glTF_tools.glb_loader(glb_bytes)"
      ],
      "execution_count": 10,
      "outputs": [
        {
          "output_type": "stream",
          "text": [
            "--2020-04-08 06:18:35--  https://github.com/CSP-GD/notes/raw/master/practice/file_format/gltf%E6%A0%BC%E5%BC%8F%E8%A7%A3%E6%9E%90/accessor/cube.glb\n",
            "Resolving github.com (github.com)... 140.82.118.3\n",
            "Connecting to github.com (github.com)|140.82.118.3|:443... connected.\n",
            "HTTP request sent, awaiting response... 302 Found\n",
            "Location: https://raw.githubusercontent.com/CSP-GD/notes/master/practice/file_format/gltf%E6%A0%BC%E5%BC%8F%E8%A7%A3%E6%9E%90/accessor/cube.glb [following]\n",
            "--2020-04-08 06:18:36--  https://raw.githubusercontent.com/CSP-GD/notes/master/practice/file_format/gltf%E6%A0%BC%E5%BC%8F%E8%A7%A3%E6%9E%90/accessor/cube.glb\n",
            "Resolving raw.githubusercontent.com (raw.githubusercontent.com)... 151.101.0.133, 151.101.64.133, 151.101.128.133, ...\n",
            "Connecting to raw.githubusercontent.com (raw.githubusercontent.com)|151.101.0.133|:443... connected.\n",
            "HTTP request sent, awaiting response... 200 OK\n",
            "Length: 1916 (1.9K) [application/octet-stream]\n",
            "Saving to: ‘cube.glb’\n",
            "\n",
            "\rcube.glb              0%[                    ]       0  --.-KB/s               \rcube.glb            100%[===================>]   1.87K  --.-KB/s    in 0s      \n",
            "\n",
            "2020-04-08 06:18:36 (39.4 MB/s) - ‘cube.glb’ saved [1916/1916]\n",
            "\n"
          ],
          "name": "stdout"
        }
      ]
    },
    {
      "cell_type": "code",
      "metadata": {
        "id": "4O-LvxEVVRb-",
        "colab_type": "code",
        "colab": {
          "base_uri": "https://localhost:8080/",
          "height": 34
        },
        "outputId": "a6c058e5-7fd9-44f5-9de9-4cc32743c27e"
      },
      "source": [
        "glTF_tools.render_JSON(model)"
      ],
      "execution_count": 11,
      "outputs": [
        {
          "output_type": "display_data",
          "data": {
            "text/html": [
              "\n",
              "        <div id=\"66f02c87-bea1-41d1-9253-f2f08a658a8c\" style=\"width:100%;\"></div>\n",
              "        <script src=\"https://rawgit.com/caldwell/renderjson/master/renderjson.js\"></script>\n",
              "        <script>\n",
              "            document.getElementById('66f02c87-bea1-41d1-9253-f2f08a658a8c').appendChild(renderjson({\"asset\": {\"generator\": \"Khronos glTF Blender I/O v1.1.46\", \"version\": \"2.0\"}, \"scene\": 0, \"scenes\": [{\"name\": \"Scene\", \"nodes\": [0]}], \"nodes\": [{\"mesh\": 0, \"name\": \"Cube\"}], \"materials\": [{\"doubleSided\": true, \"emissiveFactor\": [0, 0, 0], \"name\": \"Material\", \"pbrMetallicRoughness\": {\"baseColorFactor\": [0.800000011920929, 0.800000011920929, 0.800000011920929, 1], \"metallicFactor\": 0, \"roughnessFactor\": 0.4000000059604645}}], \"meshes\": [{\"name\": \"Cube\", \"primitives\": [{\"attributes\": {\"POSITION\": 0, \"NORMAL\": 1, \"TEXCOORD_0\": 2}, \"indices\": 3, \"material\": 0}]}], \"accessors\": [{\"bufferView\": 0, \"componentType\": 5126, \"count\": 24, \"max\": [1, 1, 1], \"min\": [-1, -1, -1], \"type\": \"VEC3\"}, {\"bufferView\": 1, \"componentType\": 5126, \"count\": 24, \"type\": \"VEC3\"}, {\"bufferView\": 2, \"componentType\": 5126, \"count\": 24, \"type\": \"VEC2\"}, {\"bufferView\": 3, \"componentType\": 5123, \"count\": 36, \"type\": \"SCALAR\"}], \"bufferViews\": [{\"buffer\": 0, \"byteLength\": 288, \"byteOffset\": 0}, {\"buffer\": 0, \"byteLength\": 288, \"byteOffset\": 288}, {\"buffer\": 0, \"byteLength\": 192, \"byteOffset\": 576}, {\"buffer\": 0, \"byteLength\": 72, \"byteOffset\": 768}], \"buffers\": [{\"byteLength\": 840}]}))\n",
              "        </script>\n",
              "        "
            ]
          },
          "metadata": {
            "tags": []
          }
        }
      ]
    },
    {
      "cell_type": "code",
      "metadata": {
        "id": "U64rCd7ZcVVH",
        "colab_type": "code",
        "colab": {
          "base_uri": "https://localhost:8080/",
          "height": 34
        },
        "outputId": "c5459cb3-02ad-4db7-b183-7293b2176405"
      },
      "source": [
        "glTF_tools.render_JSON(model['accessors'])"
      ],
      "execution_count": 12,
      "outputs": [
        {
          "output_type": "display_data",
          "data": {
            "text/html": [
              "\n",
              "        <div id=\"e1b2e25a-0ffc-487b-bc06-52e9373bb149\" style=\"width:100%;\"></div>\n",
              "        <script src=\"https://rawgit.com/caldwell/renderjson/master/renderjson.js\"></script>\n",
              "        <script>\n",
              "            document.getElementById('e1b2e25a-0ffc-487b-bc06-52e9373bb149').appendChild(renderjson([{'bufferView': 0, 'componentType': 5126, 'count': 24, 'max': [1, 1, 1], 'min': [-1, -1, -1], 'type': 'VEC3'}, {'bufferView': 1, 'componentType': 5126, 'count': 24, 'type': 'VEC3'}, {'bufferView': 2, 'componentType': 5126, 'count': 24, 'type': 'VEC2'}, {'bufferView': 3, 'componentType': 5123, 'count': 36, 'type': 'SCALAR'}]))\n",
              "        </script>\n",
              "        "
            ]
          },
          "metadata": {
            "tags": []
          }
        }
      ]
    },
    {
      "cell_type": "code",
      "metadata": {
        "id": "s7FwsJOocx6E",
        "colab_type": "code",
        "colab": {
          "base_uri": "https://localhost:8080/",
          "height": 34
        },
        "outputId": "82a1d529-29aa-4c78-f1fe-9190e4196e74"
      },
      "source": [
        "glTF_tools.render_JSON(model['bufferViews'])"
      ],
      "execution_count": 13,
      "outputs": [
        {
          "output_type": "display_data",
          "data": {
            "text/html": [
              "\n",
              "        <div id=\"c67db318-0c3c-4e43-b616-160cc2d27cb2\" style=\"width:100%;\"></div>\n",
              "        <script src=\"https://rawgit.com/caldwell/renderjson/master/renderjson.js\"></script>\n",
              "        <script>\n",
              "            document.getElementById('c67db318-0c3c-4e43-b616-160cc2d27cb2').appendChild(renderjson([{'buffer': 0, 'byteLength': 288, 'byteOffset': 0}, {'buffer': 0, 'byteLength': 288, 'byteOffset': 288}, {'buffer': 0, 'byteLength': 192, 'byteOffset': 576}, {'buffer': 0, 'byteLength': 72, 'byteOffset': 768}]))\n",
              "        </script>\n",
              "        "
            ]
          },
          "metadata": {
            "tags": []
          }
        }
      ]
    },
    {
      "cell_type": "markdown",
      "metadata": {
        "id": "GCjgwXhWMCI-",
        "colab_type": "text"
      },
      "source": [
        "## 參考"
      ]
    },
    {
      "cell_type": "markdown",
      "metadata": {
        "id": "MYLZSKtEMO9S",
        "colab_type": "text"
      },
      "source": [
        "1. https://github.com/KhronosGroup/glTF"
      ]
    }
  ]
}