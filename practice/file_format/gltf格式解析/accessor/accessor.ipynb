{
  "nbformat": 4,
  "nbformat_minor": 0,
  "metadata": {
    "colab": {
      "name": "accessor.ipynb",
      "provenance": [],
      "toc_visible": true
    },
    "kernelspec": {
      "name": "python3",
      "display_name": "Python 3"
    }
  },
  "cells": [
    {
      "cell_type": "markdown",
      "metadata": {
        "id": "uDPDN1lSMl5q",
        "colab_type": "text"
      },
      "source": [
        "# GLTF 格式教學 Accessor 篇"
      ]
    },
    {
      "cell_type": "markdown",
      "metadata": {
        "id": "wB5dVCbFXVdh",
        "colab_type": "text"
      },
      "source": [
        "<a href=\"https://colab.research.google.com/github/CSP-GD/notes/blob/master/practice/file_format/gltf%E6%A0%BC%E5%BC%8F%E8%A7%A3%E6%9E%90/accessor/accessor.ipynb\">\n",
        "  <img src=\"https://colab.research.google.com/assets/colab-badge.svg\" alt=\"Open In Colab\"/>\n",
        "</a>\n",
        "\n",
        "[`Open in observablehq`](https://observablehq.com/@toonnyy8/gltf-accessor)"
      ]
    },
    {
      "cell_type": "markdown",
      "metadata": {
        "id": "GrSb0MlrFVpc",
        "colab_type": "text"
      },
      "source": [
        "![圖 1. buffers, bufferViews, accessors \\[1\\]](https://github.com/CSP-GD/notes/raw/master/practice/file_format/gltf%E6%A0%BC%E5%BC%8F%E8%A7%A3%E6%9E%90/accessor/gltfOverview-2.0.0b-accessor.png)\n",
        "\n",
        "圖 1. buffers, bufferViews, accessors \\[1\\]"
      ]
    },
    {
      "cell_type": "markdown",
      "metadata": {
        "id": "tRnc8CmU8vRl",
        "colab_type": "text"
      },
      "source": [
        "## 簡介"
      ]
    },
    {
      "cell_type": "markdown",
      "metadata": {
        "id": "ipYKedrrF1Xv",
        "colab_type": "text"
      },
      "source": [
        "在 glTF，模型的網格、權重、動畫等等數據實際上是儲存在 Buffer 中，  \n",
        "當要使用到這些數據時，就會用到 Accessor 去解讀數據，  \n",
        "而 Accessor 解讀的數據則是透過 BufferView 去從 Buffer 中提取出來的。"
      ]
    },
    {
      "cell_type": "markdown",
      "metadata": {
        "id": "LEkq_qNUISIE",
        "colab_type": "text"
      },
      "source": [
        "運作流程如下  \n",
        "> **Buffer** ==> **BufferView** 提取數據 ==> **Accessor** 解讀數據 ==> 數據"
      ]
    },
    {
      "cell_type": "markdown",
      "metadata": {
        "id": "225PstYr71tl",
        "colab_type": "text"
      },
      "source": [
        "### Accessor 屬性"
      ]
    },
    {
      "cell_type": "markdown",
      "metadata": {
        "id": "jYmCIK8yk63H",
        "colab_type": "text"
      },
      "source": [
        "- bufferView : \\<`number`\\>  \n",
        "> 此 Accessor 是從哪個 BufferView 取得數據。\n",
        "\n",
        "- byteOffset :\\<`number`\\>  \n",
        "> 從 BufferView 偏移多少個 byteOffset 的位置開始取數據。\n",
        "\n",
        "- type : <`string`>  \n",
        "> 表示一筆數據的類型(count 的單位)  \n",
        "> `SCALAR` : $1$ 個 componentType 構成  \n",
        "> `VEC2` : $2$ 個 componentType 構成  \n",
        "> `VEC3` : $3$ 個 componentType 構成  \n",
        "> `VEC4` : $4$ 個 componentType 構成  \n",
        "> `MAT2` : $2*2$ 個 componentType 構成  \n",
        "> `MAT3` : $3*3$ 個 componentType 構成  \n",
        "> `MAT4` : $4*4$ 個 componentType 構成  \n",
        "\n",
        "- componentType : \\<`GL Constant of Data Type`\\>  \n",
        "> 表示數據的型別，以下幾種為部分 componentType 代表的型別  \n",
        "> `5120` : `BYTE`  \n",
        "> `5121` : `UNSIGNED_BYTE`  \n",
        "> `5122` : `SHORT`  \n",
        "> `5123` : `UNSIGNED_SHORT`  \n",
        "> `5124` : `INT`  \n",
        "> `5125` : `UNSIGNED_INT`  \n",
        "> `5126` : `FLOAT`  \n",
        "  \n",
        "- count : \\<`number`\\>  \n",
        "> 有幾筆數據\n",
        "\n",
        "- min : \\<`type<componentType>`\\>\n",
        "> 數據的最大值\n",
        "\n",
        "- max : \\<`type<componentType>`\\>\n",
        "> 數據的最小值\n"
      ]
    },
    {
      "cell_type": "markdown",
      "metadata": {
        "id": "7lLXSFy275TY",
        "colab_type": "text"
      },
      "source": [
        "### BufferView 屬性"
      ]
    },
    {
      "cell_type": "markdown",
      "metadata": {
        "id": "c38LwWt8lfrB",
        "colab_type": "text"
      },
      "source": [
        "- buffer : \\<`number`\\>  \n",
        "> 此 BufferView 是從哪個 Buffer 取得數據。\n",
        "\n",
        "- byteOffset : \\<`number`\\>  \n",
        "> 從 Buffer 偏移多少個 byteOffset 的位置開始取數據。\n",
        "\n",
        "- byteLength : \\<`number`\\>  \n",
        "> 要取下多少個 byte。\n",
        "\n",
        "- byteStride : \\<`number`\\>  \n",
        "> 數據交錯擺放時，讓 Accessor 知道取數據的步伐要多少。\n",
        "\n",
        "- target : \\<`34962`|`34963`\\>  \n",
        "> 用來分辨數據的性質為 vertex (target 等於 `34962`，代表 `ARRAY_BUFFER`) 還是 vertex indices (target 等於 `34963`，代表 `ELEMENT_ARRAY_BUFFER`)。"
      ]
    },
    {
      "cell_type": "markdown",
      "metadata": {
        "id": "6s5BTeMz7_Tm",
        "colab_type": "text"
      },
      "source": [
        "### Buffer 屬性"
      ]
    },
    {
      "cell_type": "markdown",
      "metadata": {
        "id": "WLeSY5QVmXXm",
        "colab_type": "text"
      },
      "source": [
        "- byteLength : \\<`number`\\>  \n",
        "> 此 Buffer 的大小。\n",
        "\n",
        "- uri : \\<`string`\\>  \n",
        "> bufferData 的位置，也可能用 base64 直接儲存 bufferData。"
      ]
    },
    {
      "cell_type": "markdown",
      "metadata": {
        "id": "iJZE-jGf-JF4",
        "colab_type": "text"
      },
      "source": [
        "## 正式開始"
      ]
    },
    {
      "cell_type": "markdown",
      "metadata": {
        "id": "_Y8c5F6m-Kbp",
        "colab_type": "text"
      },
      "source": [
        "### 載入 glTF_tools"
      ]
    },
    {
      "cell_type": "code",
      "metadata": {
        "id": "xNujnE83-xB0",
        "colab_type": "code",
        "outputId": "3a870a53-3c79-4a81-8c8e-f7617d2ff9ec",
        "colab": {
          "base_uri": "https://localhost:8080/",
          "height": 339
        }
      },
      "source": [
        "!wget https://github.com/CSP-GD/notes/raw/master/practice/file_format/gltf%E6%A0%BC%E5%BC%8F%E8%A7%A3%E6%9E%90/gltf-tools.ipynb -O gltf-tools.ipynb\n",
        "%run ./gltf-tools.ipynb"
      ],
      "execution_count": 20,
      "outputs": [
        {
          "output_type": "stream",
          "text": [
            "--2020-05-02 03:11:29--  https://github.com/CSP-GD/notes/raw/master/practice/file_format/gltf%E6%A0%BC%E5%BC%8F%E8%A7%A3%E6%9E%90/gltf-tools.ipynb\n",
            "Resolving github.com (github.com)... 140.82.113.4\n",
            "Connecting to github.com (github.com)|140.82.113.4|:443... connected.\n",
            "HTTP request sent, awaiting response... 302 Found\n",
            "Location: https://raw.githubusercontent.com/CSP-GD/notes/master/practice/file_format/gltf%E6%A0%BC%E5%BC%8F%E8%A7%A3%E6%9E%90/gltf-tools.ipynb [following]\n",
            "--2020-05-02 03:11:29--  https://raw.githubusercontent.com/CSP-GD/notes/master/practice/file_format/gltf%E6%A0%BC%E5%BC%8F%E8%A7%A3%E6%9E%90/gltf-tools.ipynb\n",
            "Resolving raw.githubusercontent.com (raw.githubusercontent.com)... 151.101.0.133, 151.101.64.133, 151.101.128.133, ...\n",
            "Connecting to raw.githubusercontent.com (raw.githubusercontent.com)|151.101.0.133|:443... connected.\n",
            "HTTP request sent, awaiting response... 200 OK\n",
            "Length: 6682 (6.5K) [text/plain]\n",
            "Saving to: ‘gltf-tools.ipynb’\n",
            "\n",
            "\rgltf-tools.ipynb      0%[                    ]       0  --.-KB/s               \rgltf-tools.ipynb    100%[===================>]   6.53K  --.-KB/s    in 0s      \n",
            "\n",
            "2020-05-02 03:11:29 (67.5 MB/s) - ‘gltf-tools.ipynb’ saved [6682/6682]\n",
            "\n",
            "glTF_tools is loaded\n"
          ],
          "name": "stdout"
        }
      ]
    },
    {
      "cell_type": "markdown",
      "metadata": {
        "id": "Iaw0gWIIQass",
        "colab_type": "text"
      },
      "source": [
        "## 載入檔案"
      ]
    },
    {
      "cell_type": "code",
      "metadata": {
        "id": "blTAX0xFF4_V",
        "colab_type": "code",
        "outputId": "da056288-2cfe-4700-9d5d-08ed81987d31",
        "colab": {
          "base_uri": "https://localhost:8080/",
          "height": 321
        }
      },
      "source": [
        "!wget https://github.com/CSP-GD/notes/raw/master/practice/file_format/gltf%E6%A0%BC%E5%BC%8F%E8%A7%A3%E6%9E%90/accessor/cube.glb -O cube.glb\n",
        "glb_file = open('./cube.glb', 'rb')\n",
        "glb_bytes = glb_file.read()\n",
        "model, buffers = glTF_tools.glb_loader(glb_bytes)"
      ],
      "execution_count": 21,
      "outputs": [
        {
          "output_type": "stream",
          "text": [
            "--2020-05-02 03:11:32--  https://github.com/CSP-GD/notes/raw/master/practice/file_format/gltf%E6%A0%BC%E5%BC%8F%E8%A7%A3%E6%9E%90/accessor/cube.glb\n",
            "Resolving github.com (github.com)... 140.82.112.3\n",
            "Connecting to github.com (github.com)|140.82.112.3|:443... connected.\n",
            "HTTP request sent, awaiting response... 302 Found\n",
            "Location: https://raw.githubusercontent.com/CSP-GD/notes/master/practice/file_format/gltf%E6%A0%BC%E5%BC%8F%E8%A7%A3%E6%9E%90/accessor/cube.glb [following]\n",
            "--2020-05-02 03:11:32--  https://raw.githubusercontent.com/CSP-GD/notes/master/practice/file_format/gltf%E6%A0%BC%E5%BC%8F%E8%A7%A3%E6%9E%90/accessor/cube.glb\n",
            "Resolving raw.githubusercontent.com (raw.githubusercontent.com)... 151.101.0.133, 151.101.64.133, 151.101.128.133, ...\n",
            "Connecting to raw.githubusercontent.com (raw.githubusercontent.com)|151.101.0.133|:443... connected.\n",
            "HTTP request sent, awaiting response... 200 OK\n",
            "Length: 1916 (1.9K) [application/octet-stream]\n",
            "Saving to: ‘cube.glb’\n",
            "\n",
            "\rcube.glb              0%[                    ]       0  --.-KB/s               \rcube.glb            100%[===================>]   1.87K  --.-KB/s    in 0s      \n",
            "\n",
            "2020-05-02 03:11:32 (26.7 MB/s) - ‘cube.glb’ saved [1916/1916]\n",
            "\n"
          ],
          "name": "stdout"
        }
      ]
    },
    {
      "cell_type": "code",
      "metadata": {
        "id": "4O-LvxEVVRb-",
        "colab_type": "code",
        "outputId": "8f97123c-ca5e-4c53-baf3-021f11ffe6e7",
        "colab": {
          "base_uri": "https://localhost:8080/",
          "height": 676
        }
      },
      "source": [
        "glTF_tools.render_JSON(model)"
      ],
      "execution_count": 24,
      "outputs": [
        {
          "output_type": "display_data",
          "data": {
            "text/html": [
              "\n",
              "        <div id=\"693cff6c-bbbb-4f86-8f4b-676b3e9ae5f3\" style=\"width:100%;\"></div>\n",
              "        <script src=\"https://rawgit.com/caldwell/renderjson/master/renderjson.js\"></script>\n",
              "        <script>\n",
              "            document.getElementById('693cff6c-bbbb-4f86-8f4b-676b3e9ae5f3').appendChild(renderjson({\"asset\": {\"generator\": \"Khronos glTF Blender I/O v1.1.46\", \"version\": \"2.0\"}, \"scene\": 0, \"scenes\": [{\"name\": \"Scene\", \"nodes\": [0]}], \"nodes\": [{\"mesh\": 0, \"name\": \"Cube\"}], \"materials\": [{\"doubleSided\": true, \"emissiveFactor\": [0, 0, 0], \"name\": \"Material\", \"pbrMetallicRoughness\": {\"baseColorFactor\": [0.800000011920929, 0.800000011920929, 0.800000011920929, 1], \"metallicFactor\": 0, \"roughnessFactor\": 0.4000000059604645}}], \"meshes\": [{\"name\": \"Cube\", \"primitives\": [{\"attributes\": {\"POSITION\": 0, \"NORMAL\": 1, \"TEXCOORD_0\": 2}, \"indices\": 3, \"material\": 0}]}], \"accessors\": [{\"bufferView\": 0, \"componentType\": 5126, \"count\": 24, \"max\": [1, 1, 1], \"min\": [-1, -1, -1], \"type\": \"VEC3\"}, {\"bufferView\": 1, \"componentType\": 5126, \"count\": 24, \"type\": \"VEC3\"}, {\"bufferView\": 2, \"componentType\": 5126, \"count\": 24, \"type\": \"VEC2\"}, {\"bufferView\": 3, \"componentType\": 5123, \"count\": 36, \"type\": \"SCALAR\"}], \"bufferViews\": [{\"buffer\": 0, \"byteLength\": 288, \"byteOffset\": 0}, {\"buffer\": 0, \"byteLength\": 288, \"byteOffset\": 288}, {\"buffer\": 0, \"byteLength\": 192, \"byteOffset\": 576}, {\"buffer\": 0, \"byteLength\": 72, \"byteOffset\": 768}], \"buffers\": [{\"byteLength\": 840}]}))\n",
              "        </script>\n",
              "        "
            ]
          },
          "metadata": {
            "tags": []
          }
        }
      ]
    },
    {
      "cell_type": "markdown",
      "metadata": {
        "id": "ZiMT3bA3as6p",
        "colab_type": "text"
      },
      "source": [
        "## 查看一下 Accessor "
      ]
    },
    {
      "cell_type": "code",
      "metadata": {
        "id": "U64rCd7ZcVVH",
        "colab_type": "code",
        "outputId": "1de40480-5f2d-4ffe-d03a-3976fd903e4f",
        "colab": {
          "base_uri": "https://localhost:8080/",
          "height": 235
        },
        "cellView": "both"
      },
      "source": [
        "#@title 發現少了 bufferOffset 的預設值 { vertical-output: true }\n",
        "glTF_tools.render_JSON(model['accessors'])"
      ],
      "execution_count": 0,
      "outputs": [
        {
          "output_type": "display_data",
          "data": {
            "text/html": [
              "\n",
              "        <div id=\"c7f6401c-d5b8-4b33-b319-06bb2479b8fe\" style=\"width:100%;\"></div>\n",
              "        <script src=\"https://rawgit.com/caldwell/renderjson/master/renderjson.js\"></script>\n",
              "        <script>\n",
              "            document.getElementById('c7f6401c-d5b8-4b33-b319-06bb2479b8fe').appendChild(renderjson([{'bufferView': 0, 'componentType': 5126, 'count': 24, 'max': [1, 1, 1], 'min': [-1, -1, -1], 'type': 'VEC3'}, {'bufferView': 1, 'componentType': 5126, 'count': 24, 'type': 'VEC3'}, {'bufferView': 2, 'componentType': 5126, 'count': 24, 'type': 'VEC2'}, {'bufferView': 3, 'componentType': 5123, 'count': 36, 'type': 'SCALAR'}]))\n",
              "        </script>\n",
              "        "
            ]
          },
          "metadata": {
            "tags": []
          }
        }
      ]
    },
    {
      "cell_type": "markdown",
      "metadata": {
        "id": "aTpfhRvbPmFT",
        "colab_type": "text"
      },
      "source": [
        "### 因此我們在這邊製作一個為 Accessor 填入初始值的 function"
      ]
    },
    {
      "cell_type": "code",
      "metadata": {
        "id": "-iZHxigWQkoc",
        "colab_type": "code",
        "colab": {}
      },
      "source": [
        "import copy\n",
        "def accessor_norm(accessor):\n",
        "    _accessor = copy.deepcopy(accessor)\n",
        "\n",
        "    # 做一些簡單的檢查，以確認必要的屬性是否存在\n",
        "    if _accessor.get(\"bufferView\") == None:\n",
        "        raise AttributeError(\"The accessor does not have the attribute of bufferView\")\n",
        "    if _accessor.get(\"componentType\") == None:\n",
        "        raise AttributeError(\"The accessor does not have the attribute of componentType\")\n",
        "    if _accessor.get(\"count\") == None:\n",
        "        raise AttributeError(\"The accessor does not have the attribute of count\")\n",
        "    if _accessor.get(\"type\") == None:\n",
        "        raise AttributeError(\"The accessor does not have the attribute of type\")\n",
        "\n",
        "    buffer_offset = _accessor.get(\"bufferOffset\")\n",
        "    _accessor[\"bufferOffset\"] = buffer_offset if buffer_offset != None else 0\n",
        "\n",
        "    return _accessor"
      ],
      "execution_count": 0,
      "outputs": []
    },
    {
      "cell_type": "markdown",
      "metadata": {
        "id": "7zR8U9NCaI5V",
        "colab_type": "text"
      },
      "source": [
        "將 Accessor 處理過後，確認 bufferOffset 的屬性都有添加上去了"
      ]
    },
    {
      "cell_type": "code",
      "metadata": {
        "id": "gqI55LKvXRTC",
        "colab_type": "code",
        "colab": {
          "base_uri": "https://localhost:8080/",
          "height": 34
        },
        "outputId": "972fe73e-4fee-47b6-dcbc-f26d4cf77d04"
      },
      "source": [
        "_model = copy.deepcopy(model)\n",
        "for idx, accessor in enumerate(_model['accessors']):\n",
        "    _model['accessors'][idx] = accessor_norm(accessor)\n",
        "\n",
        "glTF_tools.render_JSON(_model['accessors'])"
      ],
      "execution_count": 29,
      "outputs": [
        {
          "output_type": "display_data",
          "data": {
            "text/html": [
              "\n",
              "        <div id=\"db71658a-8797-4636-aeb0-aebac02a5488\" style=\"width:100%;\"></div>\n",
              "        <script src=\"https://rawgit.com/caldwell/renderjson/master/renderjson.js\"></script>\n",
              "        <script>\n",
              "            document.getElementById('db71658a-8797-4636-aeb0-aebac02a5488').appendChild(renderjson([{'bufferView': 0, 'componentType': 5126, 'count': 24, 'max': [1, 1, 1], 'min': [-1, -1, -1], 'type': 'VEC3', 'bufferOffset': 0}, {'bufferView': 1, 'componentType': 5126, 'count': 24, 'type': 'VEC3', 'bufferOffset': 0}, {'bufferView': 2, 'componentType': 5126, 'count': 24, 'type': 'VEC2', 'bufferOffset': 0}, {'bufferView': 3, 'componentType': 5123, 'count': 36, 'type': 'SCALAR', 'bufferOffset': 0}]))\n",
              "        </script>\n",
              "        "
            ]
          },
          "metadata": {
            "tags": []
          }
        }
      ]
    },
    {
      "cell_type": "markdown",
      "metadata": {
        "id": "uagIH9Ppa4I-",
        "colab_type": "text"
      },
      "source": [
        "## 查看一下 BufferView"
      ]
    },
    {
      "cell_type": "code",
      "metadata": {
        "id": "s7FwsJOocx6E",
        "colab_type": "code",
        "outputId": "46e0ebb3-98ca-4295-f6c4-bf541451cb26",
        "colab": {
          "base_uri": "https://localhost:8080/",
          "height": 185
        },
        "cellView": "form"
      },
      "source": [
        "#@title 發現 byteStride 與 target 都沒有設定預設值 { vertical-output: true }\n",
        "glTF_tools.render_JSON(_model['bufferViews'])"
      ],
      "execution_count": 0,
      "outputs": [
        {
          "output_type": "display_data",
          "data": {
            "text/html": [
              "\n",
              "        <div id=\"d80731ed-45d4-4d2d-b0a3-30754e7e8061\" style=\"width:100%;\"></div>\n",
              "        <script src=\"https://rawgit.com/caldwell/renderjson/master/renderjson.js\"></script>\n",
              "        <script>\n",
              "            document.getElementById('d80731ed-45d4-4d2d-b0a3-30754e7e8061').appendChild(renderjson([{'buffer': 0, 'byteLength': 288, 'byteOffset': 0}, {'buffer': 0, 'byteLength': 288, 'byteOffset': 288}, {'buffer': 0, 'byteLength': 192, 'byteOffset': 576}, {'buffer': 0, 'byteLength': 72, 'byteOffset': 768}]))\n",
              "        </script>\n",
              "        "
            ]
          },
          "metadata": {
            "tags": []
          }
        }
      ]
    },
    {
      "cell_type": "markdown",
      "metadata": {
        "colab_type": "text",
        "id": "v0OjD8vhbax9"
      },
      "source": [
        "### 因此我們在這邊製作一個為 BufferView 填入初始值的 function"
      ]
    },
    {
      "cell_type": "code",
      "metadata": {
        "colab_type": "code",
        "id": "TqoeeM_IbayC",
        "colab": {}
      },
      "source": [
        "import copy\n",
        "def buffer_view_norm(buffer_view, target = 34962):\n",
        "    _buffer_view = copy.deepcopy(buffer_view)\n",
        "\n",
        "    # 做一些簡單的檢查，以確認必要的屬性是否存在\n",
        "    if _buffer_view.get(\"buffer\") == None:\n",
        "        raise AttributeError(\"The bufferView does not have the attribute of buffer\")\n",
        "    if _buffer_view.get(\"byteLength\") == None:\n",
        "        raise AttributeError(\"The bufferView does not have the attribute of byteLength\")\n",
        "    if _buffer_view.get(\"byteOffset\") == None:\n",
        "        raise AttributeError(\"The bufferView does not have the attribute of byteOffset\")\n",
        "\n",
        "    byte_stride = _buffer_view.get(\"byteStride\")\n",
        "    _buffer_view[\"byteStride\"] = byte_stride if byte_stride != None else 0\n",
        "\n",
        "    _target = _buffer_view.get(\"target\")\n",
        "    _buffer_view[\"target\"] = _target if _target != None else target\n",
        "\n",
        "    return _buffer_view"
      ],
      "execution_count": 0,
      "outputs": []
    },
    {
      "cell_type": "markdown",
      "metadata": {
        "colab_type": "text",
        "id": "U7_jgSmWbayG"
      },
      "source": [
        "BufferView 的處理比 Accessor 複雜一些，  \n",
        "因為 target 的數值要從 Mesh 中判斷，  \n",
        "如果是被 Mesh 的 indices 指向的 Accessor 所標定的 BufferView，  \n",
        "其 target 便是 ELEMENT_ARRAY_BUFFER（34963），  \n",
        "否則就是 ARRAY_BUFFER（34962）。"
      ]
    },
    {
      "cell_type": "code",
      "metadata": {
        "colab_type": "code",
        "outputId": "972fe73e-4fee-47b6-dcbc-f26d4cf77d04",
        "id": "E7IywBSAbayH",
        "colab": {
          "base_uri": "https://localhost:8080/",
          "height": 34
        }
      },
      "source": [
        "_model = copy.deepcopy(model)\n",
        "for idx, accessor in enumerate(_model['accessors']):\n",
        "    _model['accessors'][idx] = accessor_norm(accessor)\n",
        "\n",
        "glTF_tools.render_JSON(_model['accessors'])"
      ],
      "execution_count": 0,
      "outputs": [
        {
          "output_type": "display_data",
          "data": {
            "text/html": [
              "\n",
              "        <div id=\"db71658a-8797-4636-aeb0-aebac02a5488\" style=\"width:100%;\"></div>\n",
              "        <script src=\"https://rawgit.com/caldwell/renderjson/master/renderjson.js\"></script>\n",
              "        <script>\n",
              "            document.getElementById('db71658a-8797-4636-aeb0-aebac02a5488').appendChild(renderjson([{'bufferView': 0, 'componentType': 5126, 'count': 24, 'max': [1, 1, 1], 'min': [-1, -1, -1], 'type': 'VEC3', 'bufferOffset': 0}, {'bufferView': 1, 'componentType': 5126, 'count': 24, 'type': 'VEC3', 'bufferOffset': 0}, {'bufferView': 2, 'componentType': 5126, 'count': 24, 'type': 'VEC2', 'bufferOffset': 0}, {'bufferView': 3, 'componentType': 5123, 'count': 36, 'type': 'SCALAR', 'bufferOffset': 0}]))\n",
              "        </script>\n",
              "        "
            ]
          },
          "metadata": {
            "tags": []
          }
        }
      ]
    },
    {
      "cell_type": "code",
      "metadata": {
        "id": "uYdTkx7tJwLz",
        "colab_type": "code",
        "outputId": "eee8dcf8-72e1-487f-b841-a344078d9fc2",
        "colab": {
          "base_uri": "https://localhost:8080/",
          "height": 160
        }
      },
      "source": [
        "def accessor_with_buffer(idx, model, buffers):\n",
        "    _accessor = model['accessors'][idx]\n",
        "    _buffer_view = model['bufferViews'][_accessor['bufferView']]\n",
        "    _buffer = buffers[_buffer_view['buffer']]\n",
        "    byteLength = _buffer_view['byteLength']\n",
        "    byteOffset = _buffer_view['byteOffset']\n",
        "    \n",
        "    return _accessor, _buffer[byteOffset:byteOffset + byteLength]\n",
        "\n",
        "accessor_with_buffer(0, model, buffers)"
      ],
      "execution_count": 0,
      "outputs": [
        {
          "output_type": "execute_result",
          "data": {
            "text/plain": [
              "({'bufferView': 0,\n",
              "  'componentType': 5126,\n",
              "  'count': 24,\n",
              "  'max': [1, 1, 1],\n",
              "  'min': [-1, -1, -1],\n",
              "  'type': 'VEC3'},\n",
              " b'\\x00\\x00\\x80?\\x00\\x00\\x80?\\x00\\x00\\x80?\\x00\\x00\\x80?\\x00\\x00\\x80?\\x00\\x00\\x80\\xbf\\x00\\x00\\x80\\xbf\\x00\\x00\\x80?\\x00\\x00\\x80\\xbf\\x00\\x00\\x80\\xbf\\x00\\x00\\x80?\\x00\\x00\\x80?\\x00\\x00\\x80\\xbf\\x00\\x00\\x80?\\x00\\x00\\x80?\\x00\\x00\\x80\\xbf\\x00\\x00\\x80\\xbf\\x00\\x00\\x80?\\x00\\x00\\x80?\\x00\\x00\\x80\\xbf\\x00\\x00\\x80?\\x00\\x00\\x80?\\x00\\x00\\x80?\\x00\\x00\\x80?\\x00\\x00\\x80\\xbf\\x00\\x00\\x80?\\x00\\x00\\x80\\xbf\\x00\\x00\\x80\\xbf\\x00\\x00\\x80\\xbf\\x00\\x00\\x80\\xbf\\x00\\x00\\x80\\xbf\\x00\\x00\\x80\\xbf\\x00\\x00\\x80?\\x00\\x00\\x80\\xbf\\x00\\x00\\x80?\\x00\\x00\\x80?\\x00\\x00\\x80\\xbf\\x00\\x00\\x80\\xbf\\x00\\x00\\x80?\\x00\\x00\\x80\\xbf\\x00\\x00\\x80\\xbf\\x00\\x00\\x80\\xbf\\x00\\x00\\x80?\\x00\\x00\\x80\\xbf\\x00\\x00\\x80\\xbf\\x00\\x00\\x80?\\x00\\x00\\x80\\xbf\\x00\\x00\\x80?\\x00\\x00\\x80?\\x00\\x00\\x80?\\x00\\x00\\x80?\\x00\\x00\\x80?\\x00\\x00\\x80\\xbf\\x00\\x00\\x80?\\x00\\x00\\x80?\\x00\\x00\\x80\\xbf\\x00\\x00\\x80\\xbf\\x00\\x00\\x80?\\x00\\x00\\x80?\\x00\\x00\\x80\\xbf\\x00\\x00\\x80?\\x00\\x00\\x80?\\x00\\x00\\x80\\xbf\\x00\\x00\\x80?\\x00\\x00\\x80\\xbf\\x00\\x00\\x80\\xbf\\x00\\x00\\x80\\xbf\\x00\\x00\\x80\\xbf\\x00\\x00\\x80\\xbf\\x00\\x00\\x80\\xbf\\x00\\x00\\x80?\\x00\\x00\\x80\\xbf')"
            ]
          },
          "metadata": {
            "tags": []
          },
          "execution_count": 15
        }
      ]
    },
    {
      "cell_type": "markdown",
      "metadata": {
        "id": "GCjgwXhWMCI-",
        "colab_type": "text"
      },
      "source": [
        "## 參考"
      ]
    },
    {
      "cell_type": "markdown",
      "metadata": {
        "id": "MYLZSKtEMO9S",
        "colab_type": "text"
      },
      "source": [
        "1. https://github.com/KhronosGroup/glTF"
      ]
    }
  ]
}