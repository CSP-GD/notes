{
  "nbformat": 4,
  "nbformat_minor": 0,
  "metadata": {
    "colab": {
      "name": "glb.ipynb",
      "provenance": [],
      "toc_visible": true
    },
    "kernelspec": {
      "name": "python3",
      "display_name": "Python 3"
    },
    "accelerator": "GPU"
  },
  "cells": [
    {
      "cell_type": "markdown",
      "metadata": {
        "id": "uDPDN1lSMl5q",
        "colab_type": "text"
      },
      "source": [
        "# GLTF 格式教學 開篇"
      ]
    },
    {
      "cell_type": "markdown",
      "metadata": {
        "id": "wB5dVCbFXVdh",
        "colab_type": "text"
      },
      "source": [
        "<a href=\"https://colab.research.google.com/github/CSP-GD/notes/blob/master/practice/file_format/gltf%E6%A0%BC%E5%BC%8F%E8%A7%A3%E6%9E%90/glb/glb.ipynb\">\n",
        "  <img src=\"https://colab.research.google.com/assets/colab-badge.svg\" alt=\"Open In Colab\"/>\n",
        "</a>\n",
        "\n",
        "[`Open in observablehq`](https://observablehq.com/@toonnyy8/gltf/3)"
      ]
    },
    {
      "cell_type": "markdown",
      "metadata": {
        "id": "tRnc8CmU8vRl",
        "colab_type": "text"
      },
      "source": [
        "## 關於 glTF"
      ]
    },
    {
      "cell_type": "markdown",
      "metadata": {
        "id": "IvWTJtvn87EL",
        "colab_type": "text"
      },
      "source": [
        "[glTF](https://www.khronos.org/gltf/) 全名為 GL Transmission Format (GL 傳輸格式)，  \n",
        "是由 Khronos 所推出的新 3D 模型儲存格式，  \n",
        "以容易讀取與解析的 JSON 格式作為主體，  \n",
        "希望能讓開發者輕鬆、高效的存取 3D 模型。"
      ]
    },
    {
      "cell_type": "markdown",
      "metadata": {
        "id": "FpK18ZA68_Y1",
        "colab_type": "text"
      },
      "source": [
        "glTF 格式實際上有三種儲存形式，分別是：\n",
        "1. **.gltf + .bin + texture**  \n",
        "> 由 JSON 格式的 `.gltf`、二進位格式的 `.bin` 與紋理圖片 `texture` 組合而成，  \n",
        "> 並在 `.gltf` 裡使用 url 去指向 `.bin` & `texture`。\n",
        "2. **.gltf only**  \n",
        "> 將全部資訊都儲存在 `.gltf` 中，  \n",
        "> 原本 `.bin` 與 `texture` 的部分會轉成 base64 存放於 `.gltf`。\n",
        "3. **.glb**  \n",
        "> 將全部資訊轉換成二進位格式儲存在 `.glb`。"
      ]
    },
    {
      "cell_type": "markdown",
      "metadata": {
        "id": "iJZE-jGf-JF4",
        "colab_type": "text"
      },
      "source": [
        "## 關於本教學"
      ]
    },
    {
      "cell_type": "markdown",
      "metadata": {
        "id": "_Y8c5F6m-Kbp",
        "colab_type": "text"
      },
      "source": [
        "本篇教學是某位萌新因心血來潮而開始編寫，  \n",
        "將會用 js 一步步去解讀 glTF，  \n",
        "希望能藉此將 glTF 格式推廣出去。  \n",
        "\n",
        "> ps.  \n",
        "> 實際上是某天看到 glTF 是自己能看懂的 3D 格式就很興奮的跳坑了，  \n",
        "> 然後才悲劇的發現「看懂!=讀懂」，好在官方文檔還蠻完善的，  \n",
        "> 網路上也能找些許的教學，所以開始非常痛苦又漫長的學習之路，  \n",
        "> 期許各位讀者能從這系列教學輕鬆的了解 glTF 並完成自己的載入器。"
      ]
    },
    {
      "cell_type": "markdown",
      "metadata": {
        "id": "GolqcvlZFjwX",
        "colab_type": "text"
      },
      "source": [
        "## .glb 格式解析"
      ]
    },
    {
      "cell_type": "markdown",
      "metadata": {
        "id": "GrSb0MlrFVpc",
        "colab_type": "text"
      },
      "source": [
        "作為教學的開篇就先簡單的分析 glTF 的二進位格式 glb\n",
        "\n",
        "![圖 1. glb格式](https://raw.githubusercontent.com/CSP-GD/notes/master/practice/file_format/gltf%E6%A0%BC%E5%BC%8F%E8%A7%A3%E6%9E%90/glb/gltfOverview-2.0.0b-binary.png)\n",
        "\n",
        "圖 1. glb格式"
      ]
    },
    {
      "cell_type": "markdown",
      "metadata": {
        "id": "GWWrpujiF3Gf",
        "colab_type": "text"
      },
      "source": [
        "### 先載入範例檔案"
      ]
    },
    {
      "cell_type": "code",
      "metadata": {
        "id": "blTAX0xFF4_V",
        "colab_type": "code",
        "outputId": "408b89c1-05f8-45e9-8c4d-f9def7fdae5d",
        "colab": {
          "base_uri": "https://localhost:8080/",
          "height": 318
        }
      },
      "source": [
        "!wget https://github.com/CSP-GD/notes/raw/master/practice/file_format/gltf%E6%A0%BC%E5%BC%8F%E8%A7%A3%E6%9E%90/glb/cube.glb\n"
      ],
      "execution_count": 1,
      "outputs": [
        {
          "output_type": "stream",
          "text": [
            "--2020-04-06 07:56:37--  https://github.com/CSP-GD/notes/raw/master/practice/file_format/gltf%E6%A0%BC%E5%BC%8F%E8%A7%A3%E6%9E%90/glb/cube.glb\n",
            "Resolving github.com (github.com)... 140.82.118.4\n",
            "Connecting to github.com (github.com)|140.82.118.4|:443... connected.\n",
            "HTTP request sent, awaiting response... 302 Found\n",
            "Location: https://raw.githubusercontent.com/CSP-GD/notes/master/practice/file_format/gltf%E6%A0%BC%E5%BC%8F%E8%A7%A3%E6%9E%90/glb/cube.glb [following]\n",
            "--2020-04-06 07:56:37--  https://raw.githubusercontent.com/CSP-GD/notes/master/practice/file_format/gltf%E6%A0%BC%E5%BC%8F%E8%A7%A3%E6%9E%90/glb/cube.glb\n",
            "Resolving raw.githubusercontent.com (raw.githubusercontent.com)... 151.101.0.133, 151.101.64.133, 151.101.128.133, ...\n",
            "Connecting to raw.githubusercontent.com (raw.githubusercontent.com)|151.101.0.133|:443... connected.\n",
            "HTTP request sent, awaiting response... 200 OK\n",
            "Length: 2280 (2.2K) [application/octet-stream]\n",
            "Saving to: ‘cube.glb’\n",
            "\n",
            "\rcube.glb              0%[                    ]       0  --.-KB/s               \rcube.glb            100%[===================>]   2.23K  --.-KB/s    in 0s      \n",
            "\n",
            "2020-04-06 07:56:37 (41.9 MB/s) - ‘cube.glb’ saved [2280/2280]\n",
            "\n"
          ],
          "name": "stdout"
        }
      ]
    },
    {
      "cell_type": "code",
      "metadata": {
        "id": "43xdWXw7HXI4",
        "colab_type": "code",
        "outputId": "8cd8df55-017d-42c8-ded1-c174eff3e9bb",
        "colab": {
          "base_uri": "https://localhost:8080/",
          "height": 34
        }
      },
      "source": [
        "glb_file = open('./cube.glb', 'rb')\n",
        "\n",
        "glb_file"
      ],
      "execution_count": 0,
      "outputs": [
        {
          "output_type": "stream",
          "text": [
            "<_io.BufferedReader name='./cube.glb'>\n"
          ],
          "name": "stdout"
        }
      ]
    },
    {
      "cell_type": "markdown",
      "metadata": {
        "id": "ewXS5wSWVo-Z",
        "colab_type": "text"
      },
      "source": [
        "### 將檔案內容讀取出來"
      ]
    },
    {
      "cell_type": "code",
      "metadata": {
        "id": "mJ-12u_AIqhS",
        "colab_type": "code",
        "colab": {}
      },
      "source": [
        "glb_bytes = glb_file.read()\n",
        "\n",
        "# glb_bytes"
      ],
      "execution_count": 0,
      "outputs": []
    },
    {
      "cell_type": "markdown",
      "metadata": {
        "id": "_jxnzToBV6j-",
        "colab_type": "text"
      },
      "source": [
        "### 解析 header"
      ]
    },
    {
      "cell_type": "markdown",
      "metadata": {
        "id": "UPOEyNM0V-21",
        "colab_type": "text"
      },
      "source": [
        "0~3 Bytes 為「glTF」的 ASCII 編碼"
      ]
    },
    {
      "cell_type": "code",
      "metadata": {
        "id": "uf3sKeNcJWW-",
        "colab_type": "code",
        "outputId": "0a30a7d3-e7b7-423a-b88a-30683beca144",
        "colab": {
          "base_uri": "https://localhost:8080/",
          "height": 34
        }
      },
      "source": [
        "glb_bytes[0:4].decode()"
      ],
      "execution_count": 0,
      "outputs": [
        {
          "output_type": "execute_result",
          "data": {
            "text/plain": [
              "'glTF'"
            ]
          },
          "metadata": {
            "tags": []
          },
          "execution_count": 50
        }
      ]
    },
    {
      "cell_type": "markdown",
      "metadata": {
        "id": "hWaxmhnfWCpZ",
        "colab_type": "text"
      },
      "source": [
        "第 4~7 Bytes 應該會顯示 glTF 的版本"
      ]
    },
    {
      "cell_type": "code",
      "metadata": {
        "id": "C5R3NZiBJxWW",
        "colab_type": "code",
        "outputId": "66d5ff33-d2c8-4c1d-8b46-bcac9b377a48",
        "colab": {
          "base_uri": "https://localhost:8080/",
          "height": 34
        }
      },
      "source": [
        "gltf_version = 0\n",
        "\n",
        "for idx, curr in enumerate(glb_bytes[4:8]):\n",
        "    gltf_version += curr * 256 ** idx\n",
        "\n",
        "gltf_version"
      ],
      "execution_count": 0,
      "outputs": [
        {
          "output_type": "execute_result",
          "data": {
            "text/plain": [
              "2"
            ]
          },
          "metadata": {
            "tags": []
          },
          "execution_count": 80
        }
      ]
    },
    {
      "cell_type": "markdown",
      "metadata": {
        "id": "nwBYSf0JWFfR",
        "colab_type": "text"
      },
      "source": [
        "第 8~11 Bytes 則代表此檔案的 Byte 數"
      ]
    },
    {
      "cell_type": "code",
      "metadata": {
        "id": "QK5oQbH-WSPx",
        "colab_type": "code",
        "outputId": "7b35d0a8-4476-4322-e847-1c1be79e2e39",
        "colab": {
          "base_uri": "https://localhost:8080/",
          "height": 34
        }
      },
      "source": [
        "print(len(glb_bytes), \"Bytes\")"
      ],
      "execution_count": 0,
      "outputs": [
        {
          "output_type": "stream",
          "text": [
            "2280 Bytes\n"
          ],
          "name": "stdout"
        }
      ]
    },
    {
      "cell_type": "code",
      "metadata": {
        "id": "yw5REjorKdu2",
        "colab_type": "code",
        "outputId": "eff5b56f-ed18-42af-9713-e8e2617ba606",
        "colab": {
          "base_uri": "https://localhost:8080/",
          "height": 34
        }
      },
      "source": [
        "gltf_length = 0\n",
        "\n",
        "for idx, curr in enumerate(glb_bytes[8:12]):\n",
        "    gltf_length += curr * 256 ** idx\n",
        "\n",
        "gltf_length"
      ],
      "execution_count": 0,
      "outputs": [
        {
          "output_type": "execute_result",
          "data": {
            "text/plain": [
              "2280"
            ]
          },
          "metadata": {
            "tags": []
          },
          "execution_count": 81
        }
      ]
    },
    {
      "cell_type": "markdown",
      "metadata": {
        "id": "Q-3PWIucWhZi",
        "colab_type": "text"
      },
      "source": [
        "### 解析 chunk"
      ]
    },
    {
      "cell_type": "code",
      "metadata": {
        "id": "1vwDI72FNIAq",
        "colab_type": "code",
        "colab": {}
      },
      "source": [
        "import json\n",
        "\n",
        "def chunk_parser(chunk_type, chunk_data):\n",
        "    return {\n",
        "        \"BIN\\u0000\": lambda:chunk_data,\n",
        "        \"JSON\": lambda:json.loads(chunk_data.decode()),\n",
        "    }[chunk_type]()"
      ],
      "execution_count": 0,
      "outputs": []
    },
    {
      "cell_type": "markdown",
      "metadata": {
        "id": "CU0tLI6VWmf_",
        "colab_type": "text"
      },
      "source": [
        "#### chunk 0 (JSON)"
      ]
    },
    {
      "cell_type": "code",
      "metadata": {
        "id": "IM2Gcmm_O54y",
        "colab_type": "code",
        "colab": {}
      },
      "source": [
        "chunk = { 'type': \"\", 'length': 0, 'data': \"\" }"
      ],
      "execution_count": 0,
      "outputs": []
    },
    {
      "cell_type": "markdown",
      "metadata": {
        "id": "jPbWLECaWtNP",
        "colab_type": "text"
      },
      "source": [
        "由 chunk 0 的 第 0~3 Bytes 知道 chunkLength 為多少"
      ]
    },
    {
      "cell_type": "code",
      "metadata": {
        "id": "D_nLqtN_P1FF",
        "colab_type": "code",
        "outputId": "87034bbc-bca6-451b-cae1-d842d9116283",
        "colab": {
          "base_uri": "https://localhost:8080/",
          "height": 34
        }
      },
      "source": [
        "chunk[\"length\"] = 0\n",
        "\n",
        "for idx, curr in enumerate(glb_bytes[12:12 + 4]):\n",
        "    chunk[\"length\"] += curr * 256 ** idx\n",
        "\n",
        "chunk[\"length\"]"
      ],
      "execution_count": 0,
      "outputs": [
        {
          "output_type": "execute_result",
          "data": {
            "text/plain": [
              "1412"
            ]
          },
          "metadata": {
            "tags": []
          },
          "execution_count": 84
        }
      ]
    },
    {
      "cell_type": "markdown",
      "metadata": {
        "id": "0SvcjfbXWwiD",
        "colab_type": "text"
      },
      "source": [
        "由 chunk 0 的 第 4~7 Bytes 知道 chunkType 為 JSON"
      ]
    },
    {
      "cell_type": "code",
      "metadata": {
        "id": "z2_cxiopQZNe",
        "colab_type": "code",
        "outputId": "ddb7a540-cd41-4242-8619-c4c9ef237031",
        "colab": {
          "base_uri": "https://localhost:8080/",
          "height": 34
        }
      },
      "source": [
        "chunk[\"type\"] = glb_bytes[12 + 4:12 + 8].decode()\n",
        "\n",
        "chunk[\"type\"]"
      ],
      "execution_count": 0,
      "outputs": [
        {
          "output_type": "execute_result",
          "data": {
            "text/plain": [
              "'JSON'"
            ]
          },
          "metadata": {
            "tags": []
          },
          "execution_count": 86
        }
      ]
    },
    {
      "cell_type": "markdown",
      "metadata": {
        "id": "jLdQAao5WzYq",
        "colab_type": "text"
      },
      "source": [
        "知道了 chunkType 以及 chunkLength 就可以開始解析 chunkData 了"
      ]
    },
    {
      "cell_type": "code",
      "metadata": {
        "id": "T4UPXhteQt3E",
        "colab_type": "code",
        "colab": {}
      },
      "source": [
        "chunk[\"data\"] = chunk_parser(\n",
        "  chunk[\"type\"],\n",
        "  glb_bytes[12 + 8:12 + 8 + chunk[\"length\"]]\n",
        ")\n",
        "\n",
        "# chunk[\"data\"]"
      ],
      "execution_count": 0,
      "outputs": []
    },
    {
      "cell_type": "markdown",
      "metadata": {
        "id": "Ah5Hk9cqW3H6",
        "colab_type": "text"
      },
      "source": [
        "#### 剩下的 chunk 解析的方式都相同，在此就直接使用迴圈處理"
      ]
    },
    {
      "cell_type": "code",
      "metadata": {
        "id": "Nop-7VC3RDdK",
        "colab_type": "code",
        "colab": {}
      },
      "source": [
        "chunks = []\n",
        "offset = 12\n",
        "i = 0\n",
        "\n",
        "while(offset < len(glb_bytes)):\n",
        "    chunks.append({ \"type\": \"\", \"length\": 0, \"data\": \"\" })\n",
        "\n",
        "    for idx, curr in enumerate(glb_bytes[offset:offset + 4]):\n",
        "        chunks[i][\"length\"] += curr * 256 ** idx\n",
        "\n",
        "    chunks[i][\"type\"] = glb_bytes[offset + 4:offset + 8].decode()\n",
        "\n",
        "    chunks[i][\"data\"] = chunk_parser(\n",
        "        chunks[i][\"type\"],\n",
        "        glb_bytes[offset + 8:offset + 8 + chunks[i][\"length\"]]\n",
        "    )\n",
        "    offset += 8 + chunks[i][\"length\"]\n",
        "    i += 1\n",
        "\n",
        "# chunks"
      ],
      "execution_count": 0,
      "outputs": []
    },
    {
      "cell_type": "markdown",
      "metadata": {
        "id": "W4enMtkfW9V4",
        "colab_type": "text"
      },
      "source": [
        "最後將 chunks 整理一下"
      ]
    },
    {
      "cell_type": "code",
      "metadata": {
        "id": "e-9o_4_GS8EU",
        "colab_type": "code",
        "colab": {}
      },
      "source": [
        "model = chunks[0][\"data\"]\n",
        "\n",
        "for idx, buffer in enumerate(model['buffers']):\n",
        "    buffer[\"data\"] = chunks[idx + 1][\"data\"]\n",
        "\n",
        "# model"
      ],
      "execution_count": 0,
      "outputs": []
    },
    {
      "cell_type": "markdown",
      "metadata": {
        "id": "PDFyZ1cJXAvG",
        "colab_type": "text"
      },
      "source": [
        "完成~~"
      ]
    }
  ]
}