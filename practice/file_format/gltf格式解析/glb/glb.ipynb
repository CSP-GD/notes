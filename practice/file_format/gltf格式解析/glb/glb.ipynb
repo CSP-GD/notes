{
  "nbformat": 4,
  "nbformat_minor": 0,
  "metadata": {
    "colab": {
      "name": "glb.ipynb",
      "provenance": [],
      "toc_visible": true
    },
    "kernelspec": {
      "name": "python3",
      "display_name": "Python 3"
    },
    "accelerator": "GPU"
  },
  "cells": [
    {
      "cell_type": "markdown",
      "metadata": {
        "id": "uDPDN1lSMl5q",
        "colab_type": "text"
      },
      "source": [
        "# GLTF 格式教學 開篇"
      ]
    },
    {
      "cell_type": "markdown",
      "metadata": {
        "id": "wB5dVCbFXVdh",
        "colab_type": "text"
      },
      "source": [
        "<a href=\"https://colab.research.google.com/github/CSP-GD/notes/blob/master/practice/file_format/gltf%E6%A0%BC%E5%BC%8F%E8%A7%A3%E6%9E%90/glb/glb.ipynb\">\n",
        "  <img src=\"https://colab.research.google.com/assets/colab-badge.svg\" alt=\"Open In Colab\"/>\n",
        "</a>\n",
        "\n",
        "[`Open in observablehq`](https://observablehq.com/@toonnyy8/gltf)"
      ]
    },
    {
      "cell_type": "markdown",
      "metadata": {
        "id": "tRnc8CmU8vRl",
        "colab_type": "text"
      },
      "source": [
        "## 關於 glTF"
      ]
    },
    {
      "cell_type": "markdown",
      "metadata": {
        "id": "IvWTJtvn87EL",
        "colab_type": "text"
      },
      "source": [
        "[glTF](https://www.khronos.org/gltf/) 全名為 GL Transmission Format (GL 傳輸格式)，  \n",
        "是由 Khronos 所推出的新 3D 模型儲存格式，  \n",
        "以容易讀取與解析的 JSON 格式作為主體，  \n",
        "希望能讓開發者輕鬆、高效的存取 3D 模型。"
      ]
    },
    {
      "cell_type": "markdown",
      "metadata": {
        "id": "FpK18ZA68_Y1",
        "colab_type": "text"
      },
      "source": [
        "glTF 格式實際上有三種儲存形式，分別是：\n",
        "1. **.gltf + .bin + texture**  \n",
        "> 由 JSON 格式的 `.gltf`、二進位格式的 `.bin` 與紋理圖片 `texture` 組合而成，  \n",
        "> 並在 `.gltf` 裡使用 url 去指向 `.bin` & `texture`。\n",
        "2. **.gltf only**  \n",
        "> 將全部資訊都儲存在 `.gltf` 中，  \n",
        "> 原本 `.bin` 與 `texture` 的部分會轉成 base64 存放於 `.gltf`。\n",
        "3. **.glb**  \n",
        "> 將全部資訊轉換成二進位格式儲存在 `.glb`。"
      ]
    },
    {
      "cell_type": "markdown",
      "metadata": {
        "id": "iJZE-jGf-JF4",
        "colab_type": "text"
      },
      "source": [
        "## 關於本教學"
      ]
    },
    {
      "cell_type": "markdown",
      "metadata": {
        "id": "_Y8c5F6m-Kbp",
        "colab_type": "text"
      },
      "source": [
        "本篇教學是某位萌新因心血來潮而開始編寫，  \n",
        "將會用 js 一步步去解讀 glTF，  \n",
        "希望能藉此將 glTF 格式推廣出去。  \n",
        "\n",
        "> ps.  \n",
        "> 實際上是某天看到 glTF 是自己能看懂的 3D 格式就很興奮的跳坑了，  \n",
        "> 然後才悲劇的發現「看懂!=讀懂」，好在官方文檔還蠻完善的，  \n",
        "> 網路上也能找些許的教學，所以開始非常痛苦又漫長的學習之路，  \n",
        "> 期許各位讀者能從這系列教學輕鬆的了解 glTF 並完成自己的載入器。"
      ]
    },
    {
      "cell_type": "markdown",
      "metadata": {
        "id": "GolqcvlZFjwX",
        "colab_type": "text"
      },
      "source": [
        "## .glb 格式解析"
      ]
    },
    {
      "cell_type": "markdown",
      "metadata": {
        "id": "GrSb0MlrFVpc",
        "colab_type": "text"
      },
      "source": [
        "作為教學的開篇就先簡單的分析 glTF 的二進位格式 glb\n",
        "\n",
        "![圖 1. glb格式](https://raw.githubusercontent.com/CSP-GD/notes/master/practice/file_format/gltf%E6%A0%BC%E5%BC%8F%E8%A7%A3%E6%9E%90/glb/gltfOverview-2.0.0b-binary.png)\n",
        "\n",
        "圖 1. glb格式"
      ]
    },
    {
      "cell_type": "markdown",
      "metadata": {
        "id": "GWWrpujiF3Gf",
        "colab_type": "text"
      },
      "source": [
        "### 先載入範例檔案"
      ]
    },
    {
      "cell_type": "code",
      "metadata": {
        "id": "blTAX0xFF4_V",
        "colab_type": "code",
        "outputId": "c8b57dbf-2ac7-454d-e4c7-df2d4a68ce37",
        "colab": {
          "base_uri": "https://localhost:8080/",
          "height": 318
        }
      },
      "source": [
        "!wget https://github.com/CSP-GD/notes/raw/master/practice/file_format/gltf%E6%A0%BC%E5%BC%8F%E8%A7%A3%E6%9E%90/glb/cube.glb"
      ],
      "execution_count": 1,
      "outputs": [
        {
          "output_type": "stream",
          "text": [
            "--2020-04-06 13:19:42--  https://github.com/CSP-GD/notes/raw/master/practice/file_format/gltf%E6%A0%BC%E5%BC%8F%E8%A7%A3%E6%9E%90/glb/cube.glb\n",
            "Resolving github.com (github.com)... 140.82.118.3\n",
            "Connecting to github.com (github.com)|140.82.118.3|:443... connected.\n",
            "HTTP request sent, awaiting response... 302 Found\n",
            "Location: https://raw.githubusercontent.com/CSP-GD/notes/master/practice/file_format/gltf%E6%A0%BC%E5%BC%8F%E8%A7%A3%E6%9E%90/glb/cube.glb [following]\n",
            "--2020-04-06 13:19:42--  https://raw.githubusercontent.com/CSP-GD/notes/master/practice/file_format/gltf%E6%A0%BC%E5%BC%8F%E8%A7%A3%E6%9E%90/glb/cube.glb\n",
            "Resolving raw.githubusercontent.com (raw.githubusercontent.com)... 151.101.0.133, 151.101.64.133, 151.101.128.133, ...\n",
            "Connecting to raw.githubusercontent.com (raw.githubusercontent.com)|151.101.0.133|:443... connected.\n",
            "HTTP request sent, awaiting response... 200 OK\n",
            "Length: 2280 (2.2K) [application/octet-stream]\n",
            "Saving to: ‘cube.glb’\n",
            "\n",
            "\rcube.glb              0%[                    ]       0  --.-KB/s               \rcube.glb            100%[===================>]   2.23K  --.-KB/s    in 0s      \n",
            "\n",
            "2020-04-06 13:19:43 (40.2 MB/s) - ‘cube.glb’ saved [2280/2280]\n",
            "\n"
          ],
          "name": "stdout"
        }
      ]
    },
    {
      "cell_type": "code",
      "metadata": {
        "id": "43xdWXw7HXI4",
        "colab_type": "code",
        "outputId": "d80953c4-c24e-4e9f-d6fe-7db64a766a6c",
        "colab": {
          "base_uri": "https://localhost:8080/",
          "height": 34
        }
      },
      "source": [
        "glb_file = open('./cube.glb', 'rb')\n",
        "\n",
        "glb_file"
      ],
      "execution_count": 2,
      "outputs": [
        {
          "output_type": "execute_result",
          "data": {
            "text/plain": [
              "<_io.BufferedReader name='./cube.glb'>"
            ]
          },
          "metadata": {
            "tags": []
          },
          "execution_count": 2
        }
      ]
    },
    {
      "cell_type": "markdown",
      "metadata": {
        "id": "ewXS5wSWVo-Z",
        "colab_type": "text"
      },
      "source": [
        "### 將檔案內容讀取出來"
      ]
    },
    {
      "cell_type": "code",
      "metadata": {
        "id": "mJ-12u_AIqhS",
        "colab_type": "code",
        "colab": {
          "base_uri": "https://localhost:8080/",
          "height": 54
        },
        "outputId": "7dc49593-8ba8-493f-8ea1-83d9281ed0d3"
      },
      "source": [
        "glb_bytes = glb_file.read()\n",
        "\n",
        "glb_bytes"
      ],
      "execution_count": 3,
      "outputs": [
        {
          "output_type": "execute_result",
          "data": {
            "text/plain": [
              "b'glTF\\x02\\x00\\x00\\x00\\xe8\\x08\\x00\\x00\\x84\\x05\\x00\\x00JSON{\"asset\":{\"generator\":\"Khronos glTF Blender I/O v1.1.46\",\"version\":\"2.0\"},\"scene\":0,\"scenes\":[{\"name\":\"Scene\",\"nodes\":[0,1,2]}],\"nodes\":[{\"mesh\":0,\"name\":\"Cube\"},{\"name\":\"Light\",\"rotation\":[0.16907575726509094,0.7558803558349609,-0.27217137813568115,0.570947527885437],\"translation\":[4.076245307922363,5.903861999511719,-1.0054539442062378]},{\"name\":\"Camera\",\"rotation\":[0.483536034822464,0.33687159419059753,-0.20870360732078552,0.7804827094078064],\"translation\":[7.358891487121582,4.958309173583984,6.925790786743164]}],\"materials\":[{\"doubleSided\":true,\"emissiveFactor\":[0,0,0],\"name\":\"Material\",\"pbrMetallicRoughness\":{\"baseColorFactor\":[0.800000011920929,0.800000011920929,0.800000011920929,1],\"metallicFactor\":0,\"roughnessFactor\":0.4000000059604645}}],\"meshes\":[{\"name\":\"Cube\",\"primitives\":[{\"attributes\":{\"POSITION\":0,\"NORMAL\":1,\"TEXCOORD_0\":2},\"indices\":3,\"material\":0}]}],\"accessors\":[{\"bufferView\":0,\"componentType\":5126,\"count\":24,\"max\":[1,1,1],\"min\":[-1,-1,-1],\"type\":\"VEC3\"},{\"bufferView\":1,\"componentType\":5126,\"count\":24,\"type\":\"VEC3\"},{\"bufferView\":2,\"componentType\":5126,\"count\":24,\"type\":\"VEC2\"},{\"bufferView\":3,\"componentType\":5123,\"count\":36,\"type\":\"SCALAR\"}],\"bufferViews\":[{\"buffer\":0,\"byteLength\":288,\"byteOffset\":0},{\"buffer\":0,\"byteLength\":288,\"byteOffset\":288},{\"buffer\":0,\"byteLength\":192,\"byteOffset\":576},{\"buffer\":0,\"byteLength\":72,\"byteOffset\":768}],\"buffers\":[{\"byteLength\":840}]} H\\x03\\x00\\x00BIN\\x00\\x00\\x00\\x80?\\x00\\x00\\x80?\\x00\\x00\\x80?\\x00\\x00\\x80?\\x00\\x00\\x80?\\x00\\x00\\x80\\xbf\\x00\\x00\\x80\\xbf\\x00\\x00\\x80?\\x00\\x00\\x80\\xbf\\x00\\x00\\x80\\xbf\\x00\\x00\\x80?\\x00\\x00\\x80?\\x00\\x00\\x80\\xbf\\x00\\x00\\x80?\\x00\\x00\\x80?\\x00\\x00\\x80\\xbf\\x00\\x00\\x80\\xbf\\x00\\x00\\x80?\\x00\\x00\\x80?\\x00\\x00\\x80\\xbf\\x00\\x00\\x80?\\x00\\x00\\x80?\\x00\\x00\\x80?\\x00\\x00\\x80?\\x00\\x00\\x80\\xbf\\x00\\x00\\x80?\\x00\\x00\\x80\\xbf\\x00\\x00\\x80\\xbf\\x00\\x00\\x80\\xbf\\x00\\x00\\x80\\xbf\\x00\\x00\\x80\\xbf\\x00\\x00\\x80\\xbf\\x00\\x00\\x80?\\x00\\x00\\x80\\xbf\\x00\\x00\\x80?\\x00\\x00\\x80?\\x00\\x00\\x80\\xbf\\x00\\x00\\x80\\xbf\\x00\\x00\\x80?\\x00\\x00\\x80\\xbf\\x00\\x00\\x80\\xbf\\x00\\x00\\x80\\xbf\\x00\\x00\\x80?\\x00\\x00\\x80\\xbf\\x00\\x00\\x80\\xbf\\x00\\x00\\x80?\\x00\\x00\\x80\\xbf\\x00\\x00\\x80?\\x00\\x00\\x80?\\x00\\x00\\x80?\\x00\\x00\\x80?\\x00\\x00\\x80?\\x00\\x00\\x80\\xbf\\x00\\x00\\x80?\\x00\\x00\\x80?\\x00\\x00\\x80\\xbf\\x00\\x00\\x80\\xbf\\x00\\x00\\x80?\\x00\\x00\\x80?\\x00\\x00\\x80\\xbf\\x00\\x00\\x80?\\x00\\x00\\x80?\\x00\\x00\\x80\\xbf\\x00\\x00\\x80?\\x00\\x00\\x80\\xbf\\x00\\x00\\x80\\xbf\\x00\\x00\\x80\\xbf\\x00\\x00\\x80\\xbf\\x00\\x00\\x80\\xbf\\x00\\x00\\x80\\xbf\\x00\\x00\\x80?\\x00\\x00\\x80\\xbf\\x00\\x00\\x00\\x00\\x00\\x00\\x80?\\x00\\x00\\x00\\x00\\x00\\x00\\x00\\x00\\x00\\x00\\x80?\\x00\\x00\\x00\\x00\\x00\\x00\\x00\\x00\\x00\\x00\\x80?\\x00\\x00\\x00\\x00\\x00\\x00\\x00\\x00\\x00\\x00\\x80?\\x00\\x00\\x00\\x00\\x00\\x00\\x00\\x00\\x00\\x00\\x00\\x00\\x00\\x00\\x80?\\x00\\x00\\x00\\x00\\x00\\x00\\x00\\x00\\x00\\x00\\x80?\\x00\\x00\\x00\\x00\\x00\\x00\\x00\\x00\\x00\\x00\\x80?\\x00\\x00\\x00\\x00\\x00\\x00\\x00\\x00\\x00\\x00\\x80?\\x00\\x00\\x80\\xbf\\x00\\x00\\x00\\x00\\x00\\x00\\x00\\x00\\x00\\x00\\x80\\xbf\\x00\\x00\\x00\\x00\\x00\\x00\\x00\\x00\\x00\\x00\\x80\\xbf\\x00\\x00\\x00\\x00\\x00\\x00\\x00\\x00\\x00\\x00\\x80\\xbf\\x00\\x00\\x00\\x00\\x00\\x00\\x00\\x00\\x00\\x00\\x00\\x00\\x00\\x00\\x80\\xbf\\x00\\x00\\x00\\x80\\x00\\x00\\x00\\x00\\x00\\x00\\x80\\xbf\\x00\\x00\\x00\\x80\\x00\\x00\\x00\\x00\\x00\\x00\\x80\\xbf\\x00\\x00\\x00\\x80\\x00\\x00\\x00\\x00\\x00\\x00\\x80\\xbf\\x00\\x00\\x00\\x80\\x00\\x00\\x80?\\x00\\x00\\x00\\x00\\x00\\x00\\x00\\x00\\x00\\x00\\x80?\\x00\\x00\\x00\\x00\\x00\\x00\\x00\\x00\\x00\\x00\\x80?\\x00\\x00\\x00\\x00\\x00\\x00\\x00\\x00\\x00\\x00\\x80?\\x00\\x00\\x00\\x00\\x00\\x00\\x00\\x00\\x00\\x00\\x00\\x00\\x00\\x00\\x00\\x00\\x00\\x00\\x80\\xbf\\x00\\x00\\x00\\x00\\x00\\x00\\x00\\x00\\x00\\x00\\x80\\xbf\\x00\\x00\\x00\\x00\\x00\\x00\\x00\\x00\\x00\\x00\\x80\\xbf\\x00\\x00\\x00\\x00\\x00\\x00\\x00\\x00\\x00\\x00\\x80\\xbf\\x00\\x00 ?\\x00\\x00\\x80>\\x00\\x00 ?\\x00\\x00\\x00?\\x00\\x00`?\\x00\\x00\\x00?\\x00\\x00`?\\x00\\x00\\x80>\\x00\\x00 ?\\x00\\x00\\x00\\x00\\x00\\x00\\xc0>\\x00\\x00\\x00\\x00\\x00\\x00\\xc0>\\x00\\x00\\x80>\\x00\\x00 ?\\x00\\x00\\x80>\\x00\\x00 ?\\x00\\x00@?\\x00\\x00\\xc0>\\x00\\x00@?\\x00\\x00\\xc0>\\x00\\x00\\x80?\\x00\\x00 ?\\x00\\x00\\x80?\\x00\\x00\\x00>\\x00\\x00\\x80>\\x00\\x00\\x00>\\x00\\x00\\x00?\\x00\\x00\\xc0>\\x00\\x00\\x00?\\x00\\x00\\xc0>\\x00\\x00\\x80>\\x00\\x00 ?\\x00\\x00\\x80>\\x00\\x00\\xc0>\\x00\\x00\\x80>\\x00\\x00\\xc0>\\x00\\x00\\x00?\\x00\\x00 ?\\x00\\x00\\x00?\\x00\\x00 ?\\x00\\x00\\x00?\\x00\\x00\\xc0>\\x00\\x00\\x00?\\x00\\x00\\xc0>\\x00\\x00@?\\x00\\x00 ?\\x00\\x00@?\\x00\\x00\\x01\\x00\\x02\\x00\\x00\\x00\\x02\\x00\\x03\\x00\\x04\\x00\\x05\\x00\\x06\\x00\\x04\\x00\\x06\\x00\\x07\\x00\\x08\\x00\\t\\x00\\n\\x00\\x08\\x00\\n\\x00\\x0b\\x00\\x0c\\x00\\r\\x00\\x0e\\x00\\x0c\\x00\\x0e\\x00\\x0f\\x00\\x10\\x00\\x11\\x00\\x12\\x00\\x10\\x00\\x12\\x00\\x13\\x00\\x14\\x00\\x15\\x00\\x16\\x00\\x14\\x00\\x16\\x00\\x17\\x00'"
            ]
          },
          "metadata": {
            "tags": []
          },
          "execution_count": 3
        }
      ]
    },
    {
      "cell_type": "markdown",
      "metadata": {
        "id": "_jxnzToBV6j-",
        "colab_type": "text"
      },
      "source": [
        "### 解析 header"
      ]
    },
    {
      "cell_type": "markdown",
      "metadata": {
        "id": "UPOEyNM0V-21",
        "colab_type": "text"
      },
      "source": [
        "0~3 Bytes 為「glTF」的 ASCII 編碼"
      ]
    },
    {
      "cell_type": "code",
      "metadata": {
        "id": "uf3sKeNcJWW-",
        "colab_type": "code",
        "outputId": "68f3fbe7-a9ec-4c0e-9251-012eff88d1b8",
        "colab": {
          "base_uri": "https://localhost:8080/",
          "height": 34
        }
      },
      "source": [
        "glb_bytes[0:4].decode()"
      ],
      "execution_count": 4,
      "outputs": [
        {
          "output_type": "execute_result",
          "data": {
            "text/plain": [
              "'glTF'"
            ]
          },
          "metadata": {
            "tags": []
          },
          "execution_count": 4
        }
      ]
    },
    {
      "cell_type": "markdown",
      "metadata": {
        "id": "hWaxmhnfWCpZ",
        "colab_type": "text"
      },
      "source": [
        "第 4~7 Bytes 應該會顯示 glTF 的版本"
      ]
    },
    {
      "cell_type": "code",
      "metadata": {
        "id": "C5R3NZiBJxWW",
        "colab_type": "code",
        "outputId": "76036144-cbbb-4e2e-b139-4dc6bb1474bd",
        "colab": {
          "base_uri": "https://localhost:8080/",
          "height": 34
        }
      },
      "source": [
        "gltf_version = 0\n",
        "\n",
        "for idx, curr in enumerate(glb_bytes[4:8]):\n",
        "    gltf_version += curr * 256 ** idx\n",
        "\n",
        "gltf_version"
      ],
      "execution_count": 5,
      "outputs": [
        {
          "output_type": "execute_result",
          "data": {
            "text/plain": [
              "2"
            ]
          },
          "metadata": {
            "tags": []
          },
          "execution_count": 5
        }
      ]
    },
    {
      "cell_type": "markdown",
      "metadata": {
        "id": "nwBYSf0JWFfR",
        "colab_type": "text"
      },
      "source": [
        "第 8~11 Bytes 則代表此檔案的 Byte 數"
      ]
    },
    {
      "cell_type": "code",
      "metadata": {
        "id": "QK5oQbH-WSPx",
        "colab_type": "code",
        "outputId": "3f8424cf-c24f-4414-d724-368dc06d1748",
        "colab": {
          "base_uri": "https://localhost:8080/",
          "height": 34
        }
      },
      "source": [
        "print(len(glb_bytes), \"Bytes\")"
      ],
      "execution_count": 6,
      "outputs": [
        {
          "output_type": "stream",
          "text": [
            "2280 Bytes\n"
          ],
          "name": "stdout"
        }
      ]
    },
    {
      "cell_type": "code",
      "metadata": {
        "id": "yw5REjorKdu2",
        "colab_type": "code",
        "outputId": "94c4984b-cab8-4535-93af-8dc955d6e457",
        "colab": {
          "base_uri": "https://localhost:8080/",
          "height": 34
        }
      },
      "source": [
        "gltf_length = 0\n",
        "\n",
        "for idx, curr in enumerate(glb_bytes[8:12]):\n",
        "    gltf_length += curr * 256 ** idx\n",
        "\n",
        "gltf_length"
      ],
      "execution_count": 7,
      "outputs": [
        {
          "output_type": "execute_result",
          "data": {
            "text/plain": [
              "2280"
            ]
          },
          "metadata": {
            "tags": []
          },
          "execution_count": 7
        }
      ]
    },
    {
      "cell_type": "markdown",
      "metadata": {
        "id": "Q-3PWIucWhZi",
        "colab_type": "text"
      },
      "source": [
        "### 解析 chunk"
      ]
    },
    {
      "cell_type": "code",
      "metadata": {
        "id": "1vwDI72FNIAq",
        "colab_type": "code",
        "colab": {}
      },
      "source": [
        "import json\n",
        "\n",
        "def chunk_parser(chunk_type, chunk_data):\n",
        "    return {\n",
        "        \"BIN\\u0000\": lambda:chunk_data,\n",
        "        \"JSON\": lambda:json.loads(chunk_data.decode()),\n",
        "    }[chunk_type]()"
      ],
      "execution_count": 0,
      "outputs": []
    },
    {
      "cell_type": "markdown",
      "metadata": {
        "id": "CU0tLI6VWmf_",
        "colab_type": "text"
      },
      "source": [
        "#### chunk 0 (JSON)"
      ]
    },
    {
      "cell_type": "code",
      "metadata": {
        "id": "IM2Gcmm_O54y",
        "colab_type": "code",
        "colab": {}
      },
      "source": [
        "chunk = { 'type': \"\", 'length': 0, 'data': \"\" }"
      ],
      "execution_count": 0,
      "outputs": []
    },
    {
      "cell_type": "markdown",
      "metadata": {
        "id": "jPbWLECaWtNP",
        "colab_type": "text"
      },
      "source": [
        "由 chunk 0 的 第 0~3 Bytes 知道 chunkLength 為多少"
      ]
    },
    {
      "cell_type": "code",
      "metadata": {
        "id": "D_nLqtN_P1FF",
        "colab_type": "code",
        "outputId": "4df3b50e-9b91-412e-ddb8-564da6e0865a",
        "colab": {
          "base_uri": "https://localhost:8080/",
          "height": 34
        }
      },
      "source": [
        "chunk[\"length\"] = 0\n",
        "\n",
        "for idx, curr in enumerate(glb_bytes[12:12 + 4]):\n",
        "    chunk[\"length\"] += curr * 256 ** idx\n",
        "\n",
        "chunk[\"length\"]"
      ],
      "execution_count": 10,
      "outputs": [
        {
          "output_type": "execute_result",
          "data": {
            "text/plain": [
              "1412"
            ]
          },
          "metadata": {
            "tags": []
          },
          "execution_count": 10
        }
      ]
    },
    {
      "cell_type": "markdown",
      "metadata": {
        "id": "0SvcjfbXWwiD",
        "colab_type": "text"
      },
      "source": [
        "由 chunk 0 的 第 4~7 Bytes 知道 chunkType 為 JSON"
      ]
    },
    {
      "cell_type": "code",
      "metadata": {
        "id": "z2_cxiopQZNe",
        "colab_type": "code",
        "outputId": "492b762b-0103-4302-b192-ef1392c99d71",
        "colab": {
          "base_uri": "https://localhost:8080/",
          "height": 34
        }
      },
      "source": [
        "chunk[\"type\"] = glb_bytes[12 + 4:12 + 8].decode()\n",
        "\n",
        "chunk[\"type\"]"
      ],
      "execution_count": 11,
      "outputs": [
        {
          "output_type": "execute_result",
          "data": {
            "text/plain": [
              "'JSON'"
            ]
          },
          "metadata": {
            "tags": []
          },
          "execution_count": 11
        }
      ]
    },
    {
      "cell_type": "markdown",
      "metadata": {
        "id": "jLdQAao5WzYq",
        "colab_type": "text"
      },
      "source": [
        "知道了 chunkType 以及 chunkLength 就可以開始解析 chunkData 了"
      ]
    },
    {
      "cell_type": "code",
      "metadata": {
        "id": "T4UPXhteQt3E",
        "colab_type": "code",
        "colab": {
          "base_uri": "https://localhost:8080/",
          "height": 774
        },
        "outputId": "d50223c0-cb98-4b9b-aa52-60ea35fb8d88"
      },
      "source": [
        "chunk[\"data\"] = chunk_parser(\n",
        "  chunk[\"type\"],\n",
        "  glb_bytes[12 + 8:12 + 8 + chunk[\"length\"]]\n",
        ")\n",
        "\n",
        "chunk[\"data\"]"
      ],
      "execution_count": 12,
      "outputs": [
        {
          "output_type": "execute_result",
          "data": {
            "text/plain": [
              "{'accessors': [{'bufferView': 0,\n",
              "   'componentType': 5126,\n",
              "   'count': 24,\n",
              "   'max': [1, 1, 1],\n",
              "   'min': [-1, -1, -1],\n",
              "   'type': 'VEC3'},\n",
              "  {'bufferView': 1, 'componentType': 5126, 'count': 24, 'type': 'VEC3'},\n",
              "  {'bufferView': 2, 'componentType': 5126, 'count': 24, 'type': 'VEC2'},\n",
              "  {'bufferView': 3, 'componentType': 5123, 'count': 36, 'type': 'SCALAR'}],\n",
              " 'asset': {'generator': 'Khronos glTF Blender I/O v1.1.46', 'version': '2.0'},\n",
              " 'bufferViews': [{'buffer': 0, 'byteLength': 288, 'byteOffset': 0},\n",
              "  {'buffer': 0, 'byteLength': 288, 'byteOffset': 288},\n",
              "  {'buffer': 0, 'byteLength': 192, 'byteOffset': 576},\n",
              "  {'buffer': 0, 'byteLength': 72, 'byteOffset': 768}],\n",
              " 'buffers': [{'byteLength': 840}],\n",
              " 'materials': [{'doubleSided': True,\n",
              "   'emissiveFactor': [0, 0, 0],\n",
              "   'name': 'Material',\n",
              "   'pbrMetallicRoughness': {'baseColorFactor': [0.800000011920929,\n",
              "     0.800000011920929,\n",
              "     0.800000011920929,\n",
              "     1],\n",
              "    'metallicFactor': 0,\n",
              "    'roughnessFactor': 0.4000000059604645}}],\n",
              " 'meshes': [{'name': 'Cube',\n",
              "   'primitives': [{'attributes': {'NORMAL': 1, 'POSITION': 0, 'TEXCOORD_0': 2},\n",
              "     'indices': 3,\n",
              "     'material': 0}]}],\n",
              " 'nodes': [{'mesh': 0, 'name': 'Cube'},\n",
              "  {'name': 'Light',\n",
              "   'rotation': [0.16907575726509094,\n",
              "    0.7558803558349609,\n",
              "    -0.27217137813568115,\n",
              "    0.570947527885437],\n",
              "   'translation': [4.076245307922363, 5.903861999511719, -1.0054539442062378]},\n",
              "  {'name': 'Camera',\n",
              "   'rotation': [0.483536034822464,\n",
              "    0.33687159419059753,\n",
              "    -0.20870360732078552,\n",
              "    0.7804827094078064],\n",
              "   'translation': [7.358891487121582, 4.958309173583984, 6.925790786743164]}],\n",
              " 'scene': 0,\n",
              " 'scenes': [{'name': 'Scene', 'nodes': [0, 1, 2]}]}"
            ]
          },
          "metadata": {
            "tags": []
          },
          "execution_count": 12
        }
      ]
    },
    {
      "cell_type": "markdown",
      "metadata": {
        "id": "Ah5Hk9cqW3H6",
        "colab_type": "text"
      },
      "source": [
        "#### 剩下的 chunk 解析的方式都相同，在此就直接使用迴圈處理"
      ]
    },
    {
      "cell_type": "code",
      "metadata": {
        "id": "Nop-7VC3RDdK",
        "colab_type": "code",
        "colab": {}
      },
      "source": [
        "chunks = []\n",
        "offset = 12\n",
        "i = 0\n",
        "\n",
        "while(offset < len(glb_bytes)):\n",
        "    chunks.append({ \"type\": \"\", \"length\": 0, \"data\": \"\" })\n",
        "\n",
        "    for idx, curr in enumerate(glb_bytes[offset:offset + 4]):\n",
        "        chunks[i][\"length\"] += curr * 256 ** idx\n",
        "\n",
        "    chunks[i][\"type\"] = glb_bytes[offset + 4:offset + 8].decode()\n",
        "\n",
        "    chunks[i][\"data\"] = chunk_parser(\n",
        "        chunks[i][\"type\"],\n",
        "        glb_bytes[offset + 8:offset + 8 + chunks[i][\"length\"]]\n",
        "    )\n",
        "    offset += 8 + chunks[i][\"length\"]\n",
        "    i += 1\n",
        "\n",
        "# chunks"
      ],
      "execution_count": 0,
      "outputs": []
    },
    {
      "cell_type": "markdown",
      "metadata": {
        "id": "W4enMtkfW9V4",
        "colab_type": "text"
      },
      "source": [
        "最後將 chunks 整理一下"
      ]
    },
    {
      "cell_type": "code",
      "metadata": {
        "id": "e-9o_4_GS8EU",
        "colab_type": "code",
        "colab": {
          "base_uri": "https://localhost:8080/",
          "height": 811
        },
        "outputId": "c96fe874-2059-473d-e510-4dbe6e339043"
      },
      "source": [
        "model = chunks[0][\"data\"]\n",
        "\n",
        "for idx, buffer in enumerate(model['buffers']):\n",
        "    buffer[\"data\"] = chunks[idx + 1][\"data\"]\n",
        "\n",
        "model"
      ],
      "execution_count": 14,
      "outputs": [
        {
          "output_type": "execute_result",
          "data": {
            "text/plain": [
              "{'accessors': [{'bufferView': 0,\n",
              "   'componentType': 5126,\n",
              "   'count': 24,\n",
              "   'max': [1, 1, 1],\n",
              "   'min': [-1, -1, -1],\n",
              "   'type': 'VEC3'},\n",
              "  {'bufferView': 1, 'componentType': 5126, 'count': 24, 'type': 'VEC3'},\n",
              "  {'bufferView': 2, 'componentType': 5126, 'count': 24, 'type': 'VEC2'},\n",
              "  {'bufferView': 3, 'componentType': 5123, 'count': 36, 'type': 'SCALAR'}],\n",
              " 'asset': {'generator': 'Khronos glTF Blender I/O v1.1.46', 'version': '2.0'},\n",
              " 'bufferViews': [{'buffer': 0, 'byteLength': 288, 'byteOffset': 0},\n",
              "  {'buffer': 0, 'byteLength': 288, 'byteOffset': 288},\n",
              "  {'buffer': 0, 'byteLength': 192, 'byteOffset': 576},\n",
              "  {'buffer': 0, 'byteLength': 72, 'byteOffset': 768}],\n",
              " 'buffers': [{'byteLength': 840,\n",
              "   'data': b'\\x00\\x00\\x80?\\x00\\x00\\x80?\\x00\\x00\\x80?\\x00\\x00\\x80?\\x00\\x00\\x80?\\x00\\x00\\x80\\xbf\\x00\\x00\\x80\\xbf\\x00\\x00\\x80?\\x00\\x00\\x80\\xbf\\x00\\x00\\x80\\xbf\\x00\\x00\\x80?\\x00\\x00\\x80?\\x00\\x00\\x80\\xbf\\x00\\x00\\x80?\\x00\\x00\\x80?\\x00\\x00\\x80\\xbf\\x00\\x00\\x80\\xbf\\x00\\x00\\x80?\\x00\\x00\\x80?\\x00\\x00\\x80\\xbf\\x00\\x00\\x80?\\x00\\x00\\x80?\\x00\\x00\\x80?\\x00\\x00\\x80?\\x00\\x00\\x80\\xbf\\x00\\x00\\x80?\\x00\\x00\\x80\\xbf\\x00\\x00\\x80\\xbf\\x00\\x00\\x80\\xbf\\x00\\x00\\x80\\xbf\\x00\\x00\\x80\\xbf\\x00\\x00\\x80\\xbf\\x00\\x00\\x80?\\x00\\x00\\x80\\xbf\\x00\\x00\\x80?\\x00\\x00\\x80?\\x00\\x00\\x80\\xbf\\x00\\x00\\x80\\xbf\\x00\\x00\\x80?\\x00\\x00\\x80\\xbf\\x00\\x00\\x80\\xbf\\x00\\x00\\x80\\xbf\\x00\\x00\\x80?\\x00\\x00\\x80\\xbf\\x00\\x00\\x80\\xbf\\x00\\x00\\x80?\\x00\\x00\\x80\\xbf\\x00\\x00\\x80?\\x00\\x00\\x80?\\x00\\x00\\x80?\\x00\\x00\\x80?\\x00\\x00\\x80?\\x00\\x00\\x80\\xbf\\x00\\x00\\x80?\\x00\\x00\\x80?\\x00\\x00\\x80\\xbf\\x00\\x00\\x80\\xbf\\x00\\x00\\x80?\\x00\\x00\\x80?\\x00\\x00\\x80\\xbf\\x00\\x00\\x80?\\x00\\x00\\x80?\\x00\\x00\\x80\\xbf\\x00\\x00\\x80?\\x00\\x00\\x80\\xbf\\x00\\x00\\x80\\xbf\\x00\\x00\\x80\\xbf\\x00\\x00\\x80\\xbf\\x00\\x00\\x80\\xbf\\x00\\x00\\x80\\xbf\\x00\\x00\\x80?\\x00\\x00\\x80\\xbf\\x00\\x00\\x00\\x00\\x00\\x00\\x80?\\x00\\x00\\x00\\x00\\x00\\x00\\x00\\x00\\x00\\x00\\x80?\\x00\\x00\\x00\\x00\\x00\\x00\\x00\\x00\\x00\\x00\\x80?\\x00\\x00\\x00\\x00\\x00\\x00\\x00\\x00\\x00\\x00\\x80?\\x00\\x00\\x00\\x00\\x00\\x00\\x00\\x00\\x00\\x00\\x00\\x00\\x00\\x00\\x80?\\x00\\x00\\x00\\x00\\x00\\x00\\x00\\x00\\x00\\x00\\x80?\\x00\\x00\\x00\\x00\\x00\\x00\\x00\\x00\\x00\\x00\\x80?\\x00\\x00\\x00\\x00\\x00\\x00\\x00\\x00\\x00\\x00\\x80?\\x00\\x00\\x80\\xbf\\x00\\x00\\x00\\x00\\x00\\x00\\x00\\x00\\x00\\x00\\x80\\xbf\\x00\\x00\\x00\\x00\\x00\\x00\\x00\\x00\\x00\\x00\\x80\\xbf\\x00\\x00\\x00\\x00\\x00\\x00\\x00\\x00\\x00\\x00\\x80\\xbf\\x00\\x00\\x00\\x00\\x00\\x00\\x00\\x00\\x00\\x00\\x00\\x00\\x00\\x00\\x80\\xbf\\x00\\x00\\x00\\x80\\x00\\x00\\x00\\x00\\x00\\x00\\x80\\xbf\\x00\\x00\\x00\\x80\\x00\\x00\\x00\\x00\\x00\\x00\\x80\\xbf\\x00\\x00\\x00\\x80\\x00\\x00\\x00\\x00\\x00\\x00\\x80\\xbf\\x00\\x00\\x00\\x80\\x00\\x00\\x80?\\x00\\x00\\x00\\x00\\x00\\x00\\x00\\x00\\x00\\x00\\x80?\\x00\\x00\\x00\\x00\\x00\\x00\\x00\\x00\\x00\\x00\\x80?\\x00\\x00\\x00\\x00\\x00\\x00\\x00\\x00\\x00\\x00\\x80?\\x00\\x00\\x00\\x00\\x00\\x00\\x00\\x00\\x00\\x00\\x00\\x00\\x00\\x00\\x00\\x00\\x00\\x00\\x80\\xbf\\x00\\x00\\x00\\x00\\x00\\x00\\x00\\x00\\x00\\x00\\x80\\xbf\\x00\\x00\\x00\\x00\\x00\\x00\\x00\\x00\\x00\\x00\\x80\\xbf\\x00\\x00\\x00\\x00\\x00\\x00\\x00\\x00\\x00\\x00\\x80\\xbf\\x00\\x00 ?\\x00\\x00\\x80>\\x00\\x00 ?\\x00\\x00\\x00?\\x00\\x00`?\\x00\\x00\\x00?\\x00\\x00`?\\x00\\x00\\x80>\\x00\\x00 ?\\x00\\x00\\x00\\x00\\x00\\x00\\xc0>\\x00\\x00\\x00\\x00\\x00\\x00\\xc0>\\x00\\x00\\x80>\\x00\\x00 ?\\x00\\x00\\x80>\\x00\\x00 ?\\x00\\x00@?\\x00\\x00\\xc0>\\x00\\x00@?\\x00\\x00\\xc0>\\x00\\x00\\x80?\\x00\\x00 ?\\x00\\x00\\x80?\\x00\\x00\\x00>\\x00\\x00\\x80>\\x00\\x00\\x00>\\x00\\x00\\x00?\\x00\\x00\\xc0>\\x00\\x00\\x00?\\x00\\x00\\xc0>\\x00\\x00\\x80>\\x00\\x00 ?\\x00\\x00\\x80>\\x00\\x00\\xc0>\\x00\\x00\\x80>\\x00\\x00\\xc0>\\x00\\x00\\x00?\\x00\\x00 ?\\x00\\x00\\x00?\\x00\\x00 ?\\x00\\x00\\x00?\\x00\\x00\\xc0>\\x00\\x00\\x00?\\x00\\x00\\xc0>\\x00\\x00@?\\x00\\x00 ?\\x00\\x00@?\\x00\\x00\\x01\\x00\\x02\\x00\\x00\\x00\\x02\\x00\\x03\\x00\\x04\\x00\\x05\\x00\\x06\\x00\\x04\\x00\\x06\\x00\\x07\\x00\\x08\\x00\\t\\x00\\n\\x00\\x08\\x00\\n\\x00\\x0b\\x00\\x0c\\x00\\r\\x00\\x0e\\x00\\x0c\\x00\\x0e\\x00\\x0f\\x00\\x10\\x00\\x11\\x00\\x12\\x00\\x10\\x00\\x12\\x00\\x13\\x00\\x14\\x00\\x15\\x00\\x16\\x00\\x14\\x00\\x16\\x00\\x17\\x00'}],\n",
              " 'materials': [{'doubleSided': True,\n",
              "   'emissiveFactor': [0, 0, 0],\n",
              "   'name': 'Material',\n",
              "   'pbrMetallicRoughness': {'baseColorFactor': [0.800000011920929,\n",
              "     0.800000011920929,\n",
              "     0.800000011920929,\n",
              "     1],\n",
              "    'metallicFactor': 0,\n",
              "    'roughnessFactor': 0.4000000059604645}}],\n",
              " 'meshes': [{'name': 'Cube',\n",
              "   'primitives': [{'attributes': {'NORMAL': 1, 'POSITION': 0, 'TEXCOORD_0': 2},\n",
              "     'indices': 3,\n",
              "     'material': 0}]}],\n",
              " 'nodes': [{'mesh': 0, 'name': 'Cube'},\n",
              "  {'name': 'Light',\n",
              "   'rotation': [0.16907575726509094,\n",
              "    0.7558803558349609,\n",
              "    -0.27217137813568115,\n",
              "    0.570947527885437],\n",
              "   'translation': [4.076245307922363, 5.903861999511719, -1.0054539442062378]},\n",
              "  {'name': 'Camera',\n",
              "   'rotation': [0.483536034822464,\n",
              "    0.33687159419059753,\n",
              "    -0.20870360732078552,\n",
              "    0.7804827094078064],\n",
              "   'translation': [7.358891487121582, 4.958309173583984, 6.925790786743164]}],\n",
              " 'scene': 0,\n",
              " 'scenes': [{'name': 'Scene', 'nodes': [0, 1, 2]}]}"
            ]
          },
          "metadata": {
            "tags": []
          },
          "execution_count": 14
        }
      ]
    },
    {
      "cell_type": "markdown",
      "metadata": {
        "id": "PDFyZ1cJXAvG",
        "colab_type": "text"
      },
      "source": [
        "完成~~"
      ]
    }
  ]
}