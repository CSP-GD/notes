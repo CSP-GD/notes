{
  "nbformat": 4,
  "nbformat_minor": 0,
  "metadata": {
    "colab": {
      "name": "gltf-tools.ipynb",
      "provenance": [],
      "toc_visible": true
    },
    "kernelspec": {
      "name": "python3",
      "display_name": "Python 3"
    },
    "accelerator": "GPU"
  },
  "cells": [
    {
      "cell_type": "markdown",
      "metadata": {
        "id": "uDPDN1lSMl5q",
        "colab_type": "text"
      },
      "source": [
        "# GLTF 格式教學 工具包"
      ]
    },
    {
      "cell_type": "code",
      "metadata": {
        "id": "HAqloikVEhZE",
        "colab_type": "code",
        "colab": {}
      },
      "source": [
        "class glTF_tools(object):\n",
        "    def __init__(self):\n",
        "        return\n"
      ],
      "execution_count": 0,
      "outputs": []
    },
    {
      "cell_type": "code",
      "metadata": {
        "id": "DeULccjZHcoW",
        "colab_type": "code",
        "colab": {}
      },
      "source": [
        "@staticmethod\n",
        "def glb_loader(glb_bytes):\n",
        "    import json\n",
        "    assert glb_bytes[0:4].decode() == \"glTF\"\n",
        "\n",
        "    gltf_length = 0\n",
        "\n",
        "    for idx, curr in enumerate(glb_bytes[8:12]):\n",
        "        gltf_length += curr * 256 ** idx\n",
        "\n",
        "    assert len(glb_bytes) == gltf_length\n",
        "\n",
        "    def chunk_parser(chunk_type, chunk_data):\n",
        "        return {\n",
        "            \"BIN\\u0000\": lambda:chunk_data,\n",
        "            \"JSON\": lambda:json.loads(chunk_data.decode()),\n",
        "        }[chunk_type]()\n",
        "\n",
        "    chunks = []\n",
        "    offset = 12\n",
        "    i = 0\n",
        "\n",
        "    while(offset < len(glb_bytes)):\n",
        "        chunks.append({ \"type\": \"\", \"length\": 0, \"data\": \"\" })\n",
        "\n",
        "        for idx, curr in enumerate(glb_bytes[offset:offset + 4]):\n",
        "            chunks[i][\"length\"] += curr * 256 ** idx\n",
        "\n",
        "        chunks[i][\"type\"] = glb_bytes[offset + 4:offset + 8].decode()\n",
        "\n",
        "        chunks[i][\"data\"] = chunk_parser(\n",
        "            chunks[i][\"type\"],\n",
        "            glb_bytes[offset + 8:offset + 8 + chunks[i][\"length\"]]\n",
        "        )\n",
        "        offset += 8 + chunks[i][\"length\"]\n",
        "        i += 1\n",
        "\n",
        "    model = chunks[0][\"data\"]\n",
        "    buffers = []\n",
        "    for idx in range(len(model['buffers'])):\n",
        "        buffers.append(chunks[idx + 1][\"data\"])\n",
        "\n",
        "    return model, buffers\n",
        "\n",
        "glTF_tools.glb_loader=glb_loader\n",
        "\n",
        "del glb_loader"
      ],
      "execution_count": 0,
      "outputs": []
    },
    {
      "cell_type": "code",
      "metadata": {
        "id": "d6nuTfqmEbij",
        "colab_type": "code",
        "colab": {}
      },
      "source": [
        "@staticmethod\n",
        "def render_JSON(json_data):\n",
        "    import json\n",
        "    import uuid\n",
        "    from IPython.display import display_javascript, display_html\n",
        "\n",
        "    json_str = \"\"\n",
        "    if isinstance(json_data, dict):\n",
        "        json_str = json.dumps(json_data)\n",
        "    else:\n",
        "        json_str = json_data\n",
        "    _uuid = str(uuid.uuid4())\n",
        "\n",
        "    display_html(\n",
        "        \"\"\"\n",
        "        <div id=\"{_uuid}\" style=\"width:100%;\"></div>\n",
        "        <script src=\"https://rawgit.com/caldwell/renderjson/master/renderjson.js\"></script>\n",
        "        <script>\n",
        "            document.getElementById('{_uuid}').appendChild(renderjson({json_str}))\n",
        "        </script>\n",
        "        \"\"\".format(_uuid=_uuid, json_str=json_str),\n",
        "        raw=True\n",
        "    )\n",
        "\n",
        "glTF_tools.render_JSON = render_JSON\n",
        "\n",
        "del render_JSON"
      ],
      "execution_count": 0,
      "outputs": []
    },
    {
      "cell_type": "code",
      "metadata": {
        "id": "ZG2vSuFaLoaU",
        "colab_type": "code",
        "colab": {}
      },
      "source": [
        "@staticmethod\n",
        "def accessor_with_buffer(idx, model, buffers):\n",
        "    _accessor = model['accessors'][idx]\n",
        "    _buffer_view = model['bufferViews'][_accessor['bufferView']]\n",
        "    _buffer = buffers[_buffer_view['buffer']]\n",
        "    byteLength = _buffer_view['byteLength']\n",
        "    byteOffset = _buffer_view['byteOffset']\n",
        "    \n",
        "    return _accessor, _buffer[byteOffset:byteOffset + byteLength]\n",
        "\n",
        "glTF_tools.accessor_with_buffer = accessor_with_buffer\n",
        "\n",
        "del accessor_with_buffer"
      ],
      "execution_count": 0,
      "outputs": []
    },
    {
      "cell_type": "code",
      "metadata": {
        "id": "4lRwKudIhL_9",
        "colab_type": "code",
        "colab": {}
      },
      "source": [
        "@staticmethod\n",
        "def accessor_norm(accessor):\n",
        "    import copy\n",
        "    \n",
        "    _accessor = copy.deepcopy(accessor)\n",
        "\n",
        "    # 做一些簡單的檢查，以確認必要的屬性是否存在\n",
        "    if _accessor.get(\"bufferView\") == None:\n",
        "        raise AttributeError(\"The accessor does not have the attribute of bufferView\")\n",
        "    if _accessor.get(\"componentType\") == None:\n",
        "        raise AttributeError(\"The accessor does not have the attribute of componentType\")\n",
        "    if _accessor.get(\"count\") == None:\n",
        "        raise AttributeError(\"The accessor does not have the attribute of count\")\n",
        "    if _accessor.get(\"type\") == None:\n",
        "        raise AttributeError(\"The accessor does not have the attribute of type\")\n",
        "\n",
        "    buffer_offset = _accessor.get(\"bufferOffset\")\n",
        "    _accessor[\"bufferOffset\"] = buffer_offset if buffer_offset != None else 0\n",
        "\n",
        "    return _accessor\n",
        "    \n",
        "glTF_tools.accessor_norm = accessor_norm\n",
        "\n",
        "del accessor_norm"
      ],
      "execution_count": 0,
      "outputs": []
    },
    {
      "cell_type": "code",
      "metadata": {
        "id": "pe3fkXIFhZuL",
        "colab_type": "code",
        "colab": {}
      },
      "source": [
        "@staticmethod\n",
        "def buffer_view_norm(buffer_view, target = 34962):\n",
        "    import copy\n",
        "\n",
        "    _buffer_view = copy.deepcopy(buffer_view)\n",
        "\n",
        "    # 做一些簡單的檢查，以確認必要的屬性是否存在\n",
        "    if _buffer_view.get(\"buffer\") == None:\n",
        "        raise AttributeError(\"The bufferView does not have the attribute of buffer\")\n",
        "    if _buffer_view.get(\"byteLength\") == None:\n",
        "        raise AttributeError(\"The bufferView does not have the attribute of byteLength\")\n",
        "    if _buffer_view.get(\"byteOffset\") == None:\n",
        "        raise AttributeError(\"The bufferView does not have the attribute of byteOffset\")\n",
        "\n",
        "    byte_stride = _buffer_view.get(\"byteStride\")\n",
        "    _buffer_view[\"byteStride\"] = byte_stride if byte_stride != None else 0\n",
        "\n",
        "    _target = _buffer_view.get(\"target\")\n",
        "    _buffer_view[\"target\"] = _target if _target != None else target\n",
        "\n",
        "    return _buffer_view\n",
        "    \n",
        "glTF_tools.buffer_view_norm = buffer_view_norm\n",
        "\n",
        "del buffer_view_norm"
      ],
      "execution_count": 0,
      "outputs": []
    },
    {
      "cell_type": "code",
      "metadata": {
        "id": "uSJyjB89hnEv",
        "colab_type": "code",
        "colab": {}
      },
      "source": [
        "@staticmethod\n",
        "def model_norm(model):\n",
        "    import copy\n",
        "\n",
        "    _model = copy.deepcopy(model)\n",
        "\n",
        "    for idx, accessor in enumerate(_model['accessors']):\n",
        "        _model['accessors'][idx] = glTF_tools.accessor_norm(accessor)\n",
        "\n",
        "    for mesh in _model['meshes']:\n",
        "        for primitive in mesh['primitives']:\n",
        "            accessor = _model['accessors'][primitive.get('indices')]\n",
        "            _model['bufferViews'][accessor.get('bufferView')] = glTF_tools.buffer_view_norm(_model['bufferViews'][accessor.get('bufferView')], 34963)\n",
        "\n",
        "    for idx, buffer_view in enumerate(_model['bufferViews']):\n",
        "        _model['bufferViews'][idx] = glTF_tools.buffer_view_norm(buffer_view)\n",
        "\n",
        "    return _model\n",
        "    \n",
        "glTF_tools.model_norm = model_norm\n",
        "\n",
        "del model_norm"
      ],
      "execution_count": 0,
      "outputs": []
    },
    {
      "cell_type": "code",
      "metadata": {
        "colab_type": "code",
        "id": "UjQih_EOL_ic",
        "colab": {}
      },
      "source": [
        "# !wget https://github.com/CSP-GD/notes/raw/master/practice/file_format/gltf%E6%A0%BC%E5%BC%8F%E8%A7%A3%E6%9E%90/glb/cube.glb\n",
        "\n",
        "# glb_file = open('./cube.glb', 'rb')\n",
        "\n",
        "# glb_bytes = glb_file.read()"
      ],
      "execution_count": 0,
      "outputs": []
    },
    {
      "cell_type": "code",
      "metadata": {
        "id": "CHM0jGF2FY9K",
        "colab_type": "code",
        "colab": {}
      },
      "source": [
        "# model, buffers = glTF_tools.glb_loader(glb_bytes)\n",
        "\n",
        "# glTF_tools.render_JSON(model)\n",
        "# print(buffers)"
      ],
      "execution_count": 0,
      "outputs": []
    },
    {
      "cell_type": "code",
      "metadata": {
        "id": "3ynZHvJ8FdIS",
        "colab_type": "code",
        "colab": {}
      },
      "source": [
        "# _model = glTF_tools.model_norm(model)\n",
        "\n",
        "# glTF_tools.render_JSON(_model)"
      ],
      "execution_count": 0,
      "outputs": []
    },
    {
      "cell_type": "code",
      "metadata": {
        "id": "QD5EAYXMPHy3",
        "colab_type": "code",
        "outputId": "ee1ce0d6-97d3-43a7-e527-96126e2b0705",
        "colab": {
          "base_uri": "https://localhost:8080/",
          "height": 35
        }
      },
      "source": [
        "print(\"glTF_tools is loaded\")"
      ],
      "execution_count": 37,
      "outputs": [
        {
          "output_type": "stream",
          "text": [
            "glTF_tools is loaded\n"
          ],
          "name": "stdout"
        }
      ]
    }
  ]
}