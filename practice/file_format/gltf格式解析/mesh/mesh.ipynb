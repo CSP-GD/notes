{
  "nbformat": 4,
  "nbformat_minor": 0,
  "metadata": {
    "colab": {
      "name": "mesh.ipynb",
      "provenance": []
    },
    "kernelspec": {
      "name": "python3",
      "display_name": "Python 3"
    },
    "accelerator": "GPU"
  },
  "cells": [
    {
      "cell_type": "code",
      "metadata": {
        "id": "-Wi2Zotjz26M",
        "colab_type": "code",
        "outputId": "40289824-6c03-46e3-82e5-c7ddead2f1ba",
        "colab": {
          "base_uri": "https://localhost:8080/",
          "height": 306
        }
      },
      "source": [
        "!wget https://github.com/CSP-GD/notes/raw/master/practice/file_format/gltf%E6%A0%BC%E5%BC%8F%E8%A7%A3%E6%9E%90/gltf-tools.ipynb -O gltf-tools.ipynb\n",
        "%run ./gltf-tools.ipynb"
      ],
      "execution_count": 1,
      "outputs": [
        {
          "output_type": "stream",
          "text": [
            "--2020-05-05 05:34:23--  https://github.com/CSP-GD/notes/raw/master/practice/file_format/gltf%E6%A0%BC%E5%BC%8F%E8%A7%A3%E6%9E%90/gltf-tools.ipynb\n",
            "Resolving github.com (github.com)... 140.82.114.3\n",
            "Connecting to github.com (github.com)|140.82.114.3|:443... connected.\n",
            "HTTP request sent, awaiting response... 302 Found\n",
            "Location: https://raw.githubusercontent.com/CSP-GD/notes/master/practice/file_format/gltf%E6%A0%BC%E5%BC%8F%E8%A7%A3%E6%9E%90/gltf-tools.ipynb [following]\n",
            "--2020-05-05 05:34:24--  https://raw.githubusercontent.com/CSP-GD/notes/master/practice/file_format/gltf%E6%A0%BC%E5%BC%8F%E8%A7%A3%E6%9E%90/gltf-tools.ipynb\n",
            "Resolving raw.githubusercontent.com (raw.githubusercontent.com)... 151.101.0.133, 151.101.64.133, 151.101.128.133, ...\n",
            "Connecting to raw.githubusercontent.com (raw.githubusercontent.com)|151.101.0.133|:443... connected.\n",
            "HTTP request sent, awaiting response... 200 OK\n",
            "Length: 10155 (9.9K) [text/plain]\n",
            "Saving to: ‘gltf-tools.ipynb’\n",
            "\n",
            "gltf-tools.ipynb    100%[===================>]   9.92K  --.-KB/s    in 0s      \n",
            "\n",
            "2020-05-05 05:34:25 (52.7 MB/s) - ‘gltf-tools.ipynb’ saved [10155/10155]\n",
            "\n",
            "glTF_tools is loaded\n"
          ],
          "name": "stdout"
        }
      ]
    },
    {
      "cell_type": "code",
      "metadata": {
        "id": "xDtDYRhvGd1r",
        "colab_type": "code",
        "outputId": "19433f68-2ffd-4043-c5c4-8f982c7ef097",
        "colab": {
          "base_uri": "https://localhost:8080/",
          "height": 204
        }
      },
      "source": [
        "!wget https://raw.githubusercontent.com/tensorflow/lucid/master/lucid/misc/gl/glcontext.py -O glcontext.py\n",
        "from glcontext import create_opengl_context"
      ],
      "execution_count": 2,
      "outputs": [
        {
          "output_type": "stream",
          "text": [
            "--2020-05-05 05:34:26--  https://raw.githubusercontent.com/tensorflow/lucid/master/lucid/misc/gl/glcontext.py\n",
            "Resolving raw.githubusercontent.com (raw.githubusercontent.com)... 151.101.0.133, 151.101.64.133, 151.101.128.133, ...\n",
            "Connecting to raw.githubusercontent.com (raw.githubusercontent.com)|151.101.0.133|:443... connected.\n",
            "HTTP request sent, awaiting response... 200 OK\n",
            "Length: 3866 (3.8K) [text/plain]\n",
            "Saving to: ‘glcontext.py’\n",
            "\n",
            "\rglcontext.py          0%[                    ]       0  --.-KB/s               \rglcontext.py        100%[===================>]   3.78K  --.-KB/s    in 0s      \n",
            "\n",
            "2020-05-05 05:34:27 (57.1 MB/s) - ‘glcontext.py’ saved [3866/3866]\n",
            "\n"
          ],
          "name": "stdout"
        }
      ]
    },
    {
      "cell_type": "code",
      "metadata": {
        "id": "wqEIE3Azz9XW",
        "colab_type": "code",
        "outputId": "af413f22-9cc1-4cc4-cf4e-52e1c2bcf4d9",
        "colab": {
          "base_uri": "https://localhost:8080/",
          "height": 289
        }
      },
      "source": [
        "!wget https://github.com/CSP-GD/notes/raw/master/practice/file_format/gltf%E6%A0%BC%E5%BC%8F%E8%A7%A3%E6%9E%90/mesh/cube.glb -O cube.glb\n",
        "glb_file = open('./cube.glb', 'rb')\n",
        "glb_bytes = glb_file.read()\n",
        "model, buffers = glTF_tools.glb_loader(glb_bytes)\n",
        "model = glTF_tools.model_norm(model)"
      ],
      "execution_count": 3,
      "outputs": [
        {
          "output_type": "stream",
          "text": [
            "--2020-05-05 05:34:30--  https://github.com/CSP-GD/notes/raw/master/practice/file_format/gltf%E6%A0%BC%E5%BC%8F%E8%A7%A3%E6%9E%90/mesh/cube.glb\n",
            "Resolving github.com (github.com)... 140.82.113.4\n",
            "Connecting to github.com (github.com)|140.82.113.4|:443... connected.\n",
            "HTTP request sent, awaiting response... 302 Found\n",
            "Location: https://raw.githubusercontent.com/CSP-GD/notes/master/practice/file_format/gltf%E6%A0%BC%E5%BC%8F%E8%A7%A3%E6%9E%90/mesh/cube.glb [following]\n",
            "--2020-05-05 05:34:30--  https://raw.githubusercontent.com/CSP-GD/notes/master/practice/file_format/gltf%E6%A0%BC%E5%BC%8F%E8%A7%A3%E6%9E%90/mesh/cube.glb\n",
            "Resolving raw.githubusercontent.com (raw.githubusercontent.com)... 151.101.0.133, 151.101.64.133, 151.101.128.133, ...\n",
            "Connecting to raw.githubusercontent.com (raw.githubusercontent.com)|151.101.0.133|:443... connected.\n",
            "HTTP request sent, awaiting response... 200 OK\n",
            "Length: 2280 (2.2K) [application/octet-stream]\n",
            "Saving to: ‘cube.glb’\n",
            "\n",
            "cube.glb            100%[===================>]   2.23K  --.-KB/s    in 0s      \n",
            "\n",
            "2020-05-05 05:34:31 (30.2 MB/s) - ‘cube.glb’ saved [2280/2280]\n",
            "\n"
          ],
          "name": "stdout"
        }
      ]
    },
    {
      "cell_type": "code",
      "metadata": {
        "id": "km3ov16R0CoW",
        "colab_type": "code",
        "outputId": "0f17e6dc-a789-436c-f7ea-bc010ca01f4f",
        "colab": {
          "base_uri": "https://localhost:8080/",
          "height": 34
        }
      },
      "source": [
        "glTF_tools.render_JSON(model)"
      ],
      "execution_count": 4,
      "outputs": [
        {
          "output_type": "display_data",
          "data": {
            "text/html": [
              "\n",
              "        <div id=\"6546771a-4a2b-4daa-9eee-c451f9d009e4\" style=\"width:100%;\"></div>\n",
              "        <script src=\"https://rawgit.com/caldwell/renderjson/master/renderjson.js\"></script>\n",
              "        <script>\n",
              "            document.getElementById('6546771a-4a2b-4daa-9eee-c451f9d009e4').appendChild(renderjson({\"asset\": {\"generator\": \"Khronos glTF Blender I/O v1.1.46\", \"version\": \"2.0\"}, \"scene\": 0, \"scenes\": [{\"name\": \"Scene\", \"nodes\": [0, 1, 2]}], \"nodes\": [{\"mesh\": 0, \"name\": \"Cube\"}, {\"name\": \"Light\", \"rotation\": [0.16907575726509094, 0.7558803558349609, -0.27217137813568115, 0.570947527885437], \"translation\": [4.076245307922363, 5.903861999511719, -1.0054539442062378]}, {\"name\": \"Camera\", \"rotation\": [0.483536034822464, 0.33687159419059753, -0.20870360732078552, 0.7804827094078064], \"translation\": [7.358891487121582, 4.958309173583984, 6.925790786743164]}], \"materials\": [{\"doubleSided\": true, \"emissiveFactor\": [0, 0, 0], \"name\": \"Material\", \"pbrMetallicRoughness\": {\"baseColorFactor\": [0.800000011920929, 0.800000011920929, 0.800000011920929, 1], \"metallicFactor\": 0, \"roughnessFactor\": 0.4000000059604645}}], \"meshes\": [{\"name\": \"Cube\", \"primitives\": [{\"attributes\": {\"POSITION\": 0, \"NORMAL\": 1, \"TEXCOORD_0\": 2}, \"indices\": 3, \"material\": 0}]}], \"accessors\": [{\"bufferView\": 0, \"componentType\": 5126, \"count\": 24, \"max\": [1, 1, 1], \"min\": [-1, -1, -1], \"type\": \"VEC3\", \"bufferOffset\": 0}, {\"bufferView\": 1, \"componentType\": 5126, \"count\": 24, \"type\": \"VEC3\", \"bufferOffset\": 0}, {\"bufferView\": 2, \"componentType\": 5126, \"count\": 24, \"type\": \"VEC2\", \"bufferOffset\": 0}, {\"bufferView\": 3, \"componentType\": 5123, \"count\": 36, \"type\": \"SCALAR\", \"bufferOffset\": 0}], \"bufferViews\": [{\"buffer\": 0, \"byteLength\": 288, \"byteOffset\": 0, \"byteStride\": 0, \"target\": 34962}, {\"buffer\": 0, \"byteLength\": 288, \"byteOffset\": 288, \"byteStride\": 0, \"target\": 34962}, {\"buffer\": 0, \"byteLength\": 192, \"byteOffset\": 576, \"byteStride\": 0, \"target\": 34962}, {\"buffer\": 0, \"byteLength\": 72, \"byteOffset\": 768, \"byteStride\": 0, \"target\": 34963}], \"buffers\": [{\"byteLength\": 840}]}))\n",
              "        </script>\n",
              "        "
            ]
          },
          "metadata": {
            "tags": []
          }
        }
      ]
    },
    {
      "cell_type": "markdown",
      "metadata": {
        "id": "uDPDN1lSMl5q",
        "colab_type": "text"
      },
      "source": [
        "##### Copyright 2018 Google LLC.\n",
        "\n",
        "Licensed under the Apache License, Version 2.0 (the \"License\");"
      ]
    },
    {
      "cell_type": "code",
      "metadata": {
        "id": "Omj0FSZhLMXW",
        "colab_type": "code",
        "colab": {}
      },
      "source": [
        "# Licensed under the Apache License, Version 2.0 (the \"License\");\n",
        "# you may not use this file except in compliance with the License.\n",
        "# You may obtain a copy of the License at\n",
        "#\n",
        "# https://www.apache.org/licenses/LICENSE-2.0\n",
        "#\n",
        "# Unless required by applicable law or agreed to in writing, software\n",
        "# distributed under the License is distributed on an \"AS IS\" BASIS,\n",
        "# WITHOUT WARRANTIES OR CONDITIONS OF ANY KIND, either express or implied.\n",
        "# See the License for the specific language governing permissions and\n",
        "# limitations under the License."
      ],
      "execution_count": 0,
      "outputs": []
    },
    {
      "cell_type": "markdown",
      "metadata": {
        "id": "BmsGhnakM0ja",
        "colab_type": "text"
      },
      "source": [
        "# Using OpenGL with Colab Cloud GPUs\n",
        "\n",
        "This notebook demonstrates obtaining OpenGL context on GPU Colab kernels."
      ]
    },
    {
      "cell_type": "code",
      "metadata": {
        "id": "qxRuD3-WMqh5",
        "colab_type": "code",
        "colab": {}
      },
      "source": [
        "!pip install -q moviepy"
      ],
      "execution_count": 0,
      "outputs": []
    },
    {
      "cell_type": "code",
      "metadata": {
        "id": "mMtZ4SGQJnTZ",
        "colab_type": "code",
        "colab": {
          "base_uri": "https://localhost:8080/",
          "height": 34
        },
        "outputId": "37a69974-f3a2-40f9-8d7c-b70cb02621ad"
      },
      "source": [
        "!pip install PyGLM"
      ],
      "execution_count": 6,
      "outputs": [
        {
          "output_type": "stream",
          "text": [
            "Requirement already satisfied: PyGLM in /usr/local/lib/python3.6/dist-packages (1.2.0)\n"
          ],
          "name": "stdout"
        }
      ]
    },
    {
      "cell_type": "code",
      "metadata": {
        "id": "ZTWpjkyXNPVD",
        "colab_type": "code",
        "colab": {}
      },
      "source": [
        "import numpy as np\n",
        "import json\n",
        "import moviepy.editor as mvp\n",
        "from google.colab import files\n",
        "import PIL\n",
        "import glm\n"
      ],
      "execution_count": 0,
      "outputs": []
    },
    {
      "cell_type": "code",
      "metadata": {
        "id": "Y_ytjJ-kM8rJ",
        "colab_type": "code",
        "outputId": "bdeb2091-b7da-497f-8ba4-4cf28853d128",
        "colab": {
          "base_uri": "https://localhost:8080/",
          "height": 51
        }
      },
      "source": [
        "# Now it's safe to import OpenGL and EGL functions\n",
        "import OpenGL.GL as gl\n",
        "\n",
        "# create_opengl_context() creates GL context that is attached to an\n",
        "# offscreen surface of specified size. Note that rendering to buffers\n",
        "# of different size and format is still possible with OpenGL Framebuffers.\n",
        "#\n",
        "# Users are expected to directly use EGL calls in case more advanced\n",
        "# context management is required.\n",
        "WIDTH, HEIGHT = 640, 480\n",
        "create_opengl_context((WIDTH, HEIGHT))\n",
        "    \n",
        "# OpenGL context is available here.\n",
        "\n",
        "print(gl.glGetString(gl.GL_VERSION))\n",
        "print(gl.glGetString(gl.GL_VENDOR)) \n",
        "#print(gl.glGetString(gl.GL_EXTENSIONS))"
      ],
      "execution_count": 8,
      "outputs": [
        {
          "output_type": "stream",
          "text": [
            "b'4.6.0 NVIDIA 418.67'\n",
            "b'NVIDIA Corporation'\n"
          ],
          "name": "stdout"
        }
      ]
    },
    {
      "cell_type": "code",
      "metadata": {
        "id": "UPcZo9-ZMgDX",
        "colab_type": "code",
        "colab": {}
      },
      "source": [
        "vert = \"\"\"\n",
        "#version 330\n",
        "\n",
        "// 物件預設頂點位置\n",
        "layout (location = 0) in vec3 POSITION;\n",
        "\n",
        "// 物件預設法向量\n",
        "layout (location = 1) in vec3 NORMAL;\n",
        "\n",
        "layout (location = 2) in vec2 TEXCOORD_0;\n",
        "\n",
        "layout (location = 3) in vec4 JOINTS_0;\n",
        "\n",
        "layout (location = 4) in vec4 WEIGHTS_0;\n",
        "\n",
        "// 物件姿態矩陣\n",
        "uniform mat4 u_Posture;\n",
        "// 鏡頭焦距\n",
        "uniform mat4 u_Projection;\n",
        "// 鏡頭姿態矩陣\n",
        "uniform mat4 u_Camera;\n",
        "\n",
        "void main(){\n",
        "    gl_Position = u_Projection * u_Camera * u_Posture * vec4(POSITION, 1);\n",
        "}\n",
        "\"\"\""
      ],
      "execution_count": 0,
      "outputs": []
    },
    {
      "cell_type": "code",
      "metadata": {
        "id": "Iljz6ZloM_Zq",
        "colab_type": "code",
        "colab": {}
      },
      "source": [
        "frag = \"\"\"\n",
        "#version 330\n",
        "\n",
        "out vec4 color;\n",
        "\n",
        "void main() {\n",
        "    color = vec4(1.0, 1.0, 0.0, 1.0);\n",
        "}\n",
        "\"\"\""
      ],
      "execution_count": 0,
      "outputs": []
    },
    {
      "cell_type": "code",
      "metadata": {
        "id": "bcn3fgAMOI-P",
        "colab_type": "code",
        "colab": {}
      },
      "source": [
        "from OpenGL.GL import shaders\n",
        "main_program = shaders.compileProgram(\n",
        "        shaders.compileShader(\n",
        "            vert,\n",
        "            gl.GL_VERTEX_SHADER\n",
        "        ),\n",
        "        shaders.compileShader(\n",
        "            frag,\n",
        "            gl.GL_FRAGMENT_SHADER\n",
        "        )\n",
        "    )\n",
        "\n",
        "gl.glUseProgram(main_program)"
      ],
      "execution_count": 0,
      "outputs": []
    },
    {
      "cell_type": "code",
      "metadata": {
        "id": "n2LrYMLtp8rN",
        "colab_type": "code",
        "colab": {}
      },
      "source": [
        "def create_vbo(gl, buffer_view, buffer):\n",
        "    buffer = buffers[buffer_view.get(\"buffer\")]\n",
        "\n",
        "    target = buffer_view.get(\"target\")\n",
        "    byte_offset = buffer_view.get(\"byteOffset\")\n",
        "    byte_length = buffer_view.get(\"byteLength\")\n",
        "\n",
        "    vbo = gl.constants.GLuint()\n",
        "    gl.glCreateBuffers(1, gl.ctypes.pointer(vbo))\n",
        "    gl.glBindBuffer(\n",
        "        target,\n",
        "        vbo\n",
        "    )\n",
        "    \n",
        "    gl.glBufferData(\n",
        "        target,\n",
        "        byte_length,\n",
        "        buffer[byte_offset:byte_offset+byte_length],\n",
        "        gl.GL_STATIC_DRAW\n",
        "    )\n",
        "\n",
        "    gl.glBindBuffer(\n",
        "        target,\n",
        "        0\n",
        "    )\n",
        "    return vbo\n"
      ],
      "execution_count": 0,
      "outputs": []
    },
    {
      "cell_type": "code",
      "metadata": {
        "id": "8BoUxAvPnPhC",
        "colab_type": "code",
        "colab": {}
      },
      "source": [
        "def set_vertex_attribute(gl, program, attrib_name, accessor, buffer_view):\n",
        "    attribute = gl.glGetAttribLocation(program, attrib_name)\n",
        "\n",
        "    if attribute != -1:\n",
        "        type2sizes = {\n",
        "            \"SCALAR\": [1],\n",
        "            \"VEC2\": [2],\n",
        "            \"VEC3\": [3],\n",
        "            \"VEC4\": [4],\n",
        "            \"MAT2\": [2, 2],\n",
        "            \"MAT3\": [3, 3, 3],\n",
        "            \"MAT4\": [4, 4, 4, 4]\n",
        "        }\n",
        "\n",
        "        stride = buffer_view.get(\"byteStride\")\n",
        "\n",
        "        componentType = accessor.get(\"componentType\")\n",
        "        # glTF 的標準中並未提及 normalized 屬性，因此預設成 False\n",
        "        normalize = False\n",
        "        byte_offset = accessor.get(\"byteOffset\")\n",
        "\n",
        "        sizes = type2sizes[accessor[\"type\"]]\n",
        "\n",
        "        for idx,size in enumerate(sizes):\n",
        "            gl.glEnableVertexAttribArray(attribute + idx)\n",
        "            gl.glVertexAttribPointer(\n",
        "                attribute + idx,\n",
        "                size,\n",
        "                componentType,\n",
        "                normalize,\n",
        "                stride,\n",
        "                byte_offset\n",
        "            )\n"
      ],
      "execution_count": 0,
      "outputs": []
    },
    {
      "cell_type": "code",
      "metadata": {
        "id": "YUfFIvDRDBk4",
        "colab_type": "code",
        "colab": {}
      },
      "source": [
        "def create_mesh(gl, program, mesh, model, vbos):\n",
        "    vaos = []\n",
        "    indices = []\n",
        "    \n",
        "    primitives = model[\"meshes\"][mesh][\"primitives\"]\n",
        "    for primitive in primitives:\n",
        "        vao = gl.constants.GLuint()\n",
        "        gl.glCreateVertexArrays(1, gl.ctypes.pointer(vao))\n",
        "        gl.glBindVertexArray(vao)\n",
        "        for attrib_name in primitive[\"attributes\"].keys():\n",
        "            accessor = model.get(\"accessors\")[primitive.get(\"attributes\")[attrib_name]]\n",
        "            buffer_view = model.get(\"bufferViews\")[accessor.get(\"bufferView\")]\n",
        "            gl.glBindBuffer(\n",
        "                gl.GL_ARRAY_BUFFER,\n",
        "                vbos[accessor.get(\"bufferView\")]\n",
        "            )\n",
        "            set_vertex_attribute(gl, program, attrib_name, accessor, buffer_view)\n",
        "\n",
        "        gl.glBindBuffer(\n",
        "            gl.GL_ELEMENT_ARRAY_BUFFER,\n",
        "            vbos[primitive.get(\"indices\")]\n",
        "        )\n",
        "        gl.glBindVertexArray(gl.constants.GLuint(0))\n",
        "        vaos.append(vao)\n",
        "        indices.append(model.get(\"accessors\")[primitive.get(\"indices\")])\n",
        "    return vaos, indices"
      ],
      "execution_count": 0,
      "outputs": []
    },
    {
      "cell_type": "code",
      "metadata": {
        "id": "kbKOum9liW9P",
        "colab_type": "code",
        "outputId": "dade1760-ccfd-4dbd-da34-b9cbb03f56b6",
        "colab": {
          "base_uri": "https://localhost:8080/",
          "height": 119
        }
      },
      "source": [
        "vbos = []\n",
        "for buffer_view in model[\"bufferViews\"]:\n",
        "    vbos.append(create_vbo(gl, buffer_view, buffers[buffer_view.get(\"buffer\")]))\n",
        "\n",
        "mesh_vaos, mesh_indices = create_mesh(gl, main_program, 0, model, vbos)\n",
        "mesh_vaos, mesh_indices"
      ],
      "execution_count": 41,
      "outputs": [
        {
          "output_type": "execute_result",
          "data": {
            "text/plain": [
              "([c_uint(4)],\n",
              " [{'bufferOffset': 0,\n",
              "   'bufferView': 3,\n",
              "   'componentType': 5123,\n",
              "   'count': 36,\n",
              "   'type': 'SCALAR'}])"
            ]
          },
          "metadata": {
            "tags": []
          },
          "execution_count": 41
        }
      ]
    },
    {
      "cell_type": "code",
      "metadata": {
        "id": "r_VCODUznDk7",
        "colab_type": "code",
        "colab": {
          "base_uri": "https://localhost:8080/",
          "height": 497
        },
        "outputId": "c8f4418d-da6d-49fa-ab29-ec5ba5871778"
      },
      "source": [
        "import math\n",
        "# Clear to black, fully opaque\n",
        "gl.glClearColor(0.5, 0.2, 0.5, 1.0)\n",
        "# Clear everything\n",
        "gl.glClearDepth(1.0) \n",
        "# Enable depth testing\n",
        "gl.glEnable(gl.GL_DEPTH_TEST)\n",
        "# Near things obscure far things\n",
        "gl.glDepthFunc(gl.GL_LEQUAL)\n",
        "\n",
        "gl.glClear(gl.GL_COLOR_BUFFER_BIT)\n",
        "\n",
        "gl.glBindVertexArray(mesh_vaos[0])\n",
        "\n",
        "fieldOfView = 45 * math.pi / 180 # in radians\n",
        "aspect = WIDTH / HEIGHT\n",
        "zNear = 0\n",
        "zFar = 1000.0\n",
        "projectionMatrix = \\\n",
        "glm.perspective(\n",
        "    fieldOfView,\n",
        "    aspect,\n",
        "    zNear,\n",
        "    zFar\n",
        ")\n",
        "gl.glUniformMatrix4fv(\n",
        "    gl.glGetUniformLocation(\n",
        "        main_program,\n",
        "        \"u_Projection\"\n",
        "    ),\n",
        "    1,\n",
        "    False,\n",
        "    projectionMatrix.to_list()\n",
        ")\n",
        "\n",
        "cameraMatrix = \\\n",
        "glm.translate(\n",
        "    glm.mat4(),\n",
        "    glm.vec3(0.0, 0.0, 6.0)\n",
        ")\n",
        "\n",
        "gl.glUniformMatrix4fv(\n",
        "    gl.glGetUniformLocation(\n",
        "        main_program,\n",
        "        \"u_Camera\"\n",
        "    ),\n",
        "    1,\n",
        "    False,\n",
        "    cameraMatrix.to_list()\n",
        ")\n",
        "\n",
        "gl.glUniformMatrix4fv(\n",
        "    gl.glGetUniformLocation(\n",
        "        main_program,\n",
        "        \"u_Posture\"\n",
        "    ),\n",
        "    1,\n",
        "    False,\n",
        "    glm.mat4().to_list()\n",
        ")\n",
        "\n",
        "gl.glDrawElements(\n",
        "    gl.GL_TRIANGLES, \n",
        "    mesh_indices[0].get(\"count\"),\n",
        "    mesh_indices[0].get(\"componentType\"),\n",
        "    gl.constants.GLvoidp(0)\n",
        ")\n",
        "\n",
        "\n",
        "img_buf = gl.glReadPixels(0, 0, WIDTH, HEIGHT, gl.GL_RGB, gl.GL_UNSIGNED_BYTE)\n",
        "img = np.frombuffer(img_buf, np.uint8).reshape(HEIGHT, WIDTH, 3)[::-1]\n",
        "PIL.Image.fromarray(img)"
      ],
      "execution_count": 67,
      "outputs": [
        {
          "output_type": "execute_result",
          "data": {
            "image/png": "[encoded data removed]",
            "text/plain": [
              "<PIL.Image.Image image mode=RGB size=640x480 at 0x7FF914EC2828>"
            ]
          },
          "metadata": {
            "tags": []
          },
          "execution_count": 67
        }
      ]
    },
    {
      "cell_type": "markdown",
      "metadata": {
        "id": "n_6rvRbOoeFN",
        "colab_type": "text"
      },
      "source": [
        "##  Render ShaderToy videos on GPU\n",
        "\n",
        "We now have the full power of modern OpenGL in our hands! Let's do something interesting with it!\n",
        "\n",
        "Fetching the source and rendering the [amaizing shader](https://www.shadertoy.com/view/Xtf3Rn) by Kali from [ShaderToy](https://www.shadertoy.com/view/Xtf3Rn). You can also  substitute a different `shader_id`, but note that only single-pass shaders that don't use textures are supported by the code below."
      ]
    },
    {
      "cell_type": "code",
      "metadata": {
        "id": "at5TlI-eofcE",
        "colab_type": "code",
        "colab": {}
      },
      "source": [
        "shader_id = 'Xtf3Rn'  # https://www.shadertoy.com/view/Xtf3Rn\n",
        "\n",
        "shader_json = !curl -s 'https://www.shadertoy.com/shadertoy' \\\n",
        "  -H 'Referer: https://www.shadertoy.com/view/$shader_id' \\\n",
        "  --data 's=%7B%20%22shaders%22%20%3A%20%5B%22$shader_id%22%5D%20%7D'\n",
        "shader_data = json.loads(''.join(shader_json))[0]\n",
        "\n",
        "assert len(shader_data['renderpass']) == 1, \"Only single pass shareds are supported\"\n",
        "assert len(shader_data['renderpass'][0]['inputs']) == 0,  \"Input channels are not supported\"\n",
        "\n",
        "shader_code = shader_data['renderpass'][0]['code']"
      ],
      "execution_count": 0,
      "outputs": []
    },
    {
      "cell_type": "code",
      "metadata": {
        "id": "VkN6aPS2Cntp",
        "colab_type": "code",
        "colab": {}
      },
      "source": [
        "import PIL"
      ],
      "execution_count": 0,
      "outputs": []
    },
    {
      "cell_type": "code",
      "metadata": {
        "id": "ISFwuXaUohSQ",
        "colab_type": "code",
        "outputId": "dddbcac5-731c-40b1-b9a1-0a9181e91502",
        "colab": {
          "base_uri": "https://localhost:8080/",
          "height": 497
        }
      },
      "source": [
        "from OpenGL.GL import shaders\n",
        "\n",
        "vertexPositions = np.float32([[-1, -1], [1, -1], [-1, 1], [1, 1]])\n",
        "VERTEX_SHADER = shaders.compileShader(\"\"\"\n",
        "#version 330\n",
        "layout(location = 0) in vec4 position;\n",
        "out vec2 UV;\n",
        "void main()\n",
        "{\n",
        "  UV = position.xy*0.5+0.5;\n",
        "  gl_Position = position;\n",
        "}\n",
        "\"\"\", gl.GL_VERTEX_SHADER)\n",
        "\n",
        "FRAGMENT_SHADER = shaders.compileShader(\"\"\"\n",
        "#version 330\n",
        "out vec4 outputColor;\n",
        "in vec2 UV;\n",
        "\n",
        "uniform sampler2D iChannel0;\n",
        "uniform vec3 iResolution;\n",
        "vec4 iMouse = vec4(0);\n",
        "uniform float iTime = 0.0;\n",
        "\"\"\" + shader_code + \"\"\"\n",
        "void main()\n",
        "{\n",
        "    mainImage(outputColor, UV*iResolution.xy);\n",
        "}\n",
        "\n",
        "\"\"\", gl.GL_FRAGMENT_SHADER)\n",
        "\n",
        "shader = shaders.compileProgram(VERTEX_SHADER, FRAGMENT_SHADER)\n",
        "\n",
        "\n",
        "time_loc = gl.glGetUniformLocation(shader, 'iTime')\n",
        "res_loc = gl.glGetUniformLocation(shader, 'iResolution')\n",
        "\n",
        "def render_frame(time):\n",
        "  gl.glClear(gl.GL_COLOR_BUFFER_BIT)\n",
        "  with shader:\n",
        "    gl.glUniform1f(time_loc, time)\n",
        "    gl.glUniform3f(res_loc, WIDTH, HEIGHT, 1.0)\n",
        "    \n",
        "    gl.glEnableVertexAttribArray(0);\n",
        "    gl.glVertexAttribPointer(0, 2, gl.GL_FLOAT, False, 0, vertexPositions)\n",
        "    gl.glDrawArrays(gl.GL_TRIANGLE_STRIP, 0, 4)\n",
        "  img_buf = gl.glReadPixels(0, 0, WIDTH, HEIGHT, gl.GL_RGB, gl.GL_UNSIGNED_BYTE)\n",
        "  img = np.frombuffer(img_buf, np.uint8).reshape(HEIGHT, WIDTH, 3)[::-1]\n",
        "  return img\n",
        "PIL.Image.fromarray(render_frame(10.0))"
      ],
      "execution_count": 20,
      "outputs": [
        {
          "output_type": "execute_result",
          "data": {
            "image/png": "[encoded data removed]",
            "text/plain": [
              "<PIL.Image.Image image mode=RGB size=640x480 at 0x7FF21350CA20>"
            ]
          },
          "metadata": {
            "tags": []
          },
          "execution_count": 20
        }
      ]
    },
    {
      "cell_type": "markdown",
      "metadata": {
        "id": "dQ_8-SLU38RY",
        "colab_type": "text"
      },
      "source": [
        "Use [MoviePy](https://zulko.github.io/moviepy/) to generate a video."
      ]
    },
    {
      "cell_type": "code",
      "metadata": {
        "id": "k8yl5IN2o8Zl",
        "colab_type": "code",
        "outputId": "7f764593-0928-4e01-ea2d-55975472a18a",
        "colab": {
          "base_uri": "https://localhost:8080/",
          "height": 119
        }
      },
      "source": [
        "clip = mvp.VideoClip(render_frame, duration=10.0)\n",
        "clip.write_videofile('out.mp4', fps=60)\n",
        "files.download('out.mp4')"
      ],
      "execution_count": 21,
      "outputs": [
        {
          "output_type": "stream",
          "text": [
            "[MoviePy] >>>> Building video out.mp4\n",
            "[MoviePy] Writing video out.mp4\n"
          ],
          "name": "stdout"
        },
        {
          "output_type": "stream",
          "text": [
            "100%|█████████▉| 600/601 [00:05<00:00, 104.22it/s]"
          ],
          "name": "stderr"
        },
        {
          "output_type": "stream",
          "text": [
            "[MoviePy] Done.\n",
            "[MoviePy] >>>> Video ready: out.mp4 \n",
            "\n"
          ],
          "name": "stdout"
        },
        {
          "output_type": "stream",
          "text": [
            "\n"
          ],
          "name": "stderr"
        }
      ]
    },
    {
      "cell_type": "code",
      "metadata": {
        "id": "UrZUkEQo1w1i",
        "colab_type": "code",
        "colab": {}
      },
      "source": [
        ""
      ],
      "execution_count": 0,
      "outputs": []
    }
  ]
}