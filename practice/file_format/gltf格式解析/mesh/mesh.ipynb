{
  "nbformat": 4,
  "nbformat_minor": 0,
  "metadata": {
    "colab": {
      "name": "mesh.ipynb",
      "provenance": [],
      "toc_visible": true
    },
    "kernelspec": {
      "name": "python3",
      "display_name": "Python 3"
    },
    "accelerator": "GPU"
  },
  "cells": [
    {
      "cell_type": "markdown",
      "metadata": {
        "id": "2EK2Ffjg4CFW",
        "colab_type": "text"
      },
      "source": [
        "# GLTF 格式教學 Mesh 篇"
      ]
    },
    {
      "cell_type": "markdown",
      "metadata": {
        "id": "FqOny3Yv4Oj2",
        "colab_type": "text"
      },
      "source": [
        "<a href=\"https://colab.research.google.com/github/CSP-GD/notes/blob/master/practice/file_format/gltf格式解析/mesh/mesh.ipynb\">\n",
        "  <img src=\"https://colab.research.google.com/assets/colab-badge.svg\" alt=\"Open In Colab\"/>\n",
        "</a>\n",
        "\n",
        "[`Open in observablehq`](https://observablehq.com/@toonnyy8/gltf-mesh)"
      ]
    },
    {
      "cell_type": "markdown",
      "metadata": {
        "id": "dRBs_fkV4YRQ",
        "colab_type": "text"
      },
      "source": [
        "![圖 1. meshes \\[1\\]](https://github.com/CSP-GD/notes/raw/master/practice/file_format/gltf格式解析/mesh/gltfOverview-2.0.0b-mesh.png)\n",
        "\n",
        "圖 1. meshes \\[1\\]\n",
        "\n",
        "此版本暫時不探討 morph 的部分"
      ]
    },
    {
      "cell_type": "code",
      "metadata": {
        "id": "-Wi2Zotjz26M",
        "colab_type": "code",
        "outputId": "d61eabf1-ce8c-4a9d-94a0-3a45b5432ad4",
        "colab": {
          "base_uri": "https://localhost:8080/",
          "height": 34
        }
      },
      "source": [
        "!wget -q https://github.com/CSP-GD/notes/raw/master/practice/file_format/gltf格式解析/gltf-tools.ipynb -O gltf-tools.ipynb\n",
        "%run ./gltf-tools.ipynb"
      ],
      "execution_count": 1,
      "outputs": [
        {
          "output_type": "stream",
          "text": [
            "glTF_tools is loaded\n"
          ],
          "name": "stdout"
        }
      ]
    },
    {
      "cell_type": "code",
      "metadata": {
        "id": "wqEIE3Azz9XW",
        "colab_type": "code",
        "outputId": "4c94a286-05a5-4424-e84c-4d45abc82077",
        "colab": {
          "base_uri": "https://localhost:8080/",
          "height": 34
        }
      },
      "source": [
        "!wget -q https://github.com/CSP-GD/notes/raw/master/practice/file_format/gltf格式解析/mesh/cube.glb -O cube.glb\n",
        "glb_file = open('./cube.glb', 'rb')\n",
        "glb_bytes = glb_file.read()\n",
        "model, buffers = glTF_tools.glb_loader(glb_bytes)\n",
        "model = glTF_tools.model_norm(model)\n",
        "\n",
        "glTF_tools.render_JSON(model)"
      ],
      "execution_count": 2,
      "outputs": [
        {
          "output_type": "display_data",
          "data": {
            "text/html": [
              "\n",
              "        <div id=\"8248262f-b373-4afe-8704-8d4aa9dbcbf9\" style=\"width:100%;\"></div>\n",
              "        <script src=\"https://rawgit.com/caldwell/renderjson/master/renderjson.js\"></script>\n",
              "        <script>\n",
              "            document.getElementById('8248262f-b373-4afe-8704-8d4aa9dbcbf9').appendChild(renderjson({\"asset\": {\"generator\": \"Khronos glTF Blender I/O v1.1.46\", \"version\": \"2.0\"}, \"scene\": 0, \"scenes\": [{\"name\": \"Scene\", \"nodes\": [0, 1, 2]}], \"nodes\": [{\"mesh\": 0, \"name\": \"Cube\"}, {\"name\": \"Light\", \"rotation\": [0.16907575726509094, 0.7558803558349609, -0.27217137813568115, 0.570947527885437], \"translation\": [4.076245307922363, 5.903861999511719, -1.0054539442062378]}, {\"name\": \"Camera\", \"rotation\": [0.483536034822464, 0.33687159419059753, -0.20870360732078552, 0.7804827094078064], \"translation\": [7.358891487121582, 4.958309173583984, 6.925790786743164]}], \"materials\": [{\"doubleSided\": true, \"emissiveFactor\": [0, 0, 0], \"name\": \"Material\", \"pbrMetallicRoughness\": {\"baseColorFactor\": [0.800000011920929, 0.800000011920929, 0.800000011920929, 1], \"metallicFactor\": 0, \"roughnessFactor\": 0.4000000059604645}}], \"meshes\": [{\"name\": \"Cube\", \"primitives\": [{\"attributes\": {\"POSITION\": 0, \"NORMAL\": 1, \"TEXCOORD_0\": 2}, \"indices\": 3, \"material\": 0}]}], \"accessors\": [{\"bufferView\": 0, \"componentType\": 5126, \"count\": 24, \"max\": [1, 1, 1], \"min\": [-1, -1, -1], \"type\": \"VEC3\", \"bufferOffset\": 0}, {\"bufferView\": 1, \"componentType\": 5126, \"count\": 24, \"type\": \"VEC3\", \"bufferOffset\": 0}, {\"bufferView\": 2, \"componentType\": 5126, \"count\": 24, \"type\": \"VEC2\", \"bufferOffset\": 0}, {\"bufferView\": 3, \"componentType\": 5123, \"count\": 36, \"type\": \"SCALAR\", \"bufferOffset\": 0}], \"bufferViews\": [{\"buffer\": 0, \"byteLength\": 288, \"byteOffset\": 0, \"byteStride\": 0, \"target\": 34962}, {\"buffer\": 0, \"byteLength\": 288, \"byteOffset\": 288, \"byteStride\": 0, \"target\": 34962}, {\"buffer\": 0, \"byteLength\": 192, \"byteOffset\": 576, \"byteStride\": 0, \"target\": 34962}, {\"buffer\": 0, \"byteLength\": 72, \"byteOffset\": 768, \"byteStride\": 0, \"target\": 34963}], \"buffers\": [{\"byteLength\": 840}]}))\n",
              "        </script>\n",
              "        "
            ]
          },
          "metadata": {
            "tags": []
          }
        }
      ]
    },
    {
      "cell_type": "markdown",
      "metadata": {
        "id": "BmsGhnakM0ja",
        "colab_type": "text"
      },
      "source": [
        "# Using OpenGL with Colab Cloud GPUs\n",
        "\n",
        "This notebook demonstrates obtaining OpenGL context on GPU Colab kernels."
      ]
    },
    {
      "cell_type": "markdown",
      "metadata": {
        "id": "r4bcOxyZZfkg",
        "colab_type": "text"
      },
      "source": [
        "## 建立 OpenGL Context"
      ]
    },
    {
      "cell_type": "code",
      "metadata": {
        "id": "xDtDYRhvGd1r",
        "colab_type": "code",
        "colab": {}
      },
      "source": [
        "!wget -q https://raw.githubusercontent.com/tensorflow/lucid/master/lucid/misc/gl/glcontext.py -O glcontext.py\n",
        "from glcontext import create_opengl_context"
      ],
      "execution_count": 0,
      "outputs": []
    },
    {
      "cell_type": "code",
      "metadata": {
        "id": "Y_ytjJ-kM8rJ",
        "colab_type": "code",
        "outputId": "3c493f95-a032-4e5b-c3b7-a84c15c9bef2",
        "colab": {
          "base_uri": "https://localhost:8080/",
          "height": 51
        }
      },
      "source": [
        "# Now it's safe to import OpenGL and EGL functions\n",
        "import OpenGL.GL as gl\n",
        "\n",
        "# create_opengl_context() creates GL context that is attached to an\n",
        "# offscreen surface of specified size. Note that rendering to buffers\n",
        "# of different size and format is still possible with OpenGL Framebuffers.\n",
        "#\n",
        "# Users are expected to directly use EGL calls in case more advanced\n",
        "# context management is required.\n",
        "WIDTH, HEIGHT = 640, 480\n",
        "create_opengl_context((WIDTH, HEIGHT))\n",
        "    \n",
        "# OpenGL context is available here.\n",
        "\n",
        "print(gl.glGetString(gl.GL_VERSION))\n",
        "print(gl.glGetString(gl.GL_VENDOR)) \n",
        "#print(gl.glGetString(gl.GL_EXTENSIONS))"
      ],
      "execution_count": 4,
      "outputs": [
        {
          "output_type": "stream",
          "text": [
            "b'4.6.0 NVIDIA 418.67'\n",
            "b'NVIDIA Corporation'\n"
          ],
          "name": "stdout"
        }
      ]
    },
    {
      "cell_type": "markdown",
      "metadata": {
        "id": "plA7JehYZ5Tr",
        "colab_type": "text"
      },
      "source": [
        "## 建立並編譯 shader"
      ]
    },
    {
      "cell_type": "code",
      "metadata": {
        "id": "UPcZo9-ZMgDX",
        "colab_type": "code",
        "colab": {}
      },
      "source": [
        "vert = \"\"\"\n",
        "#version 330\n",
        "\n",
        "// 物件預設頂點位置\n",
        "layout (location = 0) in vec3 POSITION;\n",
        "\n",
        "// 物件預設法向量\n",
        "layout (location = 1) in vec3 NORMAL;\n",
        "\n",
        "layout (location = 2) in vec2 TEXCOORD_0;\n",
        "\n",
        "layout (location = 3) in vec4 JOINTS_0;\n",
        "\n",
        "layout (location = 4) in vec4 WEIGHTS_0;\n",
        "\n",
        "uniform mat4 MVP;\n",
        "\n",
        "void main(){\n",
        "    gl_Position = MVP * vec4(POSITION, 1.0);\n",
        "}\n",
        "\"\"\""
      ],
      "execution_count": 0,
      "outputs": []
    },
    {
      "cell_type": "code",
      "metadata": {
        "id": "Iljz6ZloM_Zq",
        "colab_type": "code",
        "colab": {}
      },
      "source": [
        "frag = \"\"\"\n",
        "#version 330\n",
        "\n",
        "out vec4 color;\n",
        "\n",
        "void main() {\n",
        "    color = vec4(1.0, 1.0, 0.0, 0.5);\n",
        "}\n",
        "\"\"\""
      ],
      "execution_count": 0,
      "outputs": []
    },
    {
      "cell_type": "code",
      "metadata": {
        "id": "bcn3fgAMOI-P",
        "colab_type": "code",
        "colab": {}
      },
      "source": [
        "from OpenGL.GL import shaders\n",
        "main_program = \\\n",
        "shaders.compileProgram(\n",
        "    shaders.compileShader(\n",
        "        vert,\n",
        "        gl.GL_VERTEX_SHADER,\n",
        "    ),\n",
        "    shaders.compileShader(\n",
        "        frag,\n",
        "        gl.GL_FRAGMENT_SHADER,\n",
        "    ),\n",
        ")\n",
        "\n",
        "gl.glUseProgram(main_program)"
      ],
      "execution_count": 0,
      "outputs": []
    },
    {
      "cell_type": "markdown",
      "metadata": {
        "id": "iZBQvL5OaFCn",
        "colab_type": "text"
      },
      "source": [
        "## 利用 glTF 中的 bufferView 建立 vertex buffer object"
      ]
    },
    {
      "cell_type": "code",
      "metadata": {
        "id": "n2LrYMLtp8rN",
        "colab_type": "code",
        "colab": {}
      },
      "source": [
        "def create_vbo(gl, buffer_view, buffer):\n",
        "    buffer = buffers[buffer_view.get(\"buffer\")]\n",
        "\n",
        "    target = buffer_view.get(\"target\")\n",
        "    byte_offset = buffer_view.get(\"byteOffset\")\n",
        "    byte_length = buffer_view.get(\"byteLength\")\n",
        "\n",
        "    vbo = gl.constants.GLuint()\n",
        "    gl.glCreateBuffers(1, gl.ctypes.pointer(vbo))\n",
        "    gl.glBindBuffer(\n",
        "        target,\n",
        "        vbo,\n",
        "    )\n",
        "    \n",
        "    gl.glBufferData(\n",
        "        target,\n",
        "        byte_length,\n",
        "        buffer[byte_offset:byte_offset+byte_length],\n",
        "        gl.GL_STATIC_DRAW,\n",
        "    )\n",
        "\n",
        "    gl.glBindBuffer(\n",
        "        target,\n",
        "        0,\n",
        "    )\n",
        "    return vbo\n"
      ],
      "execution_count": 0,
      "outputs": []
    },
    {
      "cell_type": "markdown",
      "metadata": {
        "id": "oHJQnlyKaa0m",
        "colab_type": "text"
      },
      "source": [
        "### 將 bufferView 全部都建立成 vertex buffer object"
      ]
    },
    {
      "cell_type": "code",
      "metadata": {
        "id": "ViGUphO868xw",
        "colab_type": "code",
        "colab": {}
      },
      "source": [
        "vbos = \\\n",
        "[\n",
        "    create_vbo(\n",
        "        gl,\n",
        "        buffer_view,\n",
        "        buffers[buffer_view.get(\"buffer\")],\n",
        "    ) for buffer_view in model[\"bufferViews\"]\n",
        "]"
      ],
      "execution_count": 0,
      "outputs": []
    },
    {
      "cell_type": "markdown",
      "metadata": {
        "id": "uQer0d85atUE",
        "colab_type": "text"
      },
      "source": [
        "## glTF 中的 Accessor 是用來設定 vertex attribute pointer"
      ]
    },
    {
      "cell_type": "code",
      "metadata": {
        "id": "8BoUxAvPnPhC",
        "colab_type": "code",
        "colab": {}
      },
      "source": [
        "def set_vertex_attribute(gl, program, attrib_name, accessor, buffer_view):\n",
        "    attribute = gl.glGetAttribLocation(program, attrib_name)\n",
        "\n",
        "    if attribute != -1:\n",
        "        type2sizes = {\n",
        "            \"SCALAR\": [1],\n",
        "            \"VEC2\": [2],\n",
        "            \"VEC3\": [3],\n",
        "            \"VEC4\": [4],\n",
        "            \"MAT2\": [2, 2],\n",
        "            \"MAT3\": [3, 3, 3],\n",
        "            \"MAT4\": [4, 4, 4, 4],\n",
        "        }\n",
        "\n",
        "        stride = buffer_view.get(\"byteStride\")\n",
        "\n",
        "        componentType = accessor.get(\"componentType\")\n",
        "        # glTF 的標準中並未提及 normalized 屬性，因此預設成 False\n",
        "        normalize = False\n",
        "        byte_offset = accessor.get(\"byteOffset\")\n",
        "\n",
        "        sizes = type2sizes[accessor[\"type\"]]\n",
        "\n",
        "        for idx,size in enumerate(sizes):\n",
        "            gl.glEnableVertexAttribArray(attribute + idx)\n",
        "            gl.glVertexAttribPointer(\n",
        "                attribute + idx,\n",
        "                size,\n",
        "                componentType,\n",
        "                normalize,\n",
        "                stride,\n",
        "                byte_offset,\n",
        "            )\n"
      ],
      "execution_count": 0,
      "outputs": []
    },
    {
      "cell_type": "markdown",
      "metadata": {
        "id": "_IrkRo68bMOh",
        "colab_type": "text"
      },
      "source": [
        "## 有了 set_vertex_attribute 這個函數與 vbos，就可以建立出 primitive (vao) 了"
      ]
    },
    {
      "cell_type": "code",
      "metadata": {
        "id": "L7D5p-2r0jCZ",
        "colab_type": "code",
        "colab": {}
      },
      "source": [
        "def create_primitive(gl, program, model, primitive, vbos):\n",
        "    vao = gl.constants.GLuint()\n",
        "    gl.glCreateVertexArrays(1, gl.ctypes.pointer(vao))\n",
        "    gl.glBindVertexArray(vao)\n",
        "    for attrib_name in primitive[\"attributes\"].keys():\n",
        "        accessor = model.get(\"accessors\")[primitive.get(\"attributes\")[attrib_name]]\n",
        "        buffer_view = model.get(\"bufferViews\")[accessor.get(\"bufferView\")]\n",
        "        gl.glBindBuffer(\n",
        "            gl.GL_ARRAY_BUFFER,\n",
        "            vbos[accessor.get(\"bufferView\")],\n",
        "        )\n",
        "        set_vertex_attribute(gl, program, attrib_name, accessor, buffer_view)\n",
        "\n",
        "    gl.glBindBuffer(\n",
        "        gl.GL_ELEMENT_ARRAY_BUFFER,\n",
        "        vbos[primitive.get(\"indices\")],\n",
        "    )\n",
        "    gl.glBindVertexArray(gl.constants.GLuint(0))\n",
        "\n",
        "    return vao"
      ],
      "execution_count": 0,
      "outputs": []
    },
    {
      "cell_type": "markdown",
      "metadata": {
        "id": "Ap34NXdzb8bc",
        "colab_type": "text"
      },
      "source": [
        "## 而每個 mesh 又是由多個 primitive 組成"
      ]
    },
    {
      "cell_type": "code",
      "metadata": {
        "id": "YUfFIvDRDBk4",
        "colab_type": "code",
        "colab": {}
      },
      "source": [
        "def create_mesh(gl, program, mesh, model, vbos):\n",
        "    primitives = model[\"meshes\"][mesh][\"primitives\"]\n",
        "    return \\\n",
        "    [\n",
        "        {\n",
        "            \"primitive\":create_primitive(gl, program, model, primitive, vbos),\n",
        "            \"componentType\":model.get(\"accessors\")[primitive.get(\"indices\")].get(\"componentType\"),\n",
        "            \"count\":model.get(\"accessors\")[primitive.get(\"indices\")].get(\"count\"),\n",
        "        } for primitive in primitives\n",
        "    ]"
      ],
      "execution_count": 0,
      "outputs": []
    },
    {
      "cell_type": "code",
      "metadata": {
        "id": "kbKOum9liW9P",
        "colab_type": "code",
        "outputId": "5200373a-85c4-4c14-88a1-acbb61c57e73",
        "colab": {
          "base_uri": "https://localhost:8080/",
          "height": 34
        }
      },
      "source": [
        "mesh_elements = create_mesh(gl, main_program, 0, model, vbos)\n",
        "mesh_elements"
      ],
      "execution_count": 13,
      "outputs": [
        {
          "output_type": "execute_result",
          "data": {
            "text/plain": [
              "[{'componentType': 5123, 'count': 36, 'primitive': c_uint(1)}]"
            ]
          },
          "metadata": {
            "tags": []
          },
          "execution_count": 13
        }
      ]
    },
    {
      "cell_type": "code",
      "metadata": {
        "id": "Adyw4VN6xj_U",
        "colab_type": "code",
        "colab": {}
      },
      "source": [
        "import numpy as np\n",
        "import PIL\n",
        "\n",
        "def render_mesh(gl, program, mvp, mesh_elements):\n",
        "    for mesh_element in mesh_elements:\n",
        "        gl.glBindVertexArray(mesh_element[\"primitive\"])\n",
        "\n",
        "        gl.glUniformMatrix4fv(\n",
        "            gl.glGetUniformLocation(\n",
        "                program,\n",
        "                \"MVP\"\n",
        "            ),\n",
        "            1,\n",
        "            False,\n",
        "            mvp.to_list(),\n",
        "        )\n",
        "\n",
        "        gl.glDrawElements(\n",
        "            gl.GL_TRIANGLES, \n",
        "            mesh_element[\"count\"],\n",
        "            mesh_element[\"componentType\"],\n",
        "            gl.constants.GLvoidp(0),\n",
        "        )\n",
        "\n",
        "        \n",
        "    img_buf = gl.glReadPixels(0, 0, WIDTH, HEIGHT, gl.GL_RGB, gl.GL_UNSIGNED_BYTE)\n",
        "    img = np.frombuffer(img_buf, np.uint8).reshape(HEIGHT, WIDTH, 3)[::-1]\n",
        "\n",
        "    return PIL.Image.fromarray(img)"
      ],
      "execution_count": 0,
      "outputs": []
    },
    {
      "cell_type": "code",
      "metadata": {
        "id": "QV3uSik2Zaed",
        "colab_type": "code",
        "colab": {}
      },
      "source": [
        "!pip install -q PyGLM"
      ],
      "execution_count": 0,
      "outputs": []
    },
    {
      "cell_type": "code",
      "metadata": {
        "id": "r_VCODUznDk7",
        "colab_type": "code",
        "outputId": "67173af9-46dd-487b-ee0e-c36d81dc7383",
        "colab": {
          "base_uri": "https://localhost:8080/",
          "height": 497
        }
      },
      "source": [
        "import glm\n",
        "import math\n",
        "\n",
        "# Clear to black, fully opaque\n",
        "gl.glClearColor(0.5, 0.2, 0.5, 1.0)\n",
        "# Clear everything\n",
        "gl.glClearDepth(1.0) \n",
        "# Enable depth testing\n",
        "gl.glEnable(gl.GL_DEPTH_TEST)\n",
        "# Near things obscure far things\n",
        "gl.glDepthFunc(gl.GL_LEQUAL)\n",
        "\n",
        "gl.glClear(gl.GL_COLOR_BUFFER_BIT | gl.GL_DEPTH_BUFFER_BIT)\n",
        "\n",
        "fieldOfView = 45 * math.pi / 180 # in radians\n",
        "aspect = WIDTH / HEIGHT\n",
        "zNear = 0.1\n",
        "zFar = 1000.0\n",
        "\n",
        "projectionMatrix = \\\n",
        "glm.perspective(\n",
        "    fieldOfView,\n",
        "    aspect,\n",
        "    zNear,\n",
        "    zFar,\n",
        ")\n",
        "\n",
        "cameraMatrix = \\\n",
        "glm.lookAt(\n",
        "    glm.vec3(4, 3, 3),\n",
        "    glm.vec3(0, 0, 0),\n",
        "    glm.vec3(0, 1, 0),\n",
        ")\n",
        "\n",
        "postureMatrix = \\\n",
        "glm.scale(\n",
        "    glm.mat4(),\n",
        "    glm.vec3(1.0, 1.0, 1.0),\n",
        ")\n",
        "\n",
        "mvp = projectionMatrix * cameraMatrix * postureMatrix\n",
        "\n",
        "render_mesh(gl, main_program, mvp, mesh_elements)"
      ],
      "execution_count": 16,
      "outputs": [
        {
          "output_type": "execute_result",
          "data": {
            "image/png": "[encoded data removed]",
            "text/plain": [
              "<PIL.Image.Image image mode=RGB size=640x480 at 0x7F599DE32BE0>"
            ]
          },
          "metadata": {
            "tags": []
          },
          "execution_count": 16
        }
      ]
    }
  ]
}